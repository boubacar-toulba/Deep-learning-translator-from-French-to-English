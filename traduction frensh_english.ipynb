{
  "cells": [
    {
      "cell_type": "markdown",
      "metadata": {
        "id": "0DqBKxrRHENn"
      },
      "source": [
        "**BOUBACAR TOULBA 22019**"
      ]
    },
    {
      "cell_type": "code",
      "execution_count": null,
      "metadata": {
        "colab": {
          "base_uri": "https://localhost:8080/",
          "height": 36
        },
        "id": "7SeBZpLqqEgT",
        "outputId": "efd9f2d5-c913-4c97-8d5e-9bcd4d5df67a"
      },
      "outputs": [
        {
          "data": {
            "application/vnd.google.colaboratory.intrinsic+json": {
              "type": "string"
            },
            "text/plain": [
              "'2.15.0'"
            ]
          },
          "execution_count": 4,
          "metadata": {},
          "output_type": "execute_result"
        }
      ],
      "source": [
        "# import des librairies necessaires\n",
        "import pandas as pd\n",
        "import numpy as np\n",
        "# import tensorflow_datasets as tfds\n",
        "import tensorflow as tf\n",
        "tf.__version__"
      ]
    },
    {
      "cell_type": "markdown",
      "metadata": {
        "id": "C0LlJKgkqzF7"
      },
      "source": [
        "Import des données"
      ]
    },
    {
      "cell_type": "code",
      "execution_count": null,
      "metadata": {
        "id": "32ieD8HZqyvQ"
      },
      "outputs": [],
      "source": [
        "df = pd.read_csv(\"/content/fra.txt\" , delimiter='\\t', header=None)"
      ]
    },
    {
      "cell_type": "code",
      "execution_count": null,
      "metadata": {
        "colab": {
          "base_uri": "https://localhost:8080/",
          "height": 206
        },
        "id": "o72HReXIscxk",
        "outputId": "b3d1f3b0-2552-4c59-8124-93e2b0705556"
      },
      "outputs": [
        {
          "data": {
            "application/vnd.google.colaboratory.intrinsic+json": {
              "type": "dataframe",
              "variable_name": "doc"
            },
            "text/html": [
              "\n",
              "  <div id=\"df-246744fc-9fb6-45bd-9c00-7e7c9016e998\" class=\"colab-df-container\">\n",
              "    <div>\n",
              "<style scoped>\n",
              "    .dataframe tbody tr th:only-of-type {\n",
              "        vertical-align: middle;\n",
              "    }\n",
              "\n",
              "    .dataframe tbody tr th {\n",
              "        vertical-align: top;\n",
              "    }\n",
              "\n",
              "    .dataframe thead th {\n",
              "        text-align: right;\n",
              "    }\n",
              "</style>\n",
              "<table border=\"1\" class=\"dataframe\">\n",
              "  <thead>\n",
              "    <tr style=\"text-align: right;\">\n",
              "      <th></th>\n",
              "      <th>0</th>\n",
              "      <th>1</th>\n",
              "    </tr>\n",
              "  </thead>\n",
              "  <tbody>\n",
              "    <tr>\n",
              "      <th>0</th>\n",
              "      <td>Go.</td>\n",
              "      <td>Va !</td>\n",
              "    </tr>\n",
              "    <tr>\n",
              "      <th>1</th>\n",
              "      <td>Hi.</td>\n",
              "      <td>Salut !</td>\n",
              "    </tr>\n",
              "    <tr>\n",
              "      <th>2</th>\n",
              "      <td>Run!</td>\n",
              "      <td>Cours !</td>\n",
              "    </tr>\n",
              "    <tr>\n",
              "      <th>3</th>\n",
              "      <td>Run!</td>\n",
              "      <td>Courez !</td>\n",
              "    </tr>\n",
              "    <tr>\n",
              "      <th>4</th>\n",
              "      <td>Wow!</td>\n",
              "      <td>Ça alors !</td>\n",
              "    </tr>\n",
              "  </tbody>\n",
              "</table>\n",
              "</div>\n",
              "    <div class=\"colab-df-buttons\">\n",
              "\n",
              "  <div class=\"colab-df-container\">\n",
              "    <button class=\"colab-df-convert\" onclick=\"convertToInteractive('df-246744fc-9fb6-45bd-9c00-7e7c9016e998')\"\n",
              "            title=\"Convert this dataframe to an interactive table.\"\n",
              "            style=\"display:none;\">\n",
              "\n",
              "  <svg xmlns=\"http://www.w3.org/2000/svg\" height=\"24px\" viewBox=\"0 -960 960 960\">\n",
              "    <path d=\"M120-120v-720h720v720H120Zm60-500h600v-160H180v160Zm220 220h160v-160H400v160Zm0 220h160v-160H400v160ZM180-400h160v-160H180v160Zm440 0h160v-160H620v160ZM180-180h160v-160H180v160Zm440 0h160v-160H620v160Z\"/>\n",
              "  </svg>\n",
              "    </button>\n",
              "\n",
              "  <style>\n",
              "    .colab-df-container {\n",
              "      display:flex;\n",
              "      gap: 12px;\n",
              "    }\n",
              "\n",
              "    .colab-df-convert {\n",
              "      background-color: #E8F0FE;\n",
              "      border: none;\n",
              "      border-radius: 50%;\n",
              "      cursor: pointer;\n",
              "      display: none;\n",
              "      fill: #1967D2;\n",
              "      height: 32px;\n",
              "      padding: 0 0 0 0;\n",
              "      width: 32px;\n",
              "    }\n",
              "\n",
              "    .colab-df-convert:hover {\n",
              "      background-color: #E2EBFA;\n",
              "      box-shadow: 0px 1px 2px rgba(60, 64, 67, 0.3), 0px 1px 3px 1px rgba(60, 64, 67, 0.15);\n",
              "      fill: #174EA6;\n",
              "    }\n",
              "\n",
              "    .colab-df-buttons div {\n",
              "      margin-bottom: 4px;\n",
              "    }\n",
              "\n",
              "    [theme=dark] .colab-df-convert {\n",
              "      background-color: #3B4455;\n",
              "      fill: #D2E3FC;\n",
              "    }\n",
              "\n",
              "    [theme=dark] .colab-df-convert:hover {\n",
              "      background-color: #434B5C;\n",
              "      box-shadow: 0px 1px 3px 1px rgba(0, 0, 0, 0.15);\n",
              "      filter: drop-shadow(0px 1px 2px rgba(0, 0, 0, 0.3));\n",
              "      fill: #FFFFFF;\n",
              "    }\n",
              "  </style>\n",
              "\n",
              "    <script>\n",
              "      const buttonEl =\n",
              "        document.querySelector('#df-246744fc-9fb6-45bd-9c00-7e7c9016e998 button.colab-df-convert');\n",
              "      buttonEl.style.display =\n",
              "        google.colab.kernel.accessAllowed ? 'block' : 'none';\n",
              "\n",
              "      async function convertToInteractive(key) {\n",
              "        const element = document.querySelector('#df-246744fc-9fb6-45bd-9c00-7e7c9016e998');\n",
              "        const dataTable =\n",
              "          await google.colab.kernel.invokeFunction('convertToInteractive',\n",
              "                                                    [key], {});\n",
              "        if (!dataTable) return;\n",
              "\n",
              "        const docLinkHtml = 'Like what you see? Visit the ' +\n",
              "          '<a target=\"_blank\" href=https://colab.research.google.com/notebooks/data_table.ipynb>data table notebook</a>'\n",
              "          + ' to learn more about interactive tables.';\n",
              "        element.innerHTML = '';\n",
              "        dataTable['output_type'] = 'display_data';\n",
              "        await google.colab.output.renderOutput(dataTable, element);\n",
              "        const docLink = document.createElement('div');\n",
              "        docLink.innerHTML = docLinkHtml;\n",
              "        element.appendChild(docLink);\n",
              "      }\n",
              "    </script>\n",
              "  </div>\n",
              "\n",
              "\n",
              "<div id=\"df-c24bacc5-d56f-4a4b-8cb4-dd11795f394e\">\n",
              "  <button class=\"colab-df-quickchart\" onclick=\"quickchart('df-c24bacc5-d56f-4a4b-8cb4-dd11795f394e')\"\n",
              "            title=\"Suggest charts\"\n",
              "            style=\"display:none;\">\n",
              "\n",
              "<svg xmlns=\"http://www.w3.org/2000/svg\" height=\"24px\"viewBox=\"0 0 24 24\"\n",
              "     width=\"24px\">\n",
              "    <g>\n",
              "        <path d=\"M19 3H5c-1.1 0-2 .9-2 2v14c0 1.1.9 2 2 2h14c1.1 0 2-.9 2-2V5c0-1.1-.9-2-2-2zM9 17H7v-7h2v7zm4 0h-2V7h2v10zm4 0h-2v-4h2v4z\"/>\n",
              "    </g>\n",
              "</svg>\n",
              "  </button>\n",
              "\n",
              "<style>\n",
              "  .colab-df-quickchart {\n",
              "      --bg-color: #E8F0FE;\n",
              "      --fill-color: #1967D2;\n",
              "      --hover-bg-color: #E2EBFA;\n",
              "      --hover-fill-color: #174EA6;\n",
              "      --disabled-fill-color: #AAA;\n",
              "      --disabled-bg-color: #DDD;\n",
              "  }\n",
              "\n",
              "  [theme=dark] .colab-df-quickchart {\n",
              "      --bg-color: #3B4455;\n",
              "      --fill-color: #D2E3FC;\n",
              "      --hover-bg-color: #434B5C;\n",
              "      --hover-fill-color: #FFFFFF;\n",
              "      --disabled-bg-color: #3B4455;\n",
              "      --disabled-fill-color: #666;\n",
              "  }\n",
              "\n",
              "  .colab-df-quickchart {\n",
              "    background-color: var(--bg-color);\n",
              "    border: none;\n",
              "    border-radius: 50%;\n",
              "    cursor: pointer;\n",
              "    display: none;\n",
              "    fill: var(--fill-color);\n",
              "    height: 32px;\n",
              "    padding: 0;\n",
              "    width: 32px;\n",
              "  }\n",
              "\n",
              "  .colab-df-quickchart:hover {\n",
              "    background-color: var(--hover-bg-color);\n",
              "    box-shadow: 0 1px 2px rgba(60, 64, 67, 0.3), 0 1px 3px 1px rgba(60, 64, 67, 0.15);\n",
              "    fill: var(--button-hover-fill-color);\n",
              "  }\n",
              "\n",
              "  .colab-df-quickchart-complete:disabled,\n",
              "  .colab-df-quickchart-complete:disabled:hover {\n",
              "    background-color: var(--disabled-bg-color);\n",
              "    fill: var(--disabled-fill-color);\n",
              "    box-shadow: none;\n",
              "  }\n",
              "\n",
              "  .colab-df-spinner {\n",
              "    border: 2px solid var(--fill-color);\n",
              "    border-color: transparent;\n",
              "    border-bottom-color: var(--fill-color);\n",
              "    animation:\n",
              "      spin 1s steps(1) infinite;\n",
              "  }\n",
              "\n",
              "  @keyframes spin {\n",
              "    0% {\n",
              "      border-color: transparent;\n",
              "      border-bottom-color: var(--fill-color);\n",
              "      border-left-color: var(--fill-color);\n",
              "    }\n",
              "    20% {\n",
              "      border-color: transparent;\n",
              "      border-left-color: var(--fill-color);\n",
              "      border-top-color: var(--fill-color);\n",
              "    }\n",
              "    30% {\n",
              "      border-color: transparent;\n",
              "      border-left-color: var(--fill-color);\n",
              "      border-top-color: var(--fill-color);\n",
              "      border-right-color: var(--fill-color);\n",
              "    }\n",
              "    40% {\n",
              "      border-color: transparent;\n",
              "      border-right-color: var(--fill-color);\n",
              "      border-top-color: var(--fill-color);\n",
              "    }\n",
              "    60% {\n",
              "      border-color: transparent;\n",
              "      border-right-color: var(--fill-color);\n",
              "    }\n",
              "    80% {\n",
              "      border-color: transparent;\n",
              "      border-right-color: var(--fill-color);\n",
              "      border-bottom-color: var(--fill-color);\n",
              "    }\n",
              "    90% {\n",
              "      border-color: transparent;\n",
              "      border-bottom-color: var(--fill-color);\n",
              "    }\n",
              "  }\n",
              "</style>\n",
              "\n",
              "  <script>\n",
              "    async function quickchart(key) {\n",
              "      const quickchartButtonEl =\n",
              "        document.querySelector('#' + key + ' button');\n",
              "      quickchartButtonEl.disabled = true;  // To prevent multiple clicks.\n",
              "      quickchartButtonEl.classList.add('colab-df-spinner');\n",
              "      try {\n",
              "        const charts = await google.colab.kernel.invokeFunction(\n",
              "            'suggestCharts', [key], {});\n",
              "      } catch (error) {\n",
              "        console.error('Error during call to suggestCharts:', error);\n",
              "      }\n",
              "      quickchartButtonEl.classList.remove('colab-df-spinner');\n",
              "      quickchartButtonEl.classList.add('colab-df-quickchart-complete');\n",
              "    }\n",
              "    (() => {\n",
              "      let quickchartButtonEl =\n",
              "        document.querySelector('#df-c24bacc5-d56f-4a4b-8cb4-dd11795f394e button');\n",
              "      quickchartButtonEl.style.display =\n",
              "        google.colab.kernel.accessAllowed ? 'block' : 'none';\n",
              "    })();\n",
              "  </script>\n",
              "</div>\n",
              "    </div>\n",
              "  </div>\n"
            ],
            "text/plain": [
              "      0           1\n",
              "0   Go.        Va !\n",
              "1   Hi.     Salut !\n",
              "2  Run!     Cours !\n",
              "3  Run!    Courez !\n",
              "4  Wow!  Ça alors !"
            ]
          },
          "execution_count": 10,
          "metadata": {},
          "output_type": "execute_result"
        }
      ],
      "source": [
        "# Chargement du document\n",
        "doc = pd.read_table(\"fra.txt\",header=None)\n",
        "doc.head()"
      ]
    },
    {
      "cell_type": "code",
      "execution_count": null,
      "metadata": {
        "id": "oFWKFo60siBQ"
      },
      "outputs": [],
      "source": [
        "#Prenons simplement un sample de 5000 phrases pour eviter des lenteurs\n",
        "doc = doc.sample(5000)"
      ]
    },
    {
      "cell_type": "code",
      "execution_count": null,
      "metadata": {
        "colab": {
          "base_uri": "https://localhost:8080/"
        },
        "id": "GDtHTd9uslnm",
        "outputId": "f93bedee-de96-4c04-d09d-adeae8ea68fc"
      },
      "outputs": [
        {
          "name": "stdout",
          "output_type": "stream",
          "text": [
            "Collecting fr-core-news-sm==3.7.0\n",
            "  Downloading https://github.com/explosion/spacy-models/releases/download/fr_core_news_sm-3.7.0/fr_core_news_sm-3.7.0-py3-none-any.whl (16.3 MB)\n",
            "\u001b[2K     \u001b[90m━━━━━━━━━━━━━━━━━━━━━━━━━━━━━━━━━━━━━━━━\u001b[0m \u001b[32m16.3/16.3 MB\u001b[0m \u001b[31m39.6 MB/s\u001b[0m eta \u001b[36m0:00:00\u001b[0m\n",
            "\u001b[?25hRequirement already satisfied: spacy<3.8.0,>=3.7.0 in /usr/local/lib/python3.10/dist-packages (from fr-core-news-sm==3.7.0) (3.7.4)\n",
            "Requirement already satisfied: spacy-legacy<3.1.0,>=3.0.11 in /usr/local/lib/python3.10/dist-packages (from spacy<3.8.0,>=3.7.0->fr-core-news-sm==3.7.0) (3.0.12)\n",
            "Requirement already satisfied: spacy-loggers<2.0.0,>=1.0.0 in /usr/local/lib/python3.10/dist-packages (from spacy<3.8.0,>=3.7.0->fr-core-news-sm==3.7.0) (1.0.5)\n",
            "Requirement already satisfied: murmurhash<1.1.0,>=0.28.0 in /usr/local/lib/python3.10/dist-packages (from spacy<3.8.0,>=3.7.0->fr-core-news-sm==3.7.0) (1.0.10)\n",
            "Requirement already satisfied: cymem<2.1.0,>=2.0.2 in /usr/local/lib/python3.10/dist-packages (from spacy<3.8.0,>=3.7.0->fr-core-news-sm==3.7.0) (2.0.8)\n",
            "Requirement already satisfied: preshed<3.1.0,>=3.0.2 in /usr/local/lib/python3.10/dist-packages (from spacy<3.8.0,>=3.7.0->fr-core-news-sm==3.7.0) (3.0.9)\n",
            "Requirement already satisfied: thinc<8.3.0,>=8.2.2 in /usr/local/lib/python3.10/dist-packages (from spacy<3.8.0,>=3.7.0->fr-core-news-sm==3.7.0) (8.2.3)\n",
            "Requirement already satisfied: wasabi<1.2.0,>=0.9.1 in /usr/local/lib/python3.10/dist-packages (from spacy<3.8.0,>=3.7.0->fr-core-news-sm==3.7.0) (1.1.2)\n",
            "Requirement already satisfied: srsly<3.0.0,>=2.4.3 in /usr/local/lib/python3.10/dist-packages (from spacy<3.8.0,>=3.7.0->fr-core-news-sm==3.7.0) (2.4.8)\n",
            "Requirement already satisfied: catalogue<2.1.0,>=2.0.6 in /usr/local/lib/python3.10/dist-packages (from spacy<3.8.0,>=3.7.0->fr-core-news-sm==3.7.0) (2.0.10)\n",
            "Requirement already satisfied: weasel<0.4.0,>=0.1.0 in /usr/local/lib/python3.10/dist-packages (from spacy<3.8.0,>=3.7.0->fr-core-news-sm==3.7.0) (0.3.4)\n",
            "Requirement already satisfied: typer<0.10.0,>=0.3.0 in /usr/local/lib/python3.10/dist-packages (from spacy<3.8.0,>=3.7.0->fr-core-news-sm==3.7.0) (0.9.4)\n",
            "Requirement already satisfied: smart-open<7.0.0,>=5.2.1 in /usr/local/lib/python3.10/dist-packages (from spacy<3.8.0,>=3.7.0->fr-core-news-sm==3.7.0) (6.4.0)\n",
            "Requirement already satisfied: tqdm<5.0.0,>=4.38.0 in /usr/local/lib/python3.10/dist-packages (from spacy<3.8.0,>=3.7.0->fr-core-news-sm==3.7.0) (4.66.4)\n",
            "Requirement already satisfied: requests<3.0.0,>=2.13.0 in /usr/local/lib/python3.10/dist-packages (from spacy<3.8.0,>=3.7.0->fr-core-news-sm==3.7.0) (2.31.0)\n",
            "Requirement already satisfied: pydantic!=1.8,!=1.8.1,<3.0.0,>=1.7.4 in /usr/local/lib/python3.10/dist-packages (from spacy<3.8.0,>=3.7.0->fr-core-news-sm==3.7.0) (2.7.1)\n",
            "Requirement already satisfied: jinja2 in /usr/local/lib/python3.10/dist-packages (from spacy<3.8.0,>=3.7.0->fr-core-news-sm==3.7.0) (3.1.4)\n",
            "Requirement already satisfied: setuptools in /usr/local/lib/python3.10/dist-packages (from spacy<3.8.0,>=3.7.0->fr-core-news-sm==3.7.0) (67.7.2)\n",
            "Requirement already satisfied: packaging>=20.0 in /usr/local/lib/python3.10/dist-packages (from spacy<3.8.0,>=3.7.0->fr-core-news-sm==3.7.0) (24.0)\n",
            "Requirement already satisfied: langcodes<4.0.0,>=3.2.0 in /usr/local/lib/python3.10/dist-packages (from spacy<3.8.0,>=3.7.0->fr-core-news-sm==3.7.0) (3.4.0)\n",
            "Requirement already satisfied: numpy>=1.19.0 in /usr/local/lib/python3.10/dist-packages (from spacy<3.8.0,>=3.7.0->fr-core-news-sm==3.7.0) (1.25.2)\n",
            "Requirement already satisfied: language-data>=1.2 in /usr/local/lib/python3.10/dist-packages (from langcodes<4.0.0,>=3.2.0->spacy<3.8.0,>=3.7.0->fr-core-news-sm==3.7.0) (1.2.0)\n",
            "Requirement already satisfied: annotated-types>=0.4.0 in /usr/local/lib/python3.10/dist-packages (from pydantic!=1.8,!=1.8.1,<3.0.0,>=1.7.4->spacy<3.8.0,>=3.7.0->fr-core-news-sm==3.7.0) (0.6.0)\n",
            "Requirement already satisfied: pydantic-core==2.18.2 in /usr/local/lib/python3.10/dist-packages (from pydantic!=1.8,!=1.8.1,<3.0.0,>=1.7.4->spacy<3.8.0,>=3.7.0->fr-core-news-sm==3.7.0) (2.18.2)\n",
            "Requirement already satisfied: typing-extensions>=4.6.1 in /usr/local/lib/python3.10/dist-packages (from pydantic!=1.8,!=1.8.1,<3.0.0,>=1.7.4->spacy<3.8.0,>=3.7.0->fr-core-news-sm==3.7.0) (4.11.0)\n",
            "Requirement already satisfied: charset-normalizer<4,>=2 in /usr/local/lib/python3.10/dist-packages (from requests<3.0.0,>=2.13.0->spacy<3.8.0,>=3.7.0->fr-core-news-sm==3.7.0) (3.3.2)\n",
            "Requirement already satisfied: idna<4,>=2.5 in /usr/local/lib/python3.10/dist-packages (from requests<3.0.0,>=2.13.0->spacy<3.8.0,>=3.7.0->fr-core-news-sm==3.7.0) (3.7)\n",
            "Requirement already satisfied: urllib3<3,>=1.21.1 in /usr/local/lib/python3.10/dist-packages (from requests<3.0.0,>=2.13.0->spacy<3.8.0,>=3.7.0->fr-core-news-sm==3.7.0) (2.0.7)\n",
            "Requirement already satisfied: certifi>=2017.4.17 in /usr/local/lib/python3.10/dist-packages (from requests<3.0.0,>=2.13.0->spacy<3.8.0,>=3.7.0->fr-core-news-sm==3.7.0) (2024.2.2)\n",
            "Requirement already satisfied: blis<0.8.0,>=0.7.8 in /usr/local/lib/python3.10/dist-packages (from thinc<8.3.0,>=8.2.2->spacy<3.8.0,>=3.7.0->fr-core-news-sm==3.7.0) (0.7.11)\n",
            "Requirement already satisfied: confection<1.0.0,>=0.0.1 in /usr/local/lib/python3.10/dist-packages (from thinc<8.3.0,>=8.2.2->spacy<3.8.0,>=3.7.0->fr-core-news-sm==3.7.0) (0.1.4)\n",
            "Requirement already satisfied: click<9.0.0,>=7.1.1 in /usr/local/lib/python3.10/dist-packages (from typer<0.10.0,>=0.3.0->spacy<3.8.0,>=3.7.0->fr-core-news-sm==3.7.0) (8.1.7)\n",
            "Requirement already satisfied: cloudpathlib<0.17.0,>=0.7.0 in /usr/local/lib/python3.10/dist-packages (from weasel<0.4.0,>=0.1.0->spacy<3.8.0,>=3.7.0->fr-core-news-sm==3.7.0) (0.16.0)\n",
            "Requirement already satisfied: MarkupSafe>=2.0 in /usr/local/lib/python3.10/dist-packages (from jinja2->spacy<3.8.0,>=3.7.0->fr-core-news-sm==3.7.0) (2.1.5)\n",
            "Requirement already satisfied: marisa-trie>=0.7.7 in /usr/local/lib/python3.10/dist-packages (from language-data>=1.2->langcodes<4.0.0,>=3.2.0->spacy<3.8.0,>=3.7.0->fr-core-news-sm==3.7.0) (1.1.1)\n",
            "Installing collected packages: fr-core-news-sm\n",
            "Successfully installed fr-core-news-sm-3.7.0\n",
            "\u001b[38;5;2m✔ Download and installation successful\u001b[0m\n",
            "You can now load the package via spacy.load('fr_core_news_sm')\n",
            "\u001b[38;5;3m⚠ Restart to reload dependencies\u001b[0m\n",
            "If you are in a Jupyter or Colab notebook, you may need to restart Python in\n",
            "order to load all the package's dependencies. You can do this by selecting the\n",
            "'Restart kernel' or 'Restart runtime' option.\n",
            "Collecting en-core-web-sm==3.7.1\n",
            "  Downloading https://github.com/explosion/spacy-models/releases/download/en_core_web_sm-3.7.1/en_core_web_sm-3.7.1-py3-none-any.whl (12.8 MB)\n",
            "\u001b[2K     \u001b[90m━━━━━━━━━━━━━━━━━━━━━━━━━━━━━━━━━━━━━━━━\u001b[0m \u001b[32m12.8/12.8 MB\u001b[0m \u001b[31m39.4 MB/s\u001b[0m eta \u001b[36m0:00:00\u001b[0m\n",
            "\u001b[?25hRequirement already satisfied: spacy<3.8.0,>=3.7.2 in /usr/local/lib/python3.10/dist-packages (from en-core-web-sm==3.7.1) (3.7.4)\n",
            "Requirement already satisfied: spacy-legacy<3.1.0,>=3.0.11 in /usr/local/lib/python3.10/dist-packages (from spacy<3.8.0,>=3.7.2->en-core-web-sm==3.7.1) (3.0.12)\n",
            "Requirement already satisfied: spacy-loggers<2.0.0,>=1.0.0 in /usr/local/lib/python3.10/dist-packages (from spacy<3.8.0,>=3.7.2->en-core-web-sm==3.7.1) (1.0.5)\n",
            "Requirement already satisfied: murmurhash<1.1.0,>=0.28.0 in /usr/local/lib/python3.10/dist-packages (from spacy<3.8.0,>=3.7.2->en-core-web-sm==3.7.1) (1.0.10)\n",
            "Requirement already satisfied: cymem<2.1.0,>=2.0.2 in /usr/local/lib/python3.10/dist-packages (from spacy<3.8.0,>=3.7.2->en-core-web-sm==3.7.1) (2.0.8)\n",
            "Requirement already satisfied: preshed<3.1.0,>=3.0.2 in /usr/local/lib/python3.10/dist-packages (from spacy<3.8.0,>=3.7.2->en-core-web-sm==3.7.1) (3.0.9)\n",
            "Requirement already satisfied: thinc<8.3.0,>=8.2.2 in /usr/local/lib/python3.10/dist-packages (from spacy<3.8.0,>=3.7.2->en-core-web-sm==3.7.1) (8.2.3)\n",
            "Requirement already satisfied: wasabi<1.2.0,>=0.9.1 in /usr/local/lib/python3.10/dist-packages (from spacy<3.8.0,>=3.7.2->en-core-web-sm==3.7.1) (1.1.2)\n",
            "Requirement already satisfied: srsly<3.0.0,>=2.4.3 in /usr/local/lib/python3.10/dist-packages (from spacy<3.8.0,>=3.7.2->en-core-web-sm==3.7.1) (2.4.8)\n",
            "Requirement already satisfied: catalogue<2.1.0,>=2.0.6 in /usr/local/lib/python3.10/dist-packages (from spacy<3.8.0,>=3.7.2->en-core-web-sm==3.7.1) (2.0.10)\n",
            "Requirement already satisfied: weasel<0.4.0,>=0.1.0 in /usr/local/lib/python3.10/dist-packages (from spacy<3.8.0,>=3.7.2->en-core-web-sm==3.7.1) (0.3.4)\n",
            "Requirement already satisfied: typer<0.10.0,>=0.3.0 in /usr/local/lib/python3.10/dist-packages (from spacy<3.8.0,>=3.7.2->en-core-web-sm==3.7.1) (0.9.4)\n",
            "Requirement already satisfied: smart-open<7.0.0,>=5.2.1 in /usr/local/lib/python3.10/dist-packages (from spacy<3.8.0,>=3.7.2->en-core-web-sm==3.7.1) (6.4.0)\n",
            "Requirement already satisfied: tqdm<5.0.0,>=4.38.0 in /usr/local/lib/python3.10/dist-packages (from spacy<3.8.0,>=3.7.2->en-core-web-sm==3.7.1) (4.66.4)\n",
            "Requirement already satisfied: requests<3.0.0,>=2.13.0 in /usr/local/lib/python3.10/dist-packages (from spacy<3.8.0,>=3.7.2->en-core-web-sm==3.7.1) (2.31.0)\n",
            "Requirement already satisfied: pydantic!=1.8,!=1.8.1,<3.0.0,>=1.7.4 in /usr/local/lib/python3.10/dist-packages (from spacy<3.8.0,>=3.7.2->en-core-web-sm==3.7.1) (2.7.1)\n",
            "Requirement already satisfied: jinja2 in /usr/local/lib/python3.10/dist-packages (from spacy<3.8.0,>=3.7.2->en-core-web-sm==3.7.1) (3.1.4)\n",
            "Requirement already satisfied: setuptools in /usr/local/lib/python3.10/dist-packages (from spacy<3.8.0,>=3.7.2->en-core-web-sm==3.7.1) (67.7.2)\n",
            "Requirement already satisfied: packaging>=20.0 in /usr/local/lib/python3.10/dist-packages (from spacy<3.8.0,>=3.7.2->en-core-web-sm==3.7.1) (24.0)\n",
            "Requirement already satisfied: langcodes<4.0.0,>=3.2.0 in /usr/local/lib/python3.10/dist-packages (from spacy<3.8.0,>=3.7.2->en-core-web-sm==3.7.1) (3.4.0)\n",
            "Requirement already satisfied: numpy>=1.19.0 in /usr/local/lib/python3.10/dist-packages (from spacy<3.8.0,>=3.7.2->en-core-web-sm==3.7.1) (1.25.2)\n",
            "Requirement already satisfied: language-data>=1.2 in /usr/local/lib/python3.10/dist-packages (from langcodes<4.0.0,>=3.2.0->spacy<3.8.0,>=3.7.2->en-core-web-sm==3.7.1) (1.2.0)\n",
            "Requirement already satisfied: annotated-types>=0.4.0 in /usr/local/lib/python3.10/dist-packages (from pydantic!=1.8,!=1.8.1,<3.0.0,>=1.7.4->spacy<3.8.0,>=3.7.2->en-core-web-sm==3.7.1) (0.6.0)\n",
            "Requirement already satisfied: pydantic-core==2.18.2 in /usr/local/lib/python3.10/dist-packages (from pydantic!=1.8,!=1.8.1,<3.0.0,>=1.7.4->spacy<3.8.0,>=3.7.2->en-core-web-sm==3.7.1) (2.18.2)\n",
            "Requirement already satisfied: typing-extensions>=4.6.1 in /usr/local/lib/python3.10/dist-packages (from pydantic!=1.8,!=1.8.1,<3.0.0,>=1.7.4->spacy<3.8.0,>=3.7.2->en-core-web-sm==3.7.1) (4.11.0)\n",
            "Requirement already satisfied: charset-normalizer<4,>=2 in /usr/local/lib/python3.10/dist-packages (from requests<3.0.0,>=2.13.0->spacy<3.8.0,>=3.7.2->en-core-web-sm==3.7.1) (3.3.2)\n",
            "Requirement already satisfied: idna<4,>=2.5 in /usr/local/lib/python3.10/dist-packages (from requests<3.0.0,>=2.13.0->spacy<3.8.0,>=3.7.2->en-core-web-sm==3.7.1) (3.7)\n",
            "Requirement already satisfied: urllib3<3,>=1.21.1 in /usr/local/lib/python3.10/dist-packages (from requests<3.0.0,>=2.13.0->spacy<3.8.0,>=3.7.2->en-core-web-sm==3.7.1) (2.0.7)\n",
            "Requirement already satisfied: certifi>=2017.4.17 in /usr/local/lib/python3.10/dist-packages (from requests<3.0.0,>=2.13.0->spacy<3.8.0,>=3.7.2->en-core-web-sm==3.7.1) (2024.2.2)\n",
            "Requirement already satisfied: blis<0.8.0,>=0.7.8 in /usr/local/lib/python3.10/dist-packages (from thinc<8.3.0,>=8.2.2->spacy<3.8.0,>=3.7.2->en-core-web-sm==3.7.1) (0.7.11)\n",
            "Requirement already satisfied: confection<1.0.0,>=0.0.1 in /usr/local/lib/python3.10/dist-packages (from thinc<8.3.0,>=8.2.2->spacy<3.8.0,>=3.7.2->en-core-web-sm==3.7.1) (0.1.4)\n",
            "Requirement already satisfied: click<9.0.0,>=7.1.1 in /usr/local/lib/python3.10/dist-packages (from typer<0.10.0,>=0.3.0->spacy<3.8.0,>=3.7.2->en-core-web-sm==3.7.1) (8.1.7)\n",
            "Requirement already satisfied: cloudpathlib<0.17.0,>=0.7.0 in /usr/local/lib/python3.10/dist-packages (from weasel<0.4.0,>=0.1.0->spacy<3.8.0,>=3.7.2->en-core-web-sm==3.7.1) (0.16.0)\n",
            "Requirement already satisfied: MarkupSafe>=2.0 in /usr/local/lib/python3.10/dist-packages (from jinja2->spacy<3.8.0,>=3.7.2->en-core-web-sm==3.7.1) (2.1.5)\n",
            "Requirement already satisfied: marisa-trie>=0.7.7 in /usr/local/lib/python3.10/dist-packages (from language-data>=1.2->langcodes<4.0.0,>=3.2.0->spacy<3.8.0,>=3.7.2->en-core-web-sm==3.7.1) (1.1.1)\n",
            "\u001b[38;5;2m✔ Download and installation successful\u001b[0m\n",
            "You can now load the package via spacy.load('en_core_web_sm')\n",
            "\u001b[38;5;3m⚠ Restart to reload dependencies\u001b[0m\n",
            "If you are in a Jupyter or Colab notebook, you may need to restart Python in\n",
            "order to load all the package's dependencies. You can do this by selecting the\n",
            "'Restart kernel' or 'Restart runtime' option.\n"
          ]
        }
      ],
      "source": [
        "#Chargement de langages francais et anglais de spacy\n",
        "!python -m spacy download fr_core_news_sm\n",
        "!python -m spacy download en_core_web_sm"
      ]
    },
    {
      "cell_type": "code",
      "execution_count": null,
      "metadata": {
        "id": "6WCMR66vsp_q"
      },
      "outputs": [],
      "source": [
        "# Import de chacun des langages\n",
        "import fr_core_news_sm\n",
        "import en_core_web_sm\n",
        "nlp_fr = fr_core_news_sm.load()\n",
        "nlp_en = en_core_web_sm.load()"
      ]
    },
    {
      "cell_type": "code",
      "execution_count": null,
      "metadata": {
        "id": "2kp4TOltswRc"
      },
      "outputs": [],
      "source": [
        "# Chargement du corpus entier de phrases francaises et anglaises\n",
        "fr_corpus = \" \".join(doc.iloc[:,1].to_list())\n",
        "en_corpus = \" \".join(doc.iloc[:,0].to_list())"
      ]
    },
    {
      "cell_type": "code",
      "execution_count": null,
      "metadata": {
        "colab": {
          "base_uri": "https://localhost:8080/",
          "height": 235
        },
        "id": "lxZlYNQDszck",
        "outputId": "f96b92bf-f755-4c82-e254-a466a02fa01e"
      },
      "outputs": [
        {
          "data": {
            "application/vnd.google.colaboratory.intrinsic+json": {
              "type": "string"
            },
            "text/plain": [
              "'Il est déterminé à aller en Angleterre. Je compatis à ta douleur. Elle a les cheveux mouillés. Elle lui demanda de l\\'appeler plus tard. Y a-t-il quelqu\\'un à qui vous puissiez vous fier ? Je n\\'arrive pas à m\\'endormir. Vous n\\'êtes pas trop en retard. Cette robe a l\\'air éblouissante sur toi. J\\'étais très riche, jusqu\\'à ce que je la rencontre. Génial\\u202f! Ils ont fouillé ici et là à la recherche de survivants. Elles se téléphonent presque tous les jours. J\\'ai des badges d\\'entrée pour les coulisses. Quand pars-tu\\u202f? Tom dit qu\\'il sait déjà comment faire cela. Cherches-tu quelqu\\'un ? Je dois aller au magasin acheter du shampooing et du dentifrice. J\\'ai fort bien dormi la nuit passée. Il faisait nuit. Appelle-moi si vous voulez que nous fassions quelque chose ensemble, demain. Vous devez être amoureuses. Personne ne semble avoir prêté attention à ce qu\\'il a dit. L\\'espagnol est sa langue maternelle. J\\'ai besoin de votre réponse avant la fin de la journée. Il est retourné au magasin. Nous ne pouvions le prendre par surprise. Tom est parti pour Boston. Elle lui a indiqué où poser la valise. Cela n\\'a pas l\\'air trop difficile. J\\'éternue beaucoup. Je pensais que vous seriez reconnaissante. Comme il se sentait malade, il est resté au lit. Ça a résonné comme une détonation. Nous sommes arrivées fatiguées et affamées. Je suppose que votre mission a été une réussite. Faites-le sans réfléchir ! Vous n\\'êtes pas invités. Avez-vous la moindre idée de qui a écrit ce livre ? Je t\\'attendrai dans ma chambre. Nous avons passé des heures à le chercher. Je pensais que tout le monde savait. Votre frère n\\'était pas à l\\'école aujourd\\'hui. Arrête de te la péter ! Je veux savoir ce qui est drôle. Je serai dans le grenier. Baisse la radio. Je me rappelle tout ce que vous me dites. Elle a décidé de ne pas y aller. Nous ne pouvons pas simplement nous tenir là. Une boîte manque toujours. N\\'hésite pas à me dire si tu as besoin de quelque chose. Ils ont désamorcé la bombe avec succès. Quelles sont les probabilités que ça arrive ? Vous devriez tenir vos promesses. Tom courut hors de la chambre. Ce pain sent vraiment bon. Avez-vous vu le relevé de notes ? Veuillez réparer ceci. Nous sommes restés dans le train pendant dix heures. Elles s\\'accordèrent sur tout. J\\'espère que vous disposez d\\'une assurance. Il n\\'était pas simple de gagner beaucoup d\\'argent en peu de temps. Nous n\\'avions pas d\\'argent pour cela. Elle a environ deux mille livres. Tom a aussi un frère. Nous nous sommes promenés tout autour du lac. Tom et Mary ne sont pas encore chez eux. Les vagues sont hautes. Je vous aime toutes. Ce couteau est très aiguisé. Quelqu\\'un frappe à la porte. J\\'aimerais avoir le temps pour une petite amie. On se demande pourquoi. J\\'ai arrêté de fumer et de boire. Y a t-il un autre mot pour « synonyme » ? Tes amies ont l\\'air gentil. Ne sachant pas quoi dire, je suis resté silencieux. Ma voiture a été sérieusement endommagée dans l\\'accident. Pourrais-tu parler un peu plus lentement ? Je me demandais juste comment vous avez pu en arriver à ce sujet. Le médecin sera là dans une minute. Je n\\'ai pas encore donné l\\'argent à Tom. N\\'ai-je pas raison\\u202f? N\\'hésitez pas à poser des questions. Tom kidnappa Mary. Ils te faisaient confiance. Tout le monde était sans voix. Cette voiture était suffisamment bon marché pour qu\\'il puisse l\\'acheter. Pour faire court, il a eu tort. Fermez la fenêtre, voulez-vous\\xa0? Le suspect est un homme noir. Nous étions tous heureux. On ne peut me tuer si facilement. Elle détourna le regard. On a admiré la beauté de la vue. Je n\\'en ai juste pas envie. Je me sens responsable. J\\'aime être consciencieuse. Êtes-vous sûrs de ne pas vouloir la garder ? Voyez-vous ce que je veux dire\\u202f? Tom et moi aimons le même genre de musique. En trente minutes seulement, nous n\\'avons pas pu répondre à toutes les questions. Avez-vous déjà fini\\u202f? Elles ont un rêve. Je savais que nous allions nous marier au moment où je vous ai rencontrée. Comment vous êtes-vous procurés une photo de moi à poil ? Arrête de me corriger ! Elle n\\'a jamais dansé avec lui. Je me réveille à six heures, mais je ne sors pas du lit avant sept heures. Mary est enceinte. Qu\\'a-t-il dit\\u2009? C\\'est une plage publique. Tom a pris une douche froide. Il menaça de la rendre public. Je suis contente que ça vous rende heureux. Elle est bonne à tomber raide. Je crois que nous devons partir maintenant. Sois prudent sur le chemin de la maison\\u202f! Nous réduisons la voilure. Il est venu au Japon il y a deux ans. Tu es sûr de vouloir prendre ce risque ? Vous pouvez vous fier à lui. Il ne vous trahira jamais. Si tu fais ça, tu le regretteras pour le restant de tes jours. J\\'ignore ce qu\\'est la vérité. Écoute, je le sais. As-tu bientôt fini ? Regardez ces nuages. Comment comptez-vous rentrer chez vous\\u202f? Je suis un peu curieuse. Je ne sais pas davantage danser. Si vous passez trop de temps au soleil sans mettre de crème solaire, il est probable que vous attrapiez un coup de soleil. Je n\\'y vois pas votre nom. Resteras-tu ici pendant un certain temps\\xa0? L\\'accident est encore vivace dans sa mémoire. Elles veulent vous parler, un moment. Tom a des poules. Devine qui vient dîner ce soir ? Tom parle très fort. Ce n\\'est pas une mauvaise décision. Le serveur était hors-service. Entre. Tu es fort courageuse. Je n\\'arrive simplement pas à le comprendre. Mets la radio, je te prie. Fermez la porte, s\\'il vous plaît. La sécurité est la chose la plus importante. Je m\\'arrêtai au supermarché sur le chemin de la maison. Tom ne peut pas expliquer ce qui s\\'est passé. Elle lui conseilla de voir le dentiste. Qui pourra dire que ce n\\'est pas ce qui était supposé se passer ? J\\'ai raté le train d\\'une minute. Ces cookies ne coûtent pas cher mais ils ont bon goût. Elle le remercia pour son assistance. Herold accepta de se rendre. C\\'est le sien. Étudiez-vous le français tous les jours ? Ce garçon n\\'a témoigné d\\'aucune peur. Beaucoup de gens aiment voyager. Cet appareil m\\'est familier. Je serais ravi. Je n\\'avais rien à voir avec ça. Les oiseaux avaient faim. Je me vêts. Il soutient que l\\'administration doit proposer d\\'autres sources de revenus. Il n\\'y a que l\\'amour pour briser le cœur. Juste par curiosité, qu\\'attendez-vous qu\\'il se passe ? Tom n\\'écoute jamais le professeur. Je te dirai tout ce que tu veux savoir. Vous ne m\\'avez toujours pas dit quand vous terminez votre travail. Nous avons encore deux cours après le déjeuner. Elle l\\'a exhorté à examiner la demande. C\\'est tout ce que j\\'ai pour toi. Corrigez cette phrase, s\\'il vous plait. Le docteur de Tom lui a conseillé de faire plus d\\'exercice. Je resterai votre allié, quoi qu\\'il advienne. Tom dit qu\\'il mange plus quand il est triste. Appelle-moi s\\'il te plaît. Elle n\\'est jamais en retard à l\\'école. Je vais me chercher du café. En voulez-vous ? Je n\\'ai plus peur de toi. Ne commets pas la même erreur que la mienne ! Des gens meurent. Est-ce que vous êtes allée au restaurant hier ? Qui êtes-vous pour nous dire que nous ne pouvons pas y aller ? C\\'est tellement facile. Je dois soulever une protestation. Quelle est la chose la plus ancienne que vous possédez\\u202f? Si tu modifies le plan, tu dois informer les membres de l\\'équipe des changements. Tom semble avoir disparu. Je suis désolé, je ne vous ai pas reconnus. Que pensais-tu que j\\'allais faire\\xa0? Je me suis amusé. La guerre a unifié le peuple Américain. Ce sera une mission très dangereuse. Je n\\'avais pas prévu de frapper Tom. J\\'attends votre décision avec une vive impatience. N\\'y ai-je pas mon mot à dire ? Tout le monde tentait de vendre ses titres. Cette maison est à moi. Où habitent-elles ? Je ne laisserai pas ceci se produire. Tu pourrais me rappeler plus tard ? Je connais bien le sujet. Je peux à peine comprendre ce qu\\'il dit. Voudrais-tu encore un peu de thé ? Vous avez l\\'air parfait. Elle est toute différente de sa mère. Tu ne vas jamais le croire. N\\'oublie pas d\\'appeler tes parents ! Je suis en sous-vêtements. Continuez jusqu\\'à ce que je vous dise d\\'arrêter, s\\'il vous plaît. Tu commences à parler comme ton vieux. Tom était chauffeur de bus avant de devenir chauffeur de taxi. Je pense que c\\'est vous qui l\\'avez fait. Je vous promets que je ne ferai rien pour vous faire du mal. On n\\'a rien à manger. Il ment comme un arracheur de dents. Ils ont attaqué l\\'ennemi. Quand t\\'es-tu marié\\u202f? Les effets secondaires possibles incluent des troubles de la vision et un souffle court. Tu es un romantique. On m\\'a promue. Je ne parviens pas à me concentrer avec tout ce tumulte. Il s\\'assit là, entouré de ses enfants. Malheureusement, Tom a laissé le chat sortir du sac. Il y a un type en bas qui vous demande. Promettez-moi, je vous prie, que vous ne me mentirez plus jamais ! Je ne suis pas du tout surpris. Nous ne nous battons pas. Tom est un vrai héros. Son histoire l\\'a émue aux larmes. Je suis ami avec tous ces gars-là. Je ne veux vraiment pas en parler. La lumière s\\'est soudain éteinte. Je n\\'arrive pas à croire que nous soyons ici. Ils n\\'ont pas tenu parole. Allez réveiller Tom! Ne sois pas timide. Ta prononciation est plus ou moins correcte. Vous la reconnaissez, n\\'est-ce pas ? D\\'ordinaire, je mange à l\\'extérieur. Je me suis coiffé. Dépêche-toi. Je suis l\\'une des trente personnes qui veulent le faire. Il gagne plein de thune. Combien de vos amis portent la barbe ? Je me suis réveillé. Va à l\\'hôpital. J\\'ai rencontré sa sœur la semaine dernière. Comment puis-je me rendre à la plage ? Tom m\\'a trouvé un professeur de français. Tom a dit que ce n\\'était qu\\'une coïncidence. Elle était livide. Je te conseille de prendre un avocat. Je pensais que tu ne croyais pas aux fantômes. Comment peux-tu ne pas voir cela ? Avec qui aimeriez-vous vous entretenir ? Où avez-vous pris ces photographies\\xa0? Regarde avant de sauter. Personne ne te le demande. Jouons tous seuls. Tom est loin d\\'être satisfait par le travail de Mary. Continue d\\'écouter. J\\'ignore de quoi vous parlez. J\\'adore la vue de mon balcon. J\\'aimerais me rappeler son nom. Tu es dedans jusqu\\'au cou. Ça semble étrange, pas vrai ? Tom délirait. J\\'ai commandé de la pizza. Je travaille à différentes heures chaque jour. Je plaisante, bien sûr. Je ne mérite pas d\\'être aussi heureuse. Tom ne voulait pas accepter mes excuses. Je vous prie de ne pas me tuer. Ils l\\'ont laissée sous la table. Je ne veux vraiment pas quoi que ce soit à manger pour l\\'instant. De quelle couleur sont-ils? J\\'entends parfaitement bien. Ça vous oblige à rester vigilante. Je me sens désolée pour toi. Je veux simplement rester dans la voiture. Le thé est brûlant. Ce n\\'est pas avant d\\'avoir perdu la santé qu\\'on prend conscience de sa valeur. Tom va être jaloux. Je ne sais pas comment vous l\\'avez fait. Relâche-le ! Je me suis bien amusée ! Je sais que je n\\'ai rien fait de mal. Elle voulait un truc facile, mais il n\\'y en avait aucun de reste. Je me sens comme un enfant à nouveau. Vous pouvez payer en quatre, six ou douze fois. Préviens-moi quand tu as fini ! Je vais le rencontrer demain. Comment va votre mère ? La Suisse est un très beau pays qui mérite une visite. Étiez-vous au courant que votre four ne fonctionne pas\\xa0? Je me réjouis certainement que vous n\\'ayez pas été blessés. Dans l\\'ensemble, le Japon a un climat doux. Mieux vaut tard que jamais. Je me rends chaque jour au travail en train. J\\'ai appris à faire du vélo quand j\\'avais six ans. Tom ne fait guère plus de câlins à Marie. Apporte-moi la flûte. Je suis content que tu sois là. Il y avait de nombreuses choses que nous voulions faire, mais nous ne sommes pas parvenues à faire beaucoup d\\'entre elles. Ils lui attribuèrent une médaille d\\'or pour son accomplissement. Dès que je mets la main dessus, je te l\\'apporte à ton domicile. Je suis sortie en vélo. Si je me vautre, quel est le pire qui puisse advenir ? Suis-je censé avoir peur de toi ? Ce n\\'est pas ton bureau. Tom et Marie étaient tous deux suspects. Enfin, j\\'ai rattrapé mes amis. Deux chaises restaient libres. J\\'ignore à quelle distance. Il vit l\\'accident sur le chemin de l\\'école. Es-tu prêt maintenant ? C\\'est celui de mon frère. Je ne suis pas un expert, alors ma réponse à votre question est juste une supposition éclairée. Ne discute pas au sujet de ma famille ! C\\'était une fausse alarme. C\\'est ce chien là-bas qui m\\'a mordu la main. Ça va être coton. Il s\\'est fâché. Pourrais-tu me donner quelques exemples\\xa0? C\\'est une longue liste. Elle a mis son chapeau. Qu\\'avez-vous fait à l\\'école aujourd\\'hui ? Nous avons besoin de tout. J\\'ai immédiatement songé à toi. Le manteau que je voulais coûtait trois cents dollars. Elles mangèrent et burent du vin. Tom sera là dans d\\'ici peu. Nous prenons tous soin les uns des autres. Lorsque vous rencontrez une personne pour la première fois, soyez attentives à la distance à laquelle vous vous en tenez. S\\'il n\\'est pas riche, il est en tous cas heureux. Te fies-tu à quiconque ? Arrêtez-moi si vous pouvez ! Je sais que vous vous sentez mal. J\\'ai travaillé aussi dur que j\\'ai pu de manière à ne pas échouer. Tom est soûl. Tom essaya de se rappeler ce que Mary lui avait dit. Mes amis et moi voulons le faire. Quelqu\\'un est en train de regarder Tom. Je veux savoir où ils ont dissimulé l\\'argent. Combien de livres audio avez-vous sur votre iPod ? Aimes-tu la musique\\u202f? Est-ce de temps dont tu as besoin ? Ce livre-ci est bien plus intéressant que celui-là. Je serai à vous dans quelques minutes. La viande est congelée. Je suis musicienne. Nous devons nous plier aux règles. Si vous en voulez un, il vous faudra trouver le vôtre. Voici la chambre de mon père. Mes parents sont décédés. Elle m\\'a donné de bons conseils. Ceux-là sont-ils pour moi ? Il y avait une grosse étoile en or sur la porte. Où est ta casquette ? J\\'ai regardé par la fenêtre. Mon oncle a vécu à\\xa0l\\'étranger pendant de nombreuses années. Pourquoi est-ce qu\\'on rigole ? Je parie que tu es occupé. C\\'est bientôt Noël. Je suppose que tu sais que tu m\\'as manquée. Je deviendrai plus fort. Il a adopté son idée. Les pommes qu\\'il m\\'a fait parvenir étaient délicieuses. J\\'ai commencé à parler. La femme de Tom le quitta. Tom voulait que Mary sache qu\\'il ne la détestait pas. Je ferai un essai. Ôte ton manteau et fais comme chez toi. Ce n\\'était pas votre intention, si ? C\\'est un peu effrayant. Vous devez juste pousser sur ce bouton. Comment préfères-tu les œufs\\u202f? Tom attrapa la main de Mary. Elle vécut une longue vie. Qu\\'est ce que tu fais dehors à cette heure ? Y a-t-il quelque chose que vous ne nous dites pas ? Deux filles jouaient à la bascule. Personne n\\'a été renvoyé. Il a été malade pendant une semaine. Tom cuisine pour nous tous les jours. Il se leva lentement. Tom l\\'a probablement acheté avec l\\'argent que lui avait donné son père. Il est mort de mort naturelle. Le bâtiment que je vis était très grand. Une enquête est toujours en cours. Quiconque est-il dépourvu de l\\'un de ceux-ci ? Vous ne pouvez pas me reprocher cela. J\\'ai pris un antalgique pour mon mal de tête. Ça doit être sérieux. Je dois garder les yeux ouverts. Vous êtes inutiles. Elles sont en train de temporiser. Nous ne pouvons vivre sans eau un jour de plus. As-tu oublié ? C\\'est démodé. Quelqu\\'un d\\'autre entend-il cela\\xa0? Tom est un bon professeur. Mes enfants habitent à Boston. Vous pouvez être certain que l\\'argent que vous verserez sera utilisé à bon escient. Tom cessa soudainement de parler. J\\'ai une envie irrésistible de fruits frais. Tom a dit qu\\'il essayerait. Je ne voulais pas que tu te sentes seul. Es-tu sûre que nous ne nous sommes jamais rencontrés auparavant ? Je suis sûr que Tom le fera. Tais-toi et écoute\\u202f! Je vous supplie de rester. C\\'est vraiment chouette de votre part. Tom et Marie ne peuvent pas avoir raison tous les deux. Je vois votre maison. C\\'est tout ce que je peux t\\'offrir. Dois-tu faire ça à chaque fois\\xa0? Il chercha toute la journée après la lettre. Tom a reçu un accueil chaleureux. Vos questions étaient trop directes. Je la protègerai au prix de ma vie. Je me rappelle t\\'avoir déjà rencontré auparavant. J\\'ai menti à la police. Il peut venir. Profitant des vacances, je suis retournée chez moi à Nagoya. Il faut bien commencer. Nous avons tous des choix. La partie devint palpitante. Si vous ne vous fiez pas à elles, elles ne se fieront pas à vous. Je te prie de virer tout ton bazar de cette pièce. Tom n\\'est pas doué en cuisine. Quand as-tu commencé à apprendre l\\'allemand\\u202f? J\\'envie ta bonne santé. Elle fut tuée dans un accident automobile. Tom est encore trop jeune pour comprendre cela. C\\'est un livre. Il l\\'a fait pour sa famille. Je suis trop occupée. Je sais que Tom est ambidextre. Ne te précipite pas. Vous avez raison, je pense. Les enfants font des trucs stupides. Comment pourriez-vous ne rien dire ? Nous devrions obéir aux règles. Je tiens toujours parole. Le jour suivant, nous eûmes tous de terribles gueules de bois. Cela n\\'a pas beaucoup aidé. Je ne faisais que plaisanter. Fais tes devoirs immédiatement. Marcher de la station à la maison ne prend que cinq minutes. Tu ne seras jamais capable de garder un secret. Il fait froid. C\\'était idiot de ta part de ne pas apporter ton manteau. Je conduis un véhicule hybride. À quoi fais-tu allusion ? Combien de temps cela prend-il pour aller à Okinawa en avion\\u202f? Je veux simplement me marier. Nous nous sommes tous deux séparés l\\'année dernière. Mettons la fête sur pieds. Êtes-vous effrayés ? Il n\\'était pas sûr de savoir quoi faire. Tout le monde semblait triste de voir Tom s\\'en aller. Elle m\\'a donné plusieurs livres. Ça fait des semaines que je cherche mon chiot. J\\'ai perdu tout respect pour toi. Je m\\'attendais à moitié à ce que ça arrive. Aimes-tu danser ? Pourquoi n\\'êtes-vous pas déjà à bord du bateau ? Il veut toucher un auditoire plus large. C\\'est laid. C\\'est similaire à l\\'un de ceux-là. Je ne pense pas que j\\'arrive à manger ça. Tu es précise. C\\'est étrange. J\\'aime la façon dont Tom pense. Votre réponse est incorrecte. Attendez là. Pourquoi avez-vous dit une chose pareille\\u202f? Comment cela pourrait-il ne pas avoir d\\'importance ? Elle ajouta, après réflexion, qu\\'elle allait faire des courses. Il a bu une rasade de whisky. Ce fut une course difficile. Allez-vous voter aujourd\\'hui\\xa0? Tom a dit qu\\'il avait trouvé quelque chose sous le canapé. Il me faut vraiment y aller. J\\'allais vous demander la même chose. Mary est sans doute la copine de Tom. Elle lui a enseigné tout ce qu\\'elle savait. L\\'île était maintenant encerclée par la milice. Devrais-je aller vous chercher une chaise\\u202f? Je n\\'ai pas d\\'endroit où dormir cette nuit. J\\'ai besoin de trouver quelque chose à manger. As-tu jamais donné de l\\'argent à un mendiant ? Tout ce qui peut aller de travers le fera. Cette ville est à 1600 mètres au-dessus du niveau de la mer. Il n\\'est plus un garçon. Tu m\\'as fait une peur bleue ! Elle lui donna tout son argent. Nous sommes tous ici. Ses ennuis ne sont pas terminés. Ce fut la période la plus heureuse de ma vie. Je veux vraiment que Tom arrête de faire ça. Où as-tu trouvé cette liste ? Il me faut des preuves. Il est dépourvu de sentiments humains. Comment pouvons-nous apprendre la vérité ? Vous avez tellement de potentiel. Comme je me collais un rhume, j\\'ai été absent de l\\'école. Prends-moi un verre de lait. J\\'ai une voisine canadienne. N\\'importe lequel d\\'entre-nous pourrais le faire. Vous êtes passée au feu rouge. Son histoire était inventée. Nous espérons que votre séjour a été agréable. Je n\\'ai rien fait. Il n\\'est point besoin de précipiter les choses. La poussière s\\'était accumulée sur le bureau. Je n\\'ai pas les moyens d\\'acheter cela. Personne n\\'apprécie les rats. Elles veulent simplement faire ta connaissance. Je n\\'ai pas pris de douche. Je ne voulais pas que Tom ait des ennuis. Elle est inquiète pour votre sécurité. Il sera de retour dans un jour ou deux. Vous semblez heureuses. Vous avez quelqu\\'un à qui parler, n\\'est-ce pas ? Je comprends la frustration de Tom. Parlez-moi de vous. J\\'espère que Tom et Mary sont à l\\'école. Les Américains disent franchement ce qu\\'ils pensent. Je suis impressionnée par votre français. Si j\\'avais le temps, j\\'accepterais son invitation. Je ne l\\'ai pas vu. Vous serez bientôt convaincu que j\\'ai raison. Vous étiez heureuses. C\\'est irréaliste. Je ne peux pas supporter le bruit. Et maintenant, un mot de notre mécène ! Que la fête commence ! Il vous matait. J\\'aimerais faire une analyse de sang. Cette pomme a un goût amer. Tu n’avais pas besoin de te dépêcher. Tu es arrivé ici trop tôt de toute façon. J\\'ai besoin de vous ici. Quand êtes-vous allées au travail ? Tom est bûcheron. Tu ne dois pas trouver d\\'excuse si tu ne veux pas venir avec nous. Sa femme semble être étrangère. Merci bien. Comment prévois-tu de m\\'aider ? J\\'ai confectionné des biscuits. Elle sait très bien chanter. Je me suis sentie désolée pour toi. Il se pourrait que je puisse arranger cela. Je te donne assez d\\'argent, chaque mois, pour payer toutes tes factures. Vas-tu partir demain ? Je veux vraiment que vous arrêtiez. J\\'ai un peu merdé. Il entendit un cri. Je pensais qu\\'elle était mignonne. Je dois finir de faire mes valises. Je te blâme pour ceci, Tom. Y a-t-il quelqu\\'un avec qui vous vouliez vous entretenir ? Parles-tu aussi français\\u202f? Je ne fais pas de compromis. Une nouvelle année apporte toujours de l\\'espoir. Comment oses-tu dire une chose pareille ? Acceptez-vous les cartes Visa\\u202f? Il dormit la fenêtre ouverte. Seriez-vous prêt à écrire une lettre pour moi ? C\\'est ce que tu gagnes à ne pas écouter. Où est-ce qu\\'il va s\\'installer ? Je n\\'avais pas idée que tu étais si jeune. Peux-tu discerner ce qu\\'il essaie de dire ? Faites un roupillon sur le canapé ! Je ne vois rien. Ce pont en travers de cette rivière est le plus ancien de la ville. Tu dois suivre ton régime. Je pense que je dois y aller. Il secoua la tête avec colère. Pourquoi êtes-vous si maladroites ? Vous devez tenir votre promesse. Puis-je garder cette photographie\\xa0? J\\'apprécie vraiment celui-ci. Tu étais fantastique. Je continue à dire que nous aurions dû aider Tom. Je l\\'emmènerai avec moi à l\\'hôpital. Tous mes enfants sont nés à Boston. Personne ne m\\'écoute quand je parle. Aimerais-tu l\\'essayer ? Nous traversons la voie ferrée chaque matin. Il veut me tuer. Ne peux-tu voir que je suis occupée ? Y a-t-il un autre moyen par lequel je puisse te payer ? Levez la main gauche. Nous devons toujours être prêts. Je ne vais pas le faire avant lundi. Où est le marché ? Elle ne voulait pas qu\\'il se rende outre-mer. L\\'homme fut arrêté comme espion. Tu es le seul qui puisse m\\'aider. Je m\\'abstiens de boire. Elle lui écrivit une longue lettre mais il ne la lut pas. Désolée pour le bordel ! Pourquoi fais-tu ça ? Je perds patience avec toi. Vous devriez présenter vos excuses. Tom est orthophoniste. Je pense que vous connaissez tout le monde, ici. Tom garda la fenêtre fermée. Tom reçut un accueil chaleureux. J\\'irai où vous voulez. Je vais demain faire des emplettes. Ce livre est divisé en quatre parties. C\\'est la seule façon de le faire. Comment peux-tu ne pas apprécier les chevaux ? Ai-je l\\'air d\\'être occupée ? Permettez-moi de vous arrêter à ce point. Nous ne voulons pas en entendre parler. Il s\\'est converti au christianisme. Je pensais qu\\'il était clair que vous nous accompagneriez. Puis-je y toucher ? Je connais le nom de cet animal. Il a été accusé de conspiration. Devrais-je être jaloux ? Il y avait du sang partout. Buvez beaucoup d\\'eau. J\\'ai perdu ma clef. Les salaires ont augmenté. Ce n\\'est pas sécurisé. Quand t\\'es-tu mise à écrire des chansons ? J\\'ai besoin d\\'une interprète. La batterie est-elle complètement chargée ? Va voir un médecin ! Il joua des coudes pour se frayer un passage au milieu de la foule. Lance la balle, s\\'il te plait. Nous pouvions voir le lac Biwa d\\'où nous étions. La rumeur se révéla fausse. Le travail doit être terminé avant midi. Les mauvaises nouvelles ont des ailes. Il a une voiture étrangère. Chaque pays a son drapeau national. Vous n\\'avez pas l\\'air trop sûre. Viendra-t-il ce soir ? Je ne veux pas te voir être déçue, un point c\\'est tout. Il aime se déguiser en officier de police. J\\'avais une peur bleue. Pouvez-vous me faire la courte échelle, là ? Tom a confiance dans sa capacité. J\\'avais entendu dire que tu avais changé. Recrutes-tu ? Tu ne vas pas le raconter à Tom, n\\'est-ce pas ? Tu ferais mieux de te dépêcher. C\\'est moi qui leur ai remis un cadeau pour leur anniversaire. Je ne sais pas d\\'où c\\'est venu. Elles l\\'ont changé très récemment. J\\'étais fort affamée. Tom ne va pas assez bien pour aller travailler aujourd\\'hui. Je suis agriculteur. Pourquoi ne me donnez-vous pas ce que je souhaite\\xa0? Tu vas encore sortir avec Thomas ? Je ressens la même chose. Je vous ai vus dehors. Quel est votre podcast favori ? Nous aussi nous sommes ici. Attache le cheval à cet arbre ! T\\'es un mec marrant. Dans cette pièce, il y a trop de meubles. C\\'était vraiment sympathique de te revoir. Ma grand-mère a la main verte. Il a fini par faire de l\\'argent. Cette ville est réputée pour ses magnifiques jardins. Tom est debout là-bas près de la cheminée. As-tu déjà pensé à devenir enseignant\\xa0? J\\'aimerais aller aux États-Unis. Ai-je besoin d’en dire plus\\u202f? Il marchait un bâton à la main. Comment est-ce que je mange, sans cuiller ? Papa allongea ses jambes sur le sofa. C\\'est une question fondamentale. Quelle histoire ! Nous avons parlé sans l\\'aide d\\'un interprète. Comment oses-tu douter de moi ! Tu le sauras bien assez tôt. Excusez-moi, quel est le nom de cet endroit\\xa0? Aie de la compassion à mon égard ! Je suis vraiment heureux d\\'entendre ça. Tom compte sur Mary. Sortez-le d\\'ici ! Nous avons beaucoup de neige à cette époque de l\\'année. Tom était tout simplement génial. Êtes-vous sûre de vouloir y aller ? Puis-je garer ma voiture ici\\u202f? Je suis peut-être trop vieux. Prenons nous ensemble en photo. Je n\\'arrive pas à attendre jusqu\\'à l\\'été. Les enfants dorment à l\\'étage. Nous démissionnons toutes. Passeport, s\\'il vous plaît. Vous, décidez. La plupart des maisons japonaises sont faites en bois. Combien avez-vous apporté ? C\\'est un beau pays à visiter mais je n\\'y vivrais pas. Je sais monter à vélo. Réessayez lundi prochain. On va bien rigoler. Tu es aussi grand que ma sœur. Je veux vous parler seule. Détends-toi un instant ! Lorsque j\\'inspire profondément, une douleur me lance le long du côté droit de mon dos. J\\'aurais peut-être dû parler avec Tom. Vivre dans une maison encombrée est très stressant. Veux-tu vraiment gagner ? Il vous faut redécorer votre chambre. Donnez-moi simplement ce que je veux. Nous en avons maintenant besoin plus que jamais. Nous vous encensons. Vous avez dit que j\\'étais belle. Es-tu occupée ? Il a une assuétude à l\\'héroïne. Je ne dispose pas du temps pour une promenade. J\\'aime les endroits débordant d\\'activité. Une caractéristique importante de l\\'acier est sa force. J\\'aime être en ta compagnie. Nous eûmes une soirée agréable. Sortez les mains de vos poches ! Le dépliant est gratuit. Il est instituteur, alors il sait comment s\\'y prendre avec les enfants. De qui êtes-vous le plus proche dans votre famille\\u202f? Ce n\\'est pas assez grand. Nous pouvons nous faire de l\\'argent. Y a-t-il quelque chose que tu veuilles me dire ? Par quoi as-tu été frappé\\u202f? Je dois aller dormir. Il sera toujours avec toi. Il tenta de résoudre le problème. Puis-je voir l\\'exposition temporaire avec ce ticket\\u202f? Il ne voulait pas en parler davantage. Tu es le bouc émissaire. Il a visité Kyoto l\\'an dernier. Pourrais-tu m\\'accorder une pause\\u202f? Je me demande où Tom a appris comment faire cela. Je ne voulais juste pas que vous vous y rendiez seule. Tu as l\\'air contrarié. Tout le monde ici sauf vous a fait cela. Ils finirent leur repas. Tu as beaucoup de travail à faire. Tout le monde n\\'est pas de votre avis. Le mieux est de ne pas demander. Nous devrions interdire la publicité à destination des enfants. Je sais que vous êtes également occupés. Écris ton nom complet ! Croyez-vous vraiment à ce genre de choses\\xa0? C\\'est un scientifique de niveau international. Tu ne peux pas enterrer la vérité. Ce n\\'est pas une mauvaise hypothèse. Regardez cette montagne. Qu\\'avez-vous fait pendant les fêtes ? Elle va avoir un bébé. Je ne m\\'y connais pas trop en ordinateurs. Il pleuvait aux alentours de Chicago. Je déteste te voir si malheureux. Nous devons tirer le meilleur parti de la situation. T\\'ai-je fait sursauter ? Il survivra. Il court fort vite. Qu\\'ai-je fait de mes clés ‽ Quiconque t\\'a dit cela est un menteur. Nous prévoyons de boire du champagne à minuit. Les deux équipes se battirent âprement. Laisse-moi m\\'expliquer, je te prie. Je suis désolé. Je ferai n\\'importe quoi pour réparer cela. Il est toujours à ses rendez-vous. Personne ne peut pénétrer ici. Il était absent, en raison de la tempête. Y a-t-il des tremblements de terre en Allemagne\\u202f? Le fait que je perde patience n\\'a fait qu\\'empirer les choses. Savez-vous pourquoi il est absent de l\\'école\\u202f? Je ne l\\'ai jamais entendu se plaindre. Avez-vous trouvé votre sac-à-main ? Veux-tu sortir d\\'ici\\xa0? Il est difficile de le satisfaire. Ce voyage a-t-il été à la hauteur de vos attentes\\u202f? Je suis enchanté de vous rencontrer. Je suis intéressé par l\\'anglais. Êtes-vous sûrs de vouloir y aller ? Êtes-vous sûr de vouloir partir maintenant ? J\\'ai demandé à mon instituteur quoi faire ensuite. Je veux que tu me rendes ce que tu m\\'as pris. C\\'est le drapeau du Japon. Je suis dans la baignoire. C’est à qui, ce vélo ? Je me demandais quand tu allais me dire que tu m\\'aimais. Ma sœur s\\'est fait voler son sac en rentrant chez elle hier soir. C\\'est bon pour moi pour l\\'instant. Ces jumeaux-là se ressemblent comme deux gouttes d\\'eau. Je vais aller le chercher. Préchauffer le four à 130 degrés. J\\'ai fait contrôler ma vision. Tout va bien se passer. Il sera bientôt là. J\\'ai trop bu, hier au soir. Il fait commerce de quincaillerie. Peux-tu parler plus que trois langues ? Nous avons vu un étranger marcher dehors. Fût-il resté chez lui ce jour-là, il n\\'aurait pas connu le désastre. À dire vrai, je me sentais seul. Pourquoi n\\'êtes-vous pas simplement parti ? Sa mère est partie faire des courses. Tom aimera toujours Mary. Il est détesté de tous. Il ne lui était pas permis de se taire. Je l\\'ai accepté il y a longtemps. Je voudrais pouvoir vous donner l\\'argent dont vous avez besoin. Il n\\'a pas fermé l\\'œil. Elle l\\'exhorta à réfléchir à la demande. Ne le dites pas à votre mère. Veux-tu me dire encore quelque chose ? Nous sommes toutes ici. Ils se moquent souvent du chef. La cause de l\\'accident est un mystère complet. Je serai à l\\'étage si tu as besoin de moi. Je pense que vous avez l\\'air excitants. Une petite entreprise emploie 50 personnes. J\\'ai quelque chose à annoncer. Prenons le train de 4\\u202f:10. Ce chapeau te va bien. Elles ont fait le bon choix. Il est difficile, pour les débutants, de s\\'amuser en planche à voile. Tom a promis de m\\'emmener pêcher. Alors, vas-tu me dire qui tu es ? Nous sommes tellement contentes de vous avoir ici ! Je n\\'ai personne auprès de qui trouver conseil. Est-ce que vous êtes prêtes à aller au lit\\xa0? Je serai prudent. Je pense que vous êtes une menteuse. Comment pourrais-tu être si cruel ? Le renard a peu de prédateurs naturels. Je ne vous ai pas vus depuis un moment. Elle se rendit au musée en taxi. Tu n\\'es pas ainsi, d\\'ordinaire. Qu\\'est-ce qui soulage la douleur ? L\\'homme blessé dans l\\'accident a été emmené à l\\'hôpital. La marge bénéficiaire de cette entreprise est très importante. Tom a lu le poème à voix haute. Penses-tu que ce soit vrai ? Comment s\\'appelle cette chanson ? Voulez-vous partir\\u202f? Tom et Marie sont encore jeunes. Je veux revoir Tom. Il y a un sac sur le bureau. J\\'ignore ce que je ferais sans vous. Nous t\\'avons finalement menée là où nous te voulons. Il l\\'a mérité. Tu m\\'as beaucoup manqué hier. Il est tout le temps en train de dire du mal des autres. Il pleut des trombes. Ne compte pas sur moi. Il n\\'y est presque jamais allé. Ça dépend de ce que vous voulez dire. Il a été complètement lavé de l\\'accusation qui pesait contre lui. Je ne sais pas pour toi, mais je me sens assez bien aujourd\\'hui. J\\'étais agacée. Je veux étendre mes jambes. Il m\\'a appelé presque chaque jour. Elles ont dit que c\\'était important. Tom aime les cheeseburgers. Tournez au second feu à gauche ! Ça fait longtemps qu\\'il attend ici. Tom a fait vingt pompes. Nous vîmes, devant nous, un château. Tom se porte bien. Quoi d\\'autre peut-il aller de travers ? Mange tes légumes ! Je suis venu ici pour t\\'aider. Il est mort à la guerre. Je n\\'en ai pas encore parlé à Tom. J\\'ai attendu ceci toute ma vie. Ils levèrent les yeux vers le ciel. Je pensais que vous seriez partie et m\\'auriez quitté. Quel est votre passe-temps préféré ? C\\'est quoi qu\\'on nous a dit de faire ? Après trois heures au casino il est à deux mille dollars dans le rouge. Ce n\\'est pas aussi facile que tu penses. As-tu tout raconté à mon sujet, à tout le monde ? Il n\\'est pas marié. Tu étais à moi. Tom a passé la soirée entière à chercher sur internet des photos de célébrités. Toutes partagent la faute. Le cinéma est-il proche de la gare ? Et pendant que j\\'y suis, j\\'ai une autre question. Je me demande pourquoi les œufs se vendent à la douzaine. Chantez-vous toujours cette chanson dans cette tonalité ? Vous êtes si gentil ! C\\'est vraiment lumineux. J\\'ai pris moi-même cette décision. Je suis presque sûre que Tom sait ce qu\\'il est censé faire. Le docteur m\\'a conseillé d\\'arrêter de fumer. Tom l\\'a fait sans aucune aide. Comment Tom s\\'est-il fait attraper\\xa0? Pourquoi avez-vous peur de moi ? Votre chemise est froissée. Tu peux venir avec nous. Tom a dit qu\\'il avait nettoyé la maison toute la journée. Je l\\'apprécie, en quelque sorte. Il n\\'a plus de force. Vous êtes fort drôles. Elle porte de l\\'ombre à paupière. Tout le monde l\\'aime. Le voleur a été arrêté ce matin. C\\'est une fille si adorable\\u202f! Les villageois sont tous au courant de l\\'accident. Personne ne nous aidait. Je n\\'arrive pas à croire que vos parents vous laissent venir ici tous seuls. Je vis là ma sœur. Des millions de gens du monde entier pleurent la disparition de Nelson Mandela. Nous allons simplement discuter. Regarde derrière\\u202f! Essayez-vous de vous débarrasser de moi\\xa0? Tom était comme un père pour moi. Je savais que tu ferais quelque chose de grand. Eh ! Ce n\\'est qu\\'une histoire. Je pense que cela serait très utile. C\\'est un nouveau venu. Je ferai tout ce que tu souhaites. Êtes-vous sûr de vouloir vous y rendre ? Elle a rejeté ma proposition. Tous les étudiants l\\'admirent. Je suis habituée à ce que Tom me crie tout le temps dessus. Elle était au bord des larmes. Nous devons trouver ce qui ne va pas. C\\'était judicieux de ta part de prendre un parapluie avec toi. Je vous ai apporté un peu de café. Peut-être a-t-il plein de petites amies. Je ne le crois plus. Je pense à vous tout le temps. C\\'est un bon système. Nous devons être un peu plus efficace. À cause de la pénurie d\\'eau, je n\\'ai pas pu prendre de bain. Nous disséquâmes une grenouille pour examiner ses organes internes. Tom prend très soin de sa voiture. Tom dit qu\\'il va faire pousser plus de légumes cette année. Elle lavera le vélo cet après-midi. J’ai donné un dictionnaire à mon frère. Y a-t-il quelque chose qui cloche avec votre téléphone ? Tom est mort lundi, à Boston. Il trahit son pays. Je vais à Boston pour les vacances. Combien prenez-vous pour réparer un pneu à plat ? La chatte s\\'assit sur le tapis. Quant à moi, je veux rester en vie. Tom commença à débarrasser la table. Il promet de ne plus boire. J\\'ignore qui vous êtes. Il était impatient de voir sa fille. Elles sont allées au zoo. Il monta en vitesse dans sa voiture. Il me faut te voir. Tu as toujours à te plaindre. J\\'aimerais toutes vous souhaiter la bienvenue à bord. Il l\\'embrassa à nouveau. Vous êtes mignonnes, dans votre genre. Je n\\'arrive pas à croire que je vous aie écouté. Les trois frères doivent s\\'entraider. Savez-vous vous tenir sur la tête ? Qu\\'est-ce que je peux faire pour toi ? Arrête ! Tom et Mary se sont tous deux plaints du temps qu\\'il faisait. On se reverra un jour. Je n\\'ai jamais lu ce livre. S\\'intéresse-t-elle à moi ? Tom ne dormit pas de la nuit. J\\'aime la musique rock. Ils se sont accordés sur tout. Il me maltraita. Le sucre est sucré. Est-ce là votre vélo ? Ils sont dans la douche. Tu as besoin d\\'une bonne douche froide. Il ne se fait jamais inviter à des fêtes. Je n\\'ai pas les moyens d\\'acheter un autre ordinateur. Il travaille pour une grande société américaine. Retournons\\u202f! J\\'aurais aimé que vous ne m\\'ayez pas trouvé. Je ne comprends pas le sens exact de cette phrase. Je l\\'ai vu entrer dans la pièce. Je me sentis comme un réprouvé parmi ces gens. Tu as été d\\'une grande utilité, hier. Je pense que ça colle. Il n\\'est pas nécessaire de venir demain. Je pense que nous devrions tous aller à l\\'intérieur. Tu es aveuglé par l\\'amour. Nous ferions mieux de ne pas modifier l\\'emploi du temps. Le dîner est probablement prêt à l\\'heure qu\\'il est. Je ne veux juste pas que vous soyez contrariée. J\\'ai entendu le téléphone sonner. Ma chatte va avoir des chatons le mois prochain. Vivez-vous seuls ? J\\'ai causé ceci. Il a besoin d\\'argent. Tom a Windows 7. Je lui ai écrit pour une autre raison. Si vous continuez à enfreindre les règles du club, vous en serez exclu. Est-ce qu\\'il ressemblait à un docteur\\u202f? Il attendra. Je pense que ma maman le sait. Il y a un poste de télévision dans la pièce. J\\'essayais juste d\\'aider. Ça nous laisse malgré tout avec la question du pourquoi. Je te prie de ne plus jamais refaire ça. Baisse le volume. N\\'oublie pas que Tom est aveugle. Êtes-vous certains de devoir partir\\xa0? Il était assis à lire un livre. À quel sujet est toute cette agitation ? À qui parlais-tu\\u202f? On est dans le mauvais train. Pendant que nous étions en vacances, un voisin s\\'est occupé de notre chat. Tom pensait que tout était en ordre. Je ne le reconnus pas avant de l\\'entendre parler. Tu sembles occupée. J\\'ai rompu avec lui. Je n\\'y serais pas parvenue sans toi. Tu es surmenée. Qu\\'est-ce que tu voulais que je fasse ? Je pense que Tom a fait ceci. C\\'est tellement ironique ! Aller à cette école nécessite beaucoup d\\'argent. T\\'ai-je fait attendre ? Je n\\'aime pas avoir l\\'air d\\'un idiot. En écoutant les programmes en anglais à la radio, tu peux apprendre l\\'anglais gratuitement. Il est impossible de vivre sur cette île. Est-ce qu\\'il nous faudra acheter un livre pour ce cours\\u202f? Je suis en train d\\'attendre le bus. Je ferai n\\'importe quoi sauf cela. Tom plaisante. Seul le temps te dira si tu as raison. Nous cherches-tu ? Peut-être devrais-tu simplement laisser Tom seul. L\\'exposition était très impressionnante. Merci beaucoup, vraiment\\xa0! Il a bu une bouteille de vin. Elle nettoyait la maison en préparation de la fête. Je n\\'ai pas trouvé ça drôle du tout. Nous avons encore beaucoup de temps. Il avait l\\'air frais. Magnez-vous, les mecs ! Je suis désolée, nous ne pouvons rester plus longtemps. Quand ton premier amour a-t-il eu lieu ? Y a-t-il des places libres\\u202f? Le fusil s\\'est déchargé. Je pense à Tom toute la journée. Je ne ferai pas d\\'heures supplémentaires aujourd\\'hui. Tu crois vraiment que c’est une bonne idée? Je veux partir. Un changement de décor ne serait vraiment pas du luxe, pour moi ! Pourquoi ne m\\'en parlez-vous pas ? Tu es finalement parvenu à décrocher un emploi. La femme de Tom l\\'a quitté. Pourquoi demanderiez-vous cela ? C\\'était toi à la télé hier soir ? Je suis arrivé trop tard et ai loupé le train. J\\'y suis profondément opposé. Je ne veux pas vous voir être déçue, un point c\\'est tout. Nous n\\'avions d\\'autre choix que de faire avec. Il a déjà enseigné l\\'anglais. Tu vas devoir appeler Tom. Il est considéré comme l\\'un des meilleurs scientifiques du pays. Elle a été à Paris. Cette petite étoile est la plus brillante. La nourriture est nécessaire à la vie. Les promesses sont faites pour ne pas être tenues. Êtes-vous heureuse de faire cela ? Tu connais son nom, n\\'est-ce pas\\xa0? Le nouveau modèle devrait être commercialisé au début de l\\'année prochaine. Il était fatigué, mais il a continué à travailler. J\\'ai vu un chien blanc sauter par-dessus la clôture. La vieille dame vivait seule dans un appartement de trois pièces. Ce n\\'est pas important pour toi de le savoir. Je ne mange pas de viande de porc. Ce n\\'est plus un enfant. Ce sont tous des touristes. Ne va pas dans un endroit pareil en pleine nuit. Je sais que j\\'ai donné la bonne réponse, cette fois. As-tu parlé le moins du monde ? Pourquoi feriez-vous cela sans nous le dire ? Je vous laisserai la décision. Je me suis senti énervé. J\\'ai dû tout faire toute seule. Cette femme m\\'a accusé à tort. Il a rappelé à sa femme de le réveiller à 7 heures du matin. Tu dois prendre en compte son âge. Je n\\'ai jamais vu autant d\\'arbres de ma vie ! Je pense qu\\'il a besoin de s\\'y rendre. Ma voiture est en train d\\'être réparée. Elle a été frappé par la foudre. Je resterai là jusqu\\'à dix heures. Qu\\'est-ce qui n\\'allait pas avec l\\'ancienne ? Pourquoi t\\'es-tu mis de son côté plutôt que du mien\\u202f? C\\'était une journée agréable, mais il y avait peu de monde dans le parc. Ils te méprisent. Tu as encore une chance. Quand tu t\\'en iras tu me manqueras. Je dois devenir sourde. Le salon jouxte la salle à manger. Je n\\'ai pas compris la blague. Même s\\'il ne vient pas, il nous faudra commencer. Voici mon numéro de téléphone. Je suis ravi que tu aies mis cela sur la table. Je ne suis jamais allé à New York, et ma sœur non plus. Aimes-tu le chocolat blanc\\u202f? Avec qui y allez-vous ? Il répondit de manière incorrecte. Ne sois pas désolée ! Je prends habituellement mon dîner à 7 heures. Vous avez besoin de plus étudier. Sois gentil envers les aînées. Serait-ce de l\\'amour ? Tom a trois guitares. Il lui a fallu beaucoup de temps pour choisir un chapeau. Je sais que tu es intelligent. Cette pomme est mauvaise. Je n\\'arrive pas à te sortir de ma tête. Devrais-je continuer ? J\\'utilise ceci tout le temps. Je veux que tu prennes du repos. Qui a faim ? Vous ne me connaissez pas du tout. Quiconque le dit est un menteur. Est-ce tout ce qu\\'il y a ? Elles peignirent les cadres des fenêtres en jaune. Montre-moi ton tatouage. Je vais chez mon père deux fois par an. Je ne sais pas ce que ce mot signifie. Je le chercherai dans le dictionnaire. Ne laissez pas les enfants jouer avec des couteaux. Votre père est grand. Quiconque aimerait-il du café ? J\\'adore ce que je fais. J\\'en veux une aussi. Il me faut rester ici. Nous étions censés nous rencontrer à 14\\xa0h\\xa030. Je n\\'ai pas assez d\\'argent sur moi maintenant pour payer ce que je te dois. Cette chanson me rappelle le temps où j\\'allais au lycée. Tom m\\'a parlé du feu. N\\'oublie pas de poster cette lettre. Cela ne devrait me prendre que quelques minutes. Il a peint le plafond en bleu. Il m\\'a convaincu de son innocence. Sois prudent, je te prie. Dois-je prendre mon ticket maintenant ? Quel est leur but\\xa0? Tu comprends ce que je veux dire\\u202f? Je l\\'ai vu en train de scier un arbre. Est-ce que tout le monde est prêt pour le voyage? Au cas où il se passe quoi que ce soit, téléphone-moi immédiatement ! J\\'ai une opinion différente. Il sentit que c\\'était son devoir de partir. Marcher est une excellente activité. Le bébé dort. Il l\\'aimera toujours. Ils ont perdu l\\'esprit. Je ne suis pas découragé. Le terme \"nègre\" est offensant. Je ne veux pas vous voir être déçues, un point c\\'est tout. Je ne saisis pas ce qu\\'il dit. Tu devrais œuvrer dans l\\'intérêt de l\\'humanité. Ce n\\'est pas censé être amusant. Merci d\\'avoir fait tout ce chemin. Tu aurais dû le dire plus tôt. Nous nous rapprochons. Je vais d\\'habitude au lit vers onze heures environ. Peut-être peut-elle vous en dire plus. Ils penseront à quelque chose. Je pensais que je vous avais entendue. J\\'ai passé du bon temps, ce soir. Cela ne nous laisse pas beaucoup de temps. Tom a promis de m\\'aider. Tu devrais être sûr qu\\'il est chez lui avant de lui rendre visite. Ne ferme pas les yeux ! Je vous apprendrai à chanter. Je ne fais pas cela, normalement. Veuillez être prudente. La route était encombrée de voitures. Il doit avoir été malade. Il est bon au foot. J\\'étais jeune et j\\'avais besoin de l\\'argent. Mon programme est vraiment chargé en ce moment. Tous ces livres et vêtements sont à toi. Es-tu la fille que Tom a fréquentée ? La tienne est meilleure. C\\'est quelque chose qu\\'ils ont toujours eu envie de faire. Je crois que vous saignez. Avez-vous quelque chose sans alcool\\u202f? Que cherches-tu\\u202f? Depuis combien de temps êtes-vous sorti de prison ? Il est absent de l\\'école aujourd\\'hui. Il n\\'est vraiment pas fou. La conférence s\\'est achevée il y a deux heures. Une grosse vague a renversé le canoë. Il s\\'est vu retirer ses droits civils. Je veux vraiment clarifier cela. Je ne suis pas encore prêt. Inspire profondément et puis relâche-toi. Il est dommage qu\\'il ne puisse l\\'épouser. Si vous voulez rester ici, vous êtes bienvenus. Il est tombé dans une embuscade. Commencez à lire là où vous vous êtes arrêtée. Elle a acheté un poulet. Tom aime raconter des blagues. Elle a eu du mal à se lever. Inaugurons la réception. C\\'est votre problème, pas le mien. J\\'espère sincèrement que tu te remettras bientôt de ta maladie. Qu\\'êtes-vous en train de manigancer ? Il refusait de sortir. J\\'ai oublié mon déjeuner et j\\'ai acheté un casse-croûte à l\\'école. J\\'ai envie de faire ça avec Tom. Pourquoi as-tu déchiré le tissu, plutôt que de le découper avec des ciseaux ? Cela fait-il longtemps que tu travailles là-bas ? As-tu un quelconque argent ? Penses-tu pouvoir me sortir de là ? Tom est parti il y a trente minutes. Tom va au travail à pied quelquefois. Je suis professeur. Promets-moi de ne jamais refaire ça ! Je peux y regarder lorsque tu seras prête. Qu\\'est-ce que vous avez ? J\\'ai déménagé dans un nouvel appartement. Elle l\\'a épousé. Je veux chanter une chanson. Voyez-vous un inconvénient à ce que je pose quelques questions ? Il fallait que j\\'arrête. Vous pouvez lui faire confiance. Il ne vous trahira jamais. Une corde a été jetée à l\\'eau. On avait l\\'intention de commencer de suite. Je veux vous regarder danser. Je ne supporte pas la pêche. Quoi qu\\'elle porte elle est très jolie. Je ne sais pas comment faire ceci. Je faisais juste l\\'imbécile. En rentrant à la maison, j\\'ai rencontré un vieil ami. Comment parlez-vous aux femmes ? Êtes-vous sûre de ne pas vouloir venir ? Je veux que Tom jette un coup d\\'œil là-dessus. Tom est un professeur expérimenté. J\\'ai fini le travail hier. Quand avez-vous appris à nager ? Le Président entre en fonction demain. J\\'ai du mal à le faire. Pourquoi ne lui demandez-vous pas directement ? Je suis tombée d\\'un arbre. Faire une telle chose serait contre-productif. Je l\\'ai rendue. Les pièces sont désertes. C\\'est mon sandwich. Je suis dans la maison. Pourquoi me voudriez-vous ? Le sens de cette phrase est obscur. Quand allez-vous terminer votre devoir\\u202f? Je ne pense pas pouvoir me pardonner si je faisais cela. Il est habile aux jeux vidéo. J\\'aime le printemps. J\\'ai l\\'habitude de rester à la maison le dimanche. Je veux juste savoir à quelle distance nous allons. J\\'ai su que je te voulais au moment même où je t\\'ai vue. Ne le conte à personne ! C\\'est Tom qui m\\'a dit que tu étais malade. Je suis en train de réaménager. Il est écrivain et poète. Nous avons attendu des heures. Vous n\\'avez pas idée de la détresse dans laquelle elle était. Je ne suis pas en colère après toi, seulement très déçu. Que pensez-vous de ceux-ci ? Reviendras-tu demain ? Regardez mon bras. La situation changea l\\'année suivante. Je ne peux vous embrasser maintenant. À chaque fois que je te vois, je pense à ta mère. Pourquoi tous les trucs sympa t\\'arrivent-ils à toi ? C\\'est ce à quoi nous nous attendions. N\\'êtes-vous pas satisfait ? Mettez quelques bougies sur le gâteau d\\'anniversaire, s\\'il vous plait. Le bus était vide, à l\\'exception d\\'une vieille dame. Contrôlons-la. Ils sont médecins. Combien êtes-vous payée de l\\'heure\\u202f? Tu dois maintenant avoir très faim. Ce n\\'est ni bon ni mauvais. Y a-t-il un problème\\u202f? Finalement, il a réalisé son erreur. C\\'est moi qui suis si malade. Nous sommes réalistes. S\\'agit-il d\\'un film d\\'action ? Tout le monde criait. J\\'admire leur ingéniosité. Il y a toujours une première fois pour tout. Il a reconnu qu\\'il était impatient de s\\'enfuir d\\'ici. Je ne pense pas que Tom veuille me voir. Je pense partir à l\\'étranger l\\'année prochaine. Sa cousine, dont j\\'oublie le nom, était infirmière. Voulez-vous que je vous montre comment le faire ? Papa est impatient aujourd\\'hui. Acceptons que nous ne sommes pas d\\'accord. C\\'est ma paire de chaussures préférée. Les hommes, les chiens, les poissons et les oiseaux sont tous des animaux. Êtes-vous heureux ici\\xa0? Qu\\'as-tu dégoté ? Le médecin me fit une injection. Lorsque vous naviguez sur la toile, il se peut que vous soyez pistée par des sites. Tom ne savait pas comment répondre. Le chronométrage est tout ce qui compte. Vous n\\'êtes pas censées fumer ici. La mission s\\'est déroulée parfaitement. Je ne sors pas avec une fille. As-tu déjà vu un panda\\u202f? Vous n\\'avez pas mangé, n\\'est-ce pas ? Voudrais-tu quelque chose de plus facile ? Je te respecte. Il y a quelque chose que je dois vous demander. Comment puis-je me rendre à la gare\\u202f? Je vais vous montrer où ça se trouve. L\\'Amazone est le deuxième plus long fleuve du monde après le Nil. Tom a apporté un cadeau à chacun de nous. Maman et papa sont très nerveux. Je n\\'ai pas écrit quoi que ce soit. L\\'appartement se fait vieux. Pourquoi ne le redécorerions-nous pas pour en rafraîchir l\\'allure. Je ne suis pas aussi riche que je le fus. C\\'est une méprise. Il n\\'est pas facile de comprendre pourquoi tu veux partir. À peu près combien devrai-je payer pour tous les traitements\\u202f? Est-ce un vol direct\\u202f? Comment ça marche ? Je suis excité d\\'y aller. Le château pourrait être hanté. Puis-je venir chez toi ? Aimes-tu le football\\u202f? Je me sens très malade. Elle l\\'a accusé de lui avoir volé de l\\'argent. Tom a commandé une boisson. Je n\\'arrive pas à croire que votre mère vous aie laissée partir. Le professeur a une grande influence sur ses élèves. Ne vas-tu pas en faire part ? J\\'étais jaloux de vous. Apparemment, je suis adoptée. Ton chien mord-il ? Je vais t\\'emmener à l\\'hôpital. Ça tient debout. Tom a été nommé surintendant. Elles ne peuvent pas être toutes pleines. Je ne vous ai pas vue depuis un moment. J\\'ai hâte de le voir. Il vendit tout ce qu\\'il possédait. C\\'était un sentiment bizarre. Nous nous portons mieux sans toi. Garde cette information pour toi s\\'il te plaît. Cette biographie est fascinante. Tu ne devrais pas t\\'y rendre. Tom n\\'aime pas parler de son passé. Je ne savais pas que tu avais besoin de faire ça. Mon père ne se rend pas toujours à pied au travail. C\\'est une maladie du cuir chevelu. Quand vous êtes-vous mis à sortir ensemble ? Il serra soudainement ses bras autour d\\'elle. Quelqu\\'un m\\'a dit que je ne devrais pas me fier à toi. Vous semblez contrariés. J\\'ai un frère et deux sœurs. J’ai réservé une place. Je me couche à dix heures et demie. Veuillez ne pas laisser ici de choses de valeur. Je connais de nombreuses chansons. Tu ne vas pas te faire arrêter ou quelque chose comme ça ! Ils ont fixé la date et du lieu du mariage. Conduisez\\xa0vos\\xa0propres\\xa0investigations\\xa0! C\\'est dingue. Noël est le 25 décembre. Vous devriez chasser cette mauvaise habitude. Ce type vous dérange-t-il\\xa0? Vide le porte-monnaie dans ce sac. Le suspect a avoué. Tu ne peux en parler à quiconque. Viens te réchauffer au coin du feu. Le feriez-vous avec moi ? Peux-tu la fermer, je te prie ? J\\'ai quelques courses à faire. Je pensais qu\\'elle était malade. Je voulais juste dire que je vous aime. Comment se porte ta femme ? Je n’y crois plus. J\\'ai acheté un livre hier. J\\'ai été très occupé depuis que je suis rentré de l\\'étranger. Je me souviens d\\'eux. N\\'aviez-vous pas donné 10 000 yens il y a une semaine de cela\\u202f? Ce nœud ne va pas tenir. C\\'est une opération clandestine. Prends ton temps lorsque tu prends tes repas. J\\'aimerais oublier tout ça. Les scorpions sont dangereux. Je ne suis pas payée pour faire cela. J\\'ai juste la tête qui tourne un peu. C\\'est un peu compliqué. Je suis dépourvu d\\'expérience. Je suis innocent. Étaient-ils bons ? Pouvez-vous identifier ceci\\xa0? Il ne satisfera jamais aux attentes de ses parents. Il se sentit soulevé de terre. Pensez-vous que je devrais y aller seule ? Tom n\\'a pas applaudi après la performance de Mary. Tom s\\'habilla. Je pensais que vous étiez intelligente. Plus haut nous montons, plus l\\'air se raréfie. Tu es étourdie. Je ne suis pas naïve. Il n\\'y a pas de vent, ici. Ça va bientôt s\\'éclaircir. Puis-je avoir votre nom s\\'il vous plaît\\u202f? Il n\\'y a rien à ajouter. Je parie que vous avez faim. Tom a regardé Mary danser. Le plus sera le mieux. Qu\\'y avait-il là pour vous ? N\\'abandonne pas sans combat ! Je ne passe pas une bonne journée. Vous ne semblez pas très concernée. Ils sont sous la douche. Je n\\'arrive à étudier nulle part chez moi; il y a trop de bruit. Merci pour votre prompte réponse ! Éteins la lumière que je puisse dormir, s\\'il te plait. C\\'est tout ce que je voulais entendre. Tom n\\'avait aucun moyen de vérifier l\\'information. Les enfants observent les adultes. Tom étudie aussi le français. Ce n\\'est pas dans mon contrat. Je pense que vous devriez reconsidérer ceci. Je secouai la tête et dis non. Quel programme avez-vous regardé hier\\u202f? J\\'ai estimé nécessaire de requérir de l\\'assistance. Tom y travaille. Il doit être le principal. Tom n\\'a pas répondu à la question. Nous voulons toutes des changements. Elle l\\'aime. Quel type étrange ! Je ne pense pas pouvoir vous aider. Ce texte est destiné aux débutantes. Actuellement, je n\\'arrive pas à penser à quoi que ce soit d\\'autre. Tu ne peux pas me laisser maintenant. Il a décidé de ne pas partir. Je pense que nous pouvons éviter cela. Elle s\\'occupe de beaucoup de personnes âgées. Je suis ici pour requérir ton aide. Ma demeure est la tienne. Ne vous fiez à quiconque ! Mary va avoir un bébé. Nous pensons tous la même chose, j\\'en suis sûr. Je veux attendre et voir ce que Tom propose. Avez-vous entendu parler de moi ? Emmène-moi chez toi ! N\\'écris pas à l\\'encre. Je présenterai mes excuses. Ç\\'a été une année extraordinaire. Je veux te donner de l\\'argent pour t\\'aider à traverser ces vicissitudes. Je ne comptais pas te blesser. Sa théorie se fonde sur des faits. Ne gaspille pas ta salive. Vous êtes trop lent. Voulez-vous entrer ou pas ? Vous êtes tellement idiote ! J\\'ai décidé. Comment est-ce possible ? J\\'adore cette photo. Je n\\'en crois pas mes yeux. J\\'étais sûr que c\\'était ce que je voulais. Il parle couramment le français. C\\'est un jour froid alors boutonne ton manteau. J\\'ai passé toute la journée au parc. Pourquoi n\\'en ai-je pas été informé plus tôt ? Ce bol est trop petit. Je déteste être seule le jour de la Saint-Valentin. Nous avons acheté une table ronde. Tu pars demain\\xa0? Ne t\\'es-tu jamais teint les cheveux ? Je suis désolé d\\'être en retard. Ça c\\'est trop. La saison des pluies débute en juin. C\\'est ce que mes amis n\\'arrêtent pas de me dire. Je découvris trop tard que j\\'avais omis la partie la plus importante de mon discours. J\\'ai la tête qui me tourne. Tom est en train de parler. Tout ce que tu as à faire, c\\'est de me suivre. Les poissons vivent dans la mer. L\\'avez-vous bien connu ? Marie attend une fille. Il a pris sa retraite à l\\'âge de 65 ans. Il plaça les skis sur le dessus de la voiture. L\\'eau gèle à zéro degré, n\\'est-ce pas\\u202f? Il n\\'y a pas d\\'urgence. Je ne sais pas si nous allons y arriver à temps. Je ne veux faire aucune de ces choses. J\\'espère que tu es couverte par une assurance. Il est mon cadet de 2 ou 3 ans tout au plus. Aujourd\\'hui, elle va beaucoup mieux qu\\'hier. Je vous ai dit de ne pas m\\'appeler au travail. Ce curry est trop épicé. Nous ne sommes pas intéressés. À qui est-ce\\u202f? Veuillez rester assises. Choisissez une arme ! Nous sommes intelligents. Nous venons. Ils se sont mis d\\'accord pour commencer tôt. Je lis beaucoup d\\'auteurs modernes. Elle l\\'a appelé de tous les noms. Quel genre de dessert veux-tu ? Tom savait que Mary était riche. Comment voudriez-vous que nous procédions ? Ils relâchèrent la prisonnière. Minute, papillon! Comment as-tu l\\'intention de le faire ? Tom parle couramment le français. Ces derniers temps ont été difficiles pour Tom. Le chasseur a abattu un ours. Ce sont les avions qui se posent dans les aéroports. Elle était absente de la classe. Ça a été une sacrée semaine. Le roman se passe dans l\\'Angleterre victorienne. Ça me donne une idée. Es-tu sorti la nuit dernière\\u202f? Lis l\\'article. Tom n\\'avait pas peur de la police. Je m\\'adapte. Elle a l\\'habitude de parler en public. J\\'ai pris ton parapluie par erreur. Les jumeaux se ressemblent beaucoup. Je ne te regardais pas. Je n\\'ai pas envie de travailler aujourd\\'hui, allons jouer au foot. Nous sommes sûrs de cela. Mais bien sûr\\xa0! Comment se fait-il que je n\\'y aie pas pensé plus tôt. J\\'irai le mois prochain. Les chaussures se vendent par paires. La jambe de Tom est en voie de guérison. J\\'ai toujours pensé cela. Je ne vous hais point. Pourquoi vous disputez-vous toujours, vous deux ? Je n\\'ai pas de mots pour exprimer ma gratitude. Il a regardé sa montre. Les morts ne parlent pas. Un grand merci. Est-ce que tu as déjà mangé\\u202f? Les tortues marines ont une haute espérance de vie. Je me le suis rappelé de travers. Tom n\\'approuverait certainement pas. Est-ce que ça vous dérange si je fume\\u202f? Vous n\\'êtes pas censés fumer ici. Il ne vient pas toujours en retard. Tom se frotta le front. Quels âges ont vos enfants ? Place ça sur la table, s\\'il te plaît. Ce garçon parle comme s\\'il était adulte. Je ne lui ai jamais écrit, malgré l\\'envie irrépressible de le faire. Tu devrais vérifier que tu seras à l\\'heure. Tom ne t\\'attendra pas plus de dix minutes. N\\'aviez-vous pas envie de vous y rendre ? Je ne veux pas te descendre. Tu n\\'aimes pas le chocolat, n\\'est-ce pas\\u202f? Il est normal que tu te sentes un tantinet dans les vapes. Je pense que je ne te comprends pas. L\\'anglais est enseigné dans beaucoup de pays. Tom s\\'inquiète de trop. Je savais qu\\'il accepterait. À quoi êtes-vous bon ? Êtes-vous blessés ? Il fut fait capitaine. Tu as semblé l\\'apprécier. Il n\\'est pas au bureau. Avez-vous une sœur jumelle ? L\\'homme en charge du manège décida de s\\'assurer que tout fonctionnait correctement. Ces temps-ci, les affaires ne sont pas bonnes. Jusqu\\'à quelle heure restes-tu ouvert ? Ils vont dans cette direction. J\\'ai fait un rêve épouvantable cette nuit. Je t\\'ai donné ce que tu as demandé. Tom a rempli le formulaire pour moi. J\\'ai planté un pommier dans mon jardin. Elles sont arrivées à l\\'hôtel. Comment te rends-tu à l\\'école\\u202f? Tom a une sœur de 13 ans. Comment était le concert ? Allons déjeuner ensemble. Cela fait trois jours que nous essayons de joindre Tom. Je ne vous parlais pas. Je veux que Tom lise ceci. Thomas a acheté 3 bouteilles de vin rouge. Il répara sa montre par ses propres moyens. Le budget doit être équilibré. De nombreux poissons périrent. Je ne suis pas la patronne. Ne bois pas l\\'eau. C\\'est ton choix. J\\'adore nager. Tu n\\'as pas vu une agrafeuse par ici\\u202f? De nombreuses entreprises supervisent l\\'activité Internet de leurs employés. Je lui demanderai où il prévoit d\\'aller pendant les vacances. Il parlait avec une voix traînante typique du Texas. L\\'air est aux hommes ce que l\\'eau est aux poissons. Avez-vous déjà été à l\\'étranger\\u202f? Comment cela se passe-t-il ? Peux-tu lire ce caractère chinois\\u202f? Je ne suis pas sûr que je puisse me fier à lui. Les mots ne pourraient le décrire. Avez-vous compris ? Que voulez-vous faire après que vous aurez été diplômée ? J\\'en ai marre de toi. Dites-moi qui a fait ceci. Comment tout cela s\\'est-il résolu ? C\\'est fantastique. Je serai là tout de suite. Je ne peux pas me passer de ce dictionnaire. Tom a senti son téléphone vibrer. Elle doit avoir proféré un mensonge. Je me suis amusée. Je sais que Tom veut que nous allions à la piscine avec lui. Combien de tragédies de Shakespeare avez-vous lues\\u202f? J\\'aimerais entendre ce qu\\'est votre opinion. J\\'ai vu des larmes dans ses yeux. Il n\\'y a quasiment aucun livre. Ils ont été tués. Je craquai l\\'allumette. Y a-t-il quelque chose de particulier que tu veuilles entendre ? Parfois, j\\'ai envie de quitter ce travail. Ne me brisez pas le cœur ! La phrase ne contient pas de faute de grammaire. Taille-toi ! Tom ferma la porte de sa chambre. Ne soyez pas fou ! Est-ce que ce sont des explosifs? Combien de temps vas-tu rester à Boston\\xa0? Comment se fait-il que tu saches tout ça ? Tu n\\'es pas le bienvenu ici. Tom demanda à Mary qui elle cherchait. Nous avons beaucoup accompli. J\\'ai écrit cette chanson, juste pour vous. Tom trouva le chapeau que Marie cherchait au sous-sol. Je pensais que vous étiez allé chez vous. Je préférerais marcher qu\\'attendre le prochain bus. Elle l\\'a embrassé sur la joue. Vous n\\'y êtes pas bons. J\\'ai une surprise pour toi, mon chéri. Je ne vais pas livrer de noms. Penses-tu vraiment que ce ne soit pas bon ? Je lui ai demandé de relever les chiffres du compteur. Le garçon d\\'à côté est tombé d\\'un arbre la tête la première. Penses-tu que nous aurons beau temps ? Il est devenu pâle à l\\'instant où il l\\'a vu. Quand vous êtes-vous mise à écrire des chansons ? J\\'ai reçu du shampoing dans les yeux et ça fait mal. Elle lui enseigna à jouer du piano. Peux-tu croire que ce soit vraiment en train d\\'arriver ? Nous partons immédiatement. L\\'antilope s\\'enfuit. Elle est venue me rendre visite. L\\'avion décolla à l\\'heure. La famille semblait frappée d\\'une malédiction. Pourrais-tu bouger un peu la chaise\\u202f? Je n\\'avais pas les idées claires. Pourquoi m\\'as-tu évitée ? Nous nous réjouissons de votre visite dans nos nouveaux bureaux. Joue le tout pour le tout ! Elle est arrivée alors que nous étions sur le point de partir. Tu es veinard. Ma famille et mes amis me manquent. Je suis désolée. J\\'ai oublié. Je vais couper cet arbre. Ma robe est ruinée. Je me plaindrai si je le veux. Retiens ta respiration, s\\'il te plait. Tom veut une bière. J\\'ai besoin de te parler d\\'une affaire pressante. Il ne va pas mieux et il y a peu de chance de guérison. Il ne peut pas avoir moins de 30 ans. C\\'est toi qui l\\'as fait ! Pouvez-vous me donner un autre oreiller\\u202f? Le talent musical s\\'épanouit généralement à un âge précoce. Je dois faire réparer mon vélo. Tu parles vraiment bien français. Il s\\'agit d\\'un outrage. Comme la règle le veut, je vais à l\\'école avant huit heures. Vous trouverez la lettre sous ces papiers. Elle a décidé d\\'y aller. En général les consommateurs préfèrent la quantité à la qualité. C\\'est la chose la plus étrange que j\\'ai jamais faite. Je déteste le petit ami de Mary. Tout dépend de l\\'argent. Tom te trouvera. Tom a perdu ses amies. N\\'oubliez pas de me prendre à six heures demain. Le vieux devant nous a quatre-vingt-douze ans. Retournez dans la maison. Tom le regarda de plus près. Il ne part jamais à la pêcher sans amener son fils avec lui. Je fais mes devoirs. Tom et Mary acceptèrent de travailler ensemble sur le projet. Je n\\'ai tiré sur personne. As-tu un ticket ? J\\'avais un calcul rénal. Dis la vérité. Tom avait l\\'air très fatigué quand je l\\'ai vu hier. Il n\\'a pas encore lu le livre. C\\'est la seule manière. Beethoven a écrit neuf symphonies. Qu\\'est-ce qui t\\'a effrayée ? Tu es probablement trop jeune pour comprendre ce qui va sans doute se produire ensuite. Vous savez que je vous aime ! Je sais déjà ce que Tom veut me dire. Il m\\'a aidé à nettoyer le bordel. Tournez au prochain feu à gauche s\\'il vous plaît ! Mon silence n\\'a fait que l\\'énerver encore plus. Nous en sommes fiers. Je ne suis pas prête à faire cela. Tu es la seule pour moi désormais. Est-ce que je ne vous connais pas de quelque part ? Je n\\'ai pas besoin de votre aide. Cette poule n\\'a pas pondu d\\'œufs ces derniers temps. Je sais que Tom est ennuyeux. Ils étaient riches. Pourquoi ne m\\'en avez-vous pas parlé plus tôt\\xa0? Qu\\'allez-vous en faire ? Je ne suis pas supposée faire ceci aujourd\\'hui. Il est meilleur que ce qu\\'il était. Je dois être rentrée chez moi pour dix-neuf heures. Tom a envoyé un cadeau à Mary. Quiconque s\\'y trouve-t-il ? Je ne suis pas sûre de suivre ce que tu dis. La somme des angles d\\'un triangle vaut 180 degrés. Je suis reconnaissant envers mes amis. Tu étais merveilleuse aujourd\\'hui. J\\'ai un rêve. L\\'information que vous m\\'avez fournie n\\'a guère d\\'utilité. Je les ai vus ensemble à plusieurs occasions. Il fait des efforts pour arrêter de fumer. C\\'est vraiment ce que tu veux ? Je suis habitué à ce que personne ne m\\'aime. J\\'habite avec mon oncle. Ne le prends pas pour toi. C\\'est une faute de frappe. Désolé. Le monde est-il ce matin plus fou que d\\'habitude ? Il cherchait constamment à déclencher une dispute. Elles souhaitent quelques heures supplémentaires pour finir le rapport. Tom, Mary, John et Alice sont tous canadiens. Ce n\\'est pas assez gros. Je pensais vous avoir reconnu. Ce n\\'est pas quelque chose qu\\'on oublie. Je pense que la jupe de Marie est trop longue. Je ne pouvais refuser. Il se peut que je n\\'obtienne rien de ce que j\\'ai demandé. Tu devrais aller voir un médecin. Il est vraiment lourd. J\\'ai construit une nouvelle maison. Le médecin de Tom lui a dit d\\'arrêter de fumer. Il dit s\\'appeler Tom. Je déteste la nourriture d\\'hôpital. Je croise les doigts pour que tout aille bien pour toi aujourd\\'hui. Ne me dictez pas qui je dois apprécier ! Pourquoi ne pas te mettre à courir ? J\\'ai dressé une liste. Étiez-vous occupé la semaine dernière\\u202f? Il a dédié sa vie à la préservation de l\\'environnement. C\\'est exactement ce que j\\'escompte. Je ne peux pas regarder ça plus longtemps. Presque un tiers des victimes de la fusillade étaient des adolescents. Arrête de râler. Ne devriez-vous pas appeler la police\\xa0? Avez-vous acheté des fleurs ? Que n\\'aimes-tu pas ? Hier, j\\'ai vu Shinichi à Kakogawa. Ils ont tous triché. Je pense avoir oublié quelque chose. Ça me convient parfaitement. Au début de l\\'adolescence, je ne m\\'entendais pas toujours très bien avec mes parents. Mon père est occupé. Êtes-vous végétarienne ? Tout ce qui vous intéresse, c\\'est l\\'argent. Tu n\\'auras peut-être pas autant de chance, la prochaine fois. Ils étaient tellement heureux ensemble. Nous sommes tous arrivés. Ça m\\'a fait me souvenir de vous. Elle a magnifiquement joué au piano. La liberté est si importante que nous n\\'insisterons jamais assez sur son importance. Mon appareil photo est bien meilleur que le sien. Je n\\'ai personne d\\'autre à blâmer que moi-même. J\\'ai dû payer une forte somme pour le récupérer. Vous n\\'allez pas vouloir manquer ça. Je dois te dire que je ne t\\'aime plus. J\\'essaye de trouver un avocat pour s\\'occuper de mon affaire. J\\'ai besoin d\\'un peu d\\'aide, à ce stade. Et si tu venais au cinéma avec moi\\u202f? Je n\\'ai pas beaucoup dormi, ces derniers temps. Il a de bonnes chances d\\'être élu. J\\'ai beaucoup de problèmes pour le moment. Tu as encore sommeil ? Les filles se sont évanouies. En cas d\\'incendie, utilisez les escaliers. Elle le fixa et cela le rendit très nerveux. J\\'ai un peu peur. J\\'aurai terminé le travail avant que tu ne reviennes. Je suis heureux pour toi. Je suppose que des conseils ne seraient pas du luxe pour moi. Tom a vécu dans sa voiture un moment après avoir rompu avec Mary. Merci d\\'être venu ce soir. Donnez-moi une table pour deux près de la fenêtre. Un gros typhon approche. Vous êtes génial. Au moment où je tenais le bébé dans mes bras, il commença à pleurer. Tom tira une boîte de sous le lit. Un jour, mon rêve deviendra réalité. Rien ne dure éternellement. Pouvez-vous le faire en une journée\\u202f? Je voulais juste jouer au baseball. Il travaillait pour un homme riche. Une de ses deux filles vit à Tokyo et l\\'autre à Nara. Elles étaient toutes occupées. Le médecin m\\'a conseillé de ne pas trop manger. J\\'ai toujours pensé que vous saviez nager. Que contient-il\\u202f? Est-ce que Tom travaille\\xa0? Lorsque je suis avec toi, je suis heureux. Assois-toi et tais-toi ! Je suis certain qu\\'il va venir. Il eut un accident. Je me fiche de ce que tu en fais. J\\'ai confectionné du moelleux au chocolat. Je pense avoir bien fait. Nous savons où est Tom. Je n\\'ai pas eu de ses nouvelles depuis cinq ans. Ses romans sont aussi édités en anglais et en français. Il peut imiter les autres membres de la famille. J\\'aime le riz. Il n\\'y a pas de lait dans le verre. Il incitait un jeune homme innocent à se joindre à lui dans son affaire douteuse. Je ne changerai jamais. Que dites-vous d\\'aller dîner dehors, ce soir, pour changer\\u202f? Tom est assez vieux pour être le grand père de Marie. Tu peux prendre ce que tu veux. La Joconde affiche un sourire énigmatique. Détiens-tu le tableau ? Je ne vous ai pas vus entrer. Je ne suis jamais allé en Amérique. Je pensais que tu étais la responsable. Tout à coup, il se mit à pleuvoir. Pouvez-vous vous le payer ? Êtes-vous certain que c\\'est sûr ? Gardons un œil là-dessus. C\\'est presque terminé. Vous ne pouvez pas manger ici. Voici une rose jaune. Il a traduit ce livre du français vers l\\'anglais. Tout le monde lors de la fête s\\'appelait Tom. D\\'accord, je le commanderai. Je pense que c\\'est bon à présent. J\\'y suis presque. Cette vedette de cinéma a beaucoup d\\'admirateurs. Lorsqu\\'ils ont déménagé en ville, ils ont trouvé que se faire des amis était facile. J\\'en prendrai soin. Il m\\'a impressionné avec ses tours de magie. Faites attention à ne pas vous faire de mal ! La voiture n\\'a presque plus d\\'essence. C\\'est complètement insensé. J\\'y suis désormais habitué. Ma chambre grouille d\\'araignées. Cherchez-vous du travail ? Je suis convaincu d\\'avoir le bon numéro. La pierre est parfaitement lisse. À un moment, ils étaient en train de se disputer, et au moment suivant, ils étaient en train de s\\'embrasser. Elles trouvèrent la pièce vide. Quel merveilleux pays ! Les lapsus donnent souvent des résultats inattendus. Il a choisi un cadeau de Noël pour elle. Il a été blessé durant l\\'accident. «\\xa0Voulez-vous laisser un message\\xa0?\\xa0» «\\xa0Non, merci.\\xa0» Je vous dois de plates excuses. J\\'ai un mal de dents terrible. Ils ont tant perdu ! Ça n\\'est qu\\'un placebo. Es-tu jamais monté à dos de mule ? Attendons ici qu\\'il s\\'arrête de pleuvoir. Que faites-vous lorsque vous n\\'avez pas le temps de déjeuner ? Tout se passe tellement rapidement. Les affaires s\\'améliorent. Votre mère est morte d\\'inquiétude à votre sujet. Ce n\\'est pas grave. Marie ressemble à sa mère mais elle a une personnalité différente. Ne me rappelez plus jamais ! Achète la robe que tu veux. J\\'ai sauté de joie lorsque j\\'ai entendu les nouvelles. Je n\\'avais aucune idée que vous pouviez parler français si bien. Arrives-tu à lire cette indication au-dessus de nous ? Tom est grassouillet. Un chien a été écrasé par un camion. Il a de gros problèmes. Tom ne sait pas ce qu\\'il fait. Tu peux t\\'y fier. Tom porte un chapeau noir. Après avoir marché un moment, nous sommes parvenus au lac. Nous ne le pouvions pas. Par chance, la porte était ouverte. Pouvez-vous me recommander un bon restaurant? Je sais que vous êtes né à Boston. Ça semble correct. Ils me l\\'ont donné. Je ne m\\'attendais pas à vous trouver ici. Elle a un avantage sur moi. Si je pouvais, je laisserais s\\'envoler librement tous les oiseaux en cage. Veux-tu que je sois ton garde du corps ? Demandez à n\\'importe qui. Une neige abondante nous empêcha d\\'aller à l\\'école. Franchement, je n\\'aime pas ta coiffure. Elle lui a conseillé d\\'y aller seul. Je suis occupé en ce moment à écrire un livre. Je ne sais pas te dire comment prononcer ce mot. Asseyons-nous ici. Je n\\'en ai pas la moindre idée. Nous l\\'avons fait deux fois en trois mois. Nous nous en souvenons. C\\'était idiot de sa part de refuser sa proposition. Pourrais-tu me lire ça ? Je vous suis reconnaissante pour votre vigilance. Comment pourriez-vous m\\'aider ? Personne ne m\\'a suivi. Je vais t\\'attendre ici. Vous êtes toujours en désaccord avec votre patron. Nous avons deux enfants. C\\'est exaltant. Je ne savais pas que vous attendiez. Tu mens ! Ils souffrent du paludisme. Puis-je emprunter ta gomme un instant\\u202f? Elle lui a acheté un chien. Cependant, il était allergique aux chiens, ils ont donc dû le donner. Pourquoi dites-vous adieu ? Personne ne dit quoi que ce soit de tel. Je n\\'ai pas besoin de conseillers. Revenez à vous ! Je ne peux plus du tout supporter ses mauvaises manières. N\\'oublie pas de te brosser les dents. Ce n\\'est pas surprenant. Écrivez une ligne sur deux. Ça dépend de vous. Je ne fais que ce que je peux. Comme c\\'est souvent le cas pour les jeunes gens, il ne fait pas beaucoup cas de sa santé. Il y a beaucoup de rats. Vous n\\'auriez pas dû faire ça. C\\'était mal. Je ne suis pas belle. Tom frappa à la fenêtre de la chambre de Marie. Tom est censé le faire sans aucune aide. Nous n\\'avons rien fait de mal. Ce n\\'était qu\\'un baiser. Je dois étudier en vue de l\\'examen. Tom est vulgaire. J\\'aimerais regarder ce film à nouveau. Il était sept heures trente. Il ne faisait pas si froid. On t\\'a demandé ton avis ? Nous embarquerons dans l\\'avion dans une heure. Veuillez parler aussi clairement que vous le pouvez. Je serais ravie si ça survenait à nouveau. Je ne vais pas le dire à nouveau. Le bonheur au sein du mariage est entièrement une affaire de chance. Ils s\\'assirent sur un banc dans le parc. Nous ne sommes pas trop jeunes pour dire à quoi l\\'amour ressemble. Laisse moi te dire quelque chose à mon sujet. Il n\\'y a personne. As-tu eu gain de cause ? Dis-moi ce que j\\'ai à faire. C\\'est une question de principe. Je sais que vous êtes amoureuse de moi ! Qu\\'est-ce que Tom voulait que nous fassions\\u202f? Tom devrait faire ce que Mary dit. C\\'est une chose terrible. Je me suis cassé la jambe en skiant. Bah ! Ça fait une paille. Toute l\\'assistance était émue par son discours. Je me sens presque désolée pour vous. Ça va dépendre de quand. Vous ne saignerez pas à mort. Ta mère est-elle là ? D\\'année en année, la pollution empire. Il peut nager vite. Ils étaient très perplexes. J\\'apprécie vraiment d\\'être avec vous. Qu\\'étais-je sur le point de faire ? Lequel prendriez-vous ? Il a été blessé dans l\\'accident. Elle connaissait l\\'ado. J\\'étais alors étudiant. Je pense avoir réussi. Je suis reconnaissante pour l\\'invitation. Le médicament doit subir des essais cliniques avant autorisation. Cette robe lui allait à ravir. C\\'est la raison de ma présence. Je n\\'avais pas besoin de rester. Je veux m\\'assurer que vous êtes celui que vous dites être. Je ne peux pas du tout comprendre ce que vous avez dit. C\\'est tellement mauvais, c\\'est hilarant. Tom est intolérant. Ne l\\'appelle pas maintenant. Tu ne saisis jamais mes plaisanteries. Je me suis fait prendre. Je viendrai te voir quand j\\'irai mieux. Qu\\'est-ce que Tom va faire l\\'été prochain ? C\\'est mercredi. Je pense qu\\'il se peut que tu aies raison. Ne joue pas avec le feu ! J\\'ai déjà perdu trop de temps. Elle ne put s\\'endormir car elle pensait à lui. Nous allons travailler tard. Cette offre d\\'emploi est encore valide. Ils ont été attaqués. Tom semble jeune. Je suis à moitié Japonaise. Je ne suis pas d\\'humeur à débattre de politique, là, maintenant. Que sommes-nous toutes en train de faire ? Il lui conseilla de faire davantage d\\'exercice. Peut-être n\\'êtes-vous pas d\\'accord avec lui mais, au moins, il défend ce à quoi il croit. Pour faire de l\\'argent, il faut en vouloir. En voulez-vous encore une ? Tu ne peux pas simplement ne pas te montrer. Tom a dit à Mary qu\\'elle devrait avoir honte. La Lune tourne autour de la Terre. Ne vous en faites pas ! Tout ira bien. J\\'ai déjà parlé à Tom. Son contact chaleureux avec les gens l\\'a rendu extrêmement populaire. Ce n\\'est pas nouveau. Si tu te fais percer l\\'oreille droite, cela signifie que tu es homo. A-t-il admis qu\\'il avait tort\\u202f? Est-ce que tu as une voiture ? Vous n\\'êtes pas obligé d\\'en parler si vous ne voulez pas. Vous faites la bonne chose. Elle n\\'a pas de raison de vous sermonner. En voici les originaux. Est-ce important pour toi\\xa0? Je ne suis certainement pas votre ami. Le voleur a été arrêté ce matin. Comment as-tu appris à si bien parler le français ? Elle rencontra l\\'homme de ses rêves. Je ne comprends pas pourquoi les pizzas pepperoni sont si populaires. C\\'est à toi de décider quoi faire. Les gens attendaient un discours de victoire. Vous avez tous l\\'air en bonne santé. Je m\\'ennuie. Faisons quelque chose ! Six personnes ont posé leurs candidatures pour le job, mais aucune d\\'entre elles n\\'a été employée. Les filles sont folles. Je suppose que tu penses que je suis riche. Cette loi s\\'applique pour tout le monde. Qui sait que vous avez ceci\\xa0? Je suis heureux d\\'avoir un ami comme toi à qui me confier. Connaissez-vous la raison\\u202f? Elle cuisina un dîner spécial pour lui. Son enfant se conduit bien. Tom se disait reposé et qu\\'il se sentait prêt à reprendre la randonnée. Combien de temps devons-nous rester ici ? J\\'ai grandi près d\\'une rivière. Le vol de Tom a été décalé de trois heures. Au moment où il ouvrait la porte, il sentit quelque chose brûler. Nous sommes en train de rédiger le rapport. J\\'ai fait des affaires avec ce magasin pendant des années. Que pensez-vous de ce plan ? Elle et moi sommes frère et sœur. Penses-tu que nous pourrons faire ça sans aucune aide\\xa0? Il portait une cravate bleu clair. Vous avez raison, bien sûr. Il est clair que tu n\\'es pas intéressé. Posez le fusil. Il vient de m\\'arriver quelque chose d\\'incroyablement étrange. Ses prédictions pourraient devenir réelles. Tu es dotée d\\'une assez bonne mémoire. Est-ce qu\\'on doit faire ça maintenant\\xa0? Je veux racheter mon vélo. Je n\\'en suis pas sûr. Veuillez vous asseoir une minute. Il fait si chaud dehors que je veux passer toute la journée dans ma maison qui a l\\'air conditionné. Je n\\'avais pas d\\'autre choix que de faire ce qu\\'il demandait. Tous les villageois partirent dans les montagnes à la recherche d\\'un chat disparu. Tu es un peu en retard. Le prix varie de 10000 yens entre un jour de semaine et un jour de vacances. Avez-vous un fils ? Il veut apprendre à nager. Qu\\'est-ce qui ne va pas avec ton téléphone ? Si vous n\\'êtes pas prudentes, vous pourriez avoir un accident. Ne le tenez pas à l\\'envers. Veuillez excuser mon écriture illisible. Pour autant que je sache, c\\'est un homme digne de confiance. Je t\\'ai entendu siffler. Tu dois être heureux. J\\'espère que vous n\\'êtes pas offensées. On devrait toujours tenir ses promesses. Il veut aller aux États-Unis d\\'Amérique. Les deux façons d\\'écrire sont correctes. Je suis toujours marié. Nous devrions sortir ensemble, un de ces quatre. Je ne sais pas pourquoi Tom se plaint toujours. Y a-t-il quelque chose que tu voudrais que je t\\'achète ? Je pense être d\\'accord. Où a-t-elle acheté des livres ? Vous avez de très belles lèvres. Tu as compris de travers. Je ne suis pas un locuteur natif. Il porte toujours des chemises bleues. Je n\\'ai jamais entendu parler de lui. Vous êtes plus grande qu\\'elle. L\\'équipe attendait. Ils ne voulaient pas passer beaucoup de temps à en discuter. La route se trouve dans un état déplorable. Il n\\'a pas plu depuis deux semaines. Attends précisément ici. Il me fallait le faire aujourd\\'hui. Que vois-tu ? Tu ne peux pas me battre, Tom : je joue au tennis depuis que je suis petit. Suis-je inclus ? Aucun entraînement ne peut nous préparer à cela. Il a été enrôlé dans l\\'armée. Pouvez-vous soulever cette pierre\\u202f? Nous ne vous demanderions pas de faire cela. Je serai prêt la prochaine fois. Tu devrais moins fumer. Je sors faire une promenade tous les jours, sauf quand il pleut. Tom n\\'est pas très aimable envers Mary. Vous êtes très élégantes. Savez-vous qui a dit ça ? Les protestataires tentèrent de perturber la réunion. Je ne viens pas souvent ici. Mon stylo est à court d\\'encre. Es-tu sûre qu\\'il n\\'y a pas de viande dans cette soupe\\xa0? Beaucoup d\\'étudiants furent présents au cours. Voici Tom. Je ne me suis jamais rendu à l\\'étranger. Suis-je supposé te remercier ? C\\'est comme d\\'être un enfant dans une confiserie. Je veux ces rapports, dans l\\'heure, sur mon bureau. Avez-vous pensé à notre offre ? Vous êtes en avance. Verse-moi un verre de vin. Ce fut plutôt amusant. Je revérifierai. Cette maison est grande. Je suis habitué à ce que Tom me crie toujours dessus. Je ne pris rien. Si vous m\\'aviez demandé, je vous l\\'aurais dit. Ce fut un succès retentissant. J\\'étais étendu sur mon lit. Tom a dit qu\\'il a apprécié. Tom est la plus grosse personne que je connais. Les choses ne sont pas toujours ce qu\\'elles semblent. J\\'espère que ce n\\'est pas vrai. Je préférerais rester à la maison que de sortir. Maintenant laisse-nous. Cette idée est-elle la vôtre ? Je refuse de répondre à la question. C\\'est mal de dire un mensonge. Pourrais-tu prendre contact avec lui ? Ça m\\'est égal que vous soyez occupée. Je vous prie de m\\'aider maintenant. J\\'ai dit oui. Êtes-vous végétarien\\xa0? Votre français est bon. Tom est encore très malheureux. Cette cheminée est faite de briques. N\\'oublie pas de voter ! Je ne veux pas que tu me voies nue. Cette entreprise est dirigée par mon frère aîné. J\\'ai fait un rêve bizarre, la nuit dernière. J\\'aime que tu fasses ça. Je me demande si tu es vraiment heureuse. Pourquoi m\\'imitez-vous ? Je n\\'ai pas prétendu être ton ami. Pourriez-vous répéter cela ? Je ne peux pas accomplir mon travail sans un ordinateur. Tom ne mange presque jamais de fruits. Demain après-midi, il sera en train de jouer au tennis. Je voulais simplement m\\'en assurer. Je vais résoudre ce problème tout seul. Regarde des deux côtés du panneau. Les chats ne sont pas mon truc. Je ne suis vraiment pas très bon en français. Tu es mince. Nous avons passé une mauvaise journée. Pourquoi m\\'avez-vous fait ça ? Il y a beaucoup de personnes différentes en Europe. C\\'est une histoire déprimante. Nous avons été très prudents. Il ne pouvait pas comprendre la phrase. Il ne sait pas grand-chose du Japon. Il est souvent absent de l\\'école. Je connais un homme qui sait bien parler russe. En es-tu vraiment sûr ? Il fait de plus en plus froid. Jouons à la balle au prisonnier. Ne t\\'inquiète pas pour moi. Éteignez la lumière ! Je t\\'aimais. Je me suis endormi avant que mon père rentre à la maison. Qui est votre professeur ? Tu n\\'es pas forcé de présenter tes excuses. Je vais au travail en voiture tous les jours. Ma mère m\\'a fait étudier pendant trois heures la nuit dernière. Ce livre est facile à lire. Je ne te le demanderais pas si ce n\\'était pas important. Je ne suis dans le camp de personne. Que suis-je supposé faire maintenant ? Amuse-toi bien avec ! Je t\\'ai cherché partout. Ma vue empire. C\\'était un bon choix. Voulez-vous savoir pourquoi j\\'ai menti à Tom ? Il doit beaucoup de son succès à son épouse. Pourquoi Tom n\\'est-il pas parti? J\\'ai un œil au beurre noir. Je te réparerai ton évier, si tu veux. Pourquoi as-tu menti\\u202f? Je ne savais pas que vous étiez si fatigués. Oui, je le sais. Mon père travaille en usine. Je suis stricte. Réfléchis à ce que tu as fait. Prenons des sushi. Marie cacha l\\'argent dans son soutien-gorge. À cause de la neige, le train a été retardé. Tout le monde s\\'en va. C\\'est une énorme erreur. Je t\\'aime ! Nous utilisons quotidiennement beaucoup d\\'eau. La température est encore aujourd\\'hui en dessous de zéro. Votre femme est ici. Tom a refusé de manger. Tom a une voix magnifique. J\\'aimerais que tu me fasses confiance. Il vivait là seul. Un bon livre est le meilleur des amis, maintenant et pour toujours. La livraison des marchandises a été retardée à cause de la tempête. Sais-tu comment on les appelle ? Vous êtes la seule personne que je connaisse qui puisse m\\'aider. Êtes-vous fatigués ? Ce n\\'est pas nouveau. Tom a dit qu\\'il n\\'était pas ivre. Je veux écrire ceci. Je suis désolée mais j\\'ai déjà un petit ami. Il y a un dictionnaire sur l\\'étagère. Tu dois t\\'occuper de l\\'enfant. Je ne trouve pas mes bretelles. Je vous parlerai demain. Cette voiture est à mon père, mais ce sera bientôt la mienne. Je pense que c\\'est une riche idée. Quel âge a-t-elle\\u202f? \"Elle a douze ans.\" Voyez-vous un inconvénient à ce que je m\\'absente quelques minutes ? Quels sont les termes du contrat ? Comment puis-je me rendre au centre-ville\\xa0? Tom a seulement hoché la tête. Je suis surprise que Tom se souvienne de nous. Que devrions-nous cuisiner\\u202f? Nous avons vraiment de la chance. Il est en train d\\'ouvrir la fenêtre. Je ne savais pas ce qu\\'il se passait. Ne fais pas un bruit ! C\\'est juste qu\\'on ne se supporte pas les uns les autres. Continuons ! Qui sait ce que vous trouverez bien dans le grenier\\u202f? Ne vous en faites pas ! Nous penserons à tout. Vous pouvez ajuster ce bureau à la taille de n\\'importe quel enfant. Je suis arrivé à Boston hier après-midi. Combien coûtent ces pommes de terre ? C\\'est très difficile de s\\'entendre avec lui. Nous avons besoin d\\'un contrat. Je veux simplement que les choses soient normales. Vous n\\'êtes pas obligés de mentir. Je pense que vous êtes celui qui l\\'a cassé. Il a l\\'air perplexe. Je me rappelle l\\'avoir vue. Envoie-nous un télégramme quand tu arrives à Boston. Ce sont des affaires dont nous devons parler. Je ne sais pas ce qu\\'est cette chose. Nous sommes à court de nourriture. Qu\\'est-ce qui cloche avec vous ? Nous vous avons finalement menés là où nous vous voulons. Ce n\\'est pas à moi de le dire. Les pommes sont rouges ou vertes. Elles se sont rencontrées au lycée. Vous pouvez le voir à l\\'œil nu. Je veux davantage de journées telles que celle-ci. Tom n\\'aime aucun sport. Entrez-vous ou pas ? Ils nous regardent tous. Il avait la chambre pour lui seul. Combien d\\'élèves y a-t-il au total\\u202f? Juste à ce moment-là, j\\'ai entendu des pas dans la cage d\\'escalier. Tom sera toujours là pour toi. L\\'auditoire avait l\\'air de s\\'ennuyer. C\\'est sur ce point que nos opinions diffèrent. J\\'en ai assez entendu. Un colorant a été injecté dans une veine du bras du patient. Je savais ce que Tom voulait. Compare ta réponse avec celle de Tom. Ce n\\'était probablement rien. Vous ne semblez pas si malignes. Si je ne m\\'abuse, je pense que nous avons pris une mauvaise route là-bas. Ce n\\'est pas mon jour. Il se passe quelque chose de louche. Ça ne sert à rien d\\'argumenter avec lui. C\\'est un de mes voisins. Y a-t-il quelque chose de spécial que vous veuillez faire ce week-end ? Le chat s\\'assit sur le tapis. Ils accomplirent leur mission. Je n\\'ai jamais appris à écrire. Je suppose que vous serez très occupé cette nuit. Ce melon sera bon à consommer demain. Vous n\\'êtes pas supposées manger sur le lieu de travail. Elles cherchent un bouc émissaire. Voilà quelques raisons. Je ne pensais pas que c\\'était un problème. Tu n\\'as pas besoin de venir à la réunion. Tom a mis deux morceaux de sucre dans son thé. J\\'ai bien essayé de te prévenir. Que va-t-il advenir de nos animaux de compagnie ? Pourquoi ne m\\'en avez-vous pas parlé ? T\\'es arrivé quand à Boston\\xa0? Porte ce que tu veux. Pas d\\'inquiétude, je m\\'en suis déjà occupé. J\\'ai les examens intermédiaires, la semaine prochaine. Je pense que je suis amoureuse. Ce sont des foutaises. Le résultat dépend entièrement de tes propres efforts. Il est un peu niais. Nous avons entendu des coups de feu au loin. Il y a un moulin à vent sur la colline. Tom ne l\\'a fait qu\\'une fois. Vous feriez mieux de lui dire la vérité. Il est peu probable que Tom gagne. Tom était étendu sur un canapé. Son arme, c\\'est une bonne mémoire. Je n\\'ai jamais pensé que je trouverais une femme comme toi. Qu\\'est-ce que tu cherches ? J\\'ai besoin d\\'eux. Vous êtes en grand danger. Tom le fait uniquement lorsqu\\'il est fatigué. Est-elle assez bête pour croire une telle chose\\u202f? Je veux ce chat. Je fis une promesse. Ça tombe à pic. Si tu ne veux pas y aller, tu n\\'y es pas obligé. Je n\\'ai plus mal à la tête. Le temps est écoulé. Je suis là pour te protéger. C\\'est une sensation vraiment bonne. Je me lève usuellement à six heures. Je ne m\\'attendais vraiment pas à ça de ta part. L\\'équipe de France a marqué autant de buts que l\\'équipe d\\'Angleterre. Je ne suis pas ici pour te faire du mal. Il me faut te demander une faveur. Je vous présente mes excuses à toutes. Sont-ils occupées ? J\\'ai un torticolis. Je le ferai quoi qu\\'il en coûte. Avez-vous dérobé cette voiture ? Je suis vraiment heureux d\\'être sorti de l\\'école. La pluie nous a empêchés d\\'aller nous promener. Mes dents de sagesse poussent. J\\'ai lu la lettre pour lui. Il a montré beaucoup d\\'habileté. Tu es fort occupé. Elle pourrait connaître la réponse. Prenez un raccourci ! Je me suis sentie trahie. Comment as-tu convaincu Tom de nous aider ? Je suis à ta merci. Ne perds pas ton temps dans une relation vouée à l\\'échec. Je ne sais pas si on va pouvoir faire ça. Il faisait chaud dans la tente. S\\'il vous plaît, éteignez la radio et allumez la télévision. Elle est toujours âpre au travail. C\\'est tombé en morceaux. Ce soir, c\\'est la pleine lune. Au lycée, le français était ma matière préférée. As-tu la moindre idée de qui ferait ça ? Je me concentre sur mon travail. Voici la carte ! Elles se blottirent l\\'une contre l\\'autre. Je sais que je suis seul là-dessus. Je veux que tu me rendes le livre que je t\\'ai prêté l\\'autre jour. Il étudie. Ce n\\'était pas de ma faute. J\\'avais besoin d\\'entendre ça. Ne vois-tu pas ce que tu es devenue ? Le dictateur est arrivé au pouvoir il y a quinze ans. J\\'ai bu du thé hier. Je ne pensais pas que ceci se produirait. Vous ne dormez pas suffisamment. Il a donné d\\'innombrables pièces au musée. Je suis né en 1972. Je ne me fais pas de souci à son sujet. Elle porte une attention particulière à ce qu\\'elle met. Je ne suis pas embarrassée. C\\'est un mari idéal pour moi. Elle enseigne à lire et à écrire. Y a-t-il eu des survivants\\xa0? Je suis également un débutant. Êtes-vous fou ? Tom ne pouvait pas marcher sans canne. C\\'est pas tes affaires. Quelle est votre adresse ? L\\'instituteur leur dit de ne pas nager dans la rivière. Tom dit qu\\'il sait que Mary ne mangera pas de carottes crues. Il n\\'y a rien de mieux qu\\'un délicieux repas. Tom était meilleur cuisinier que Mary. Vous êtes fort attirants. Je veux te dire quelque chose de bizarre. Merci à vous deux. Il n\\'y a pas de salaire minimum, ici. Jouer du piano est son occupation favorite. Vous n\\'êtes pas mal. Mon chat aime qu\\'on lui gratte derrière les oreilles. Je me demande de qui provient ce paquet. Au nom de la société, je vous souhaite la bienvenue. Je promets de travailler assidument. Je pense que nous ferions mieux de faire ça. Quelle est l\\'orthographe de ton nom de famille\\u202f? J\\'aimerais aller à la pêche avec vous. Je vous avais dit que ça allait être ennuyeux. Tom ne pouvait pas le trouver. Je voulais juste vérifier mon courrier électronique. Vous avez des yeux adorables, n\\'est-ce pas\\u202f? Je pensais qu\\'il y avait quelqu\\'un dans la pièce. Il avait 50 dollars. Cette maison est hantée. Je sais que Tom aime le basketball. Cette chambre est trop grande. Nous vous souhaitons bonne chance. Le travail de chauffeur est plus difficile qu\\'il n\\'y paraît. Elles se détendirent devant le feu. Tom devina la bonne réponse. J\\'ai été remuée. Les chouettes sont actives la nuit. Je suis désolé, mais c\\'est tout simplement impossible. As-tu fait ça pour moi\\xa0? Je pensais que tu m\\'appréciais. Elle ne me l\\'a jamais dit. Il y a une couille dans le potage. Je ne veux tout simplement pas vous voir être blessé. Tu n\\'as pas besoin de faire ça. Ce livre a été écrit par Tom. Je ne peux me débarrasser de ce rhume. Je vois une reine. Depuis combien de temps vivez-vous au Japon ? La plupart des suspects ont été arrêtés. Je ne sais même pas où commencer à regarder. Je n\\'ai pas eu le temps de regarder la TV hier. Le Japon est constitué d\\'îles volcaniques. Je n\\'ai pas le choix. Je dois le faire. Il dit qu\\'il doit se rendre à Vienne après-demain. Je manque de pratique. Tu dois accepter ton rôle. Continue à rouler ! Ce film est un chef-d\\'œuvre. Regarde qui est là. Le chauffeur a eu envie de prendre du repos. Les enfants ne peuvent pas boire de vin. Je ne suis pas sûr qu\\'il veuille s\\'entretenir avec moi. Il nous faut des héros. Je pense qu\\'il est temps pour moi de lui présenter des excuses. Tom a aidé Marie à monter dans la voiture et l\\'a conduite à l\\'hôpital. Tu n\\'as aucune preuve. N\\'y pensons plus. C\\'est la mauvaise. Je n\\'ai jamais voulu te blesser. Il faut absolument qu\\'ils mettent à jour leur système. Combien de temps s\\'est-il écoulé depuis votre divorce ? Qu\\'est-ce qui te prend d\\'acheter une maison aussi onéreuse ? Je ne voulais pas que vous sachiez. C\\'était très marrant. Je laisse mon copain copier mes devoirs. Travaillez lentement ! As-tu vécu ici ? Tom a dit que Mary était fiable. Nous marchâmes au milieu des arbres. Qui d\\'autre t\\'a aidé ? L\\'inculpation pour assassinat a été reclassée en homicide. Le moteur s\\'est arrêté. Nous nagerons. Je me demande si Tom s\\'est trompé. Ma connexion Internet a été coupée. Je pense que celui-ci est bien. Il était furieux après moi parce que j\\'avais rompu avec lui. Donnez-moi une raison. J\\'ai cassé un verre en faisant la vaisselle. Ce que nous faisons est dangereux. Chantes-tu toujours cette chanson dans cette tonalité ? Il est fort érudit. C\\'est parfait. Pourquoi l\\'aimes-tu ? Aimes-tu les films\\u202f? As-tu du vin français ? Que fais-tu l\\'après-midi\\u202f? Je suis désolé de ne pas t\\'avoir davantage soutenue lorsque tu en avais besoin. Il est arrivé un peu après. Les personnes âgées ont des difficultés à comprendre la technologie moderne. Elle était une fille très timide. Ils vivent à proximité. Je n\\'ai pas envie de faire de l\\'exercice. Cet oiseau ne sait pas voler. Maintenant que nous sommes seuls, amusons-nous ! J\\'en garde un souvenir très vivace. Il a essayé de la persuader. Cela m\\'a pris plus d\\'un mois pour me débarrasser de mon rhume, mais je vais bien maintenant. Elle est décédée hier après-midi. Les pirates ont enfoui leur trésor sous terre. Les pommiers ont de magnifiques fleurs. T\\'es plantée. Dans notre entreprise, la retraite est à 60 ans. Tu n\\'as pas à aller là-bas. Je vous rendrai fiers de moi. En quoi est-ce important ? Je veux que tu me dises comment faire ceci. Quel est votre bonbon préféré ? Si tu ne peux pas purger la peine, ne commets pas le crime. Je ne peux pas donner ce dictionnaire à quelqu\\'un. La ville où je suis né est belle. Il enseigne l\\'arabe. Efforce-toi d\\'être heureuse. Je me suis sentis apeuré. Je pensais que nous disposions de davantage de temps. J\\'adore les secrets. On a vu des ouvriers faire sauter des rochers. Je n\\'avais pas le temps de me relaxer là-bas. Tom est doué pour réparer les montres. Il est médium. Je comprends la phrase mais je ne suis pas en mesure de la traduire. Dis la vérité quoi qu\\'il en soit. Donnez à Tom ce qu\\'il désire. J\\'ai pensé que tu allais rester chez toi. Qui a dit que je détenais une arme ? Tu es pile à l\\'heure. Les litchis ont le goût de raisins. J\\'ai été mal compris. Je viendrai demain sans faute. Comment êtes-vous parvenues ici ? Alors, vois-tu quelqu\\'un\\xa0? Elle ne l\\'aimait pas. Il n\\'y a pas de remède à la mort. Agrandissez-le. Je suis heureuse que vous le n\\'ayez pas fait. Tout ce que tu as à faire c\\'est de la rencontrer. Je n\\'en ai plus besoin. Dites-moi comment le vol s\\'est déroulé. N\\'a-t-il qu\\'un unique talent ? Cette bagnole a une certaine gueule. Je vous dois un petit-déjeuner. J\\'ai reçu une lettre de l\\'un de mes amis au Japon. Veux-tu une autre part de tarte\\u202f? Le cheval traversait les champs au galop. Je sais précisément ce dont tu as besoin. Certains bébés apprennent à nager avant même d\\'avoir un an. Quand en avez-vous fait l\\'acquisition ? Je suis très sérieux. Ta mort n\\'aura pas été vaine. Je sais exactement ce que je demande. Tom veut être fort. J\\'ai hâte que les vacances d\\'été arrivent. Avance de deux pas. Il est toujours en vie. Il est ici pour fomenter des troubles. Vous n\\'avez pas suffisamment d\\'expérience. Tu as l\\'air fâché. Il a tourné la clé. Je n\\'arrive pas à croire que je vous aie écoutée. Remettez bien le couteau à sa place après usage. Est-ce que Tom t\\'a parlé de Mary ? Dis-moi ce qui se passe ! Elles ont parlé de culture. Tu n\\'as pas le billet. Ils le confondirent avec son frère. Reste concentrée sur ton travail ! J\\'ai dû prendre le premier train, ce matin, afin d\\'arriver ici à temps. Je parie que vous parlez de Tom. Sers-toi du gâteau ! Il est absent pour cause de maladie. Il n\\'est pas aussi grand que toi. Tom a étranglé Marie avec une corde. Il s\\'est mis à laver sa voiture. Je me dispute constamment avec ma femme. Comment te reconnaîtrai-je ? A-t-on pratiqué une autopsie ? Pourquoi le bus est-il en retard\\xa0? Il n\\'a pas les pieds sur terre. Comprenez-vous ce qui est en train de se passer ? Ne vous en faites pas ! C\\'est facile. Je t\\'entends avec grandes difficultés. Je veux leur demander quand est leur grand jour. Me prêterais-tu de l\\'argent ? Elle ne te comprend pas. J\\'ai un souvenir d\\'enfance de ma grand-mère reprisant des chaussettes. Elle a souligné l\\'importance de l\\'éducation. On ne peut s\\'échapper de la réalité. Nous avons tous deux tort. Ce n\\'est pas la solution qui convient. C\\'est joli. Tu n\\'as pas besoin de parler si fort. Ma maman travaille en usine. Je ne suis pas sûr d\\'avoir le temps de ranger ma chambre avant de partir à l\\'école. Celles-là sont-elles pour moi ? C\\'était un sacré discours. Je t\\'aime vraiment. C\\'est de ça que je parle. Veuillez ôter votre chapeau. Où sont vos parents maintenant ? Ils rendaient dingues les adultes. Je crains que tu te perdes. Je ne vous ai jamais vues ainsi. Nous ne pouvons plus t\\'aider. Tom a deviné la bonne réponse. Appelez Tom. Ce n\\'est pas logique. Il n\\'est dans mon intention de te blesser d\\'aucune manière. Je suppose que nous étions alors heureuses. C\\'est nous qui dirigeons. C\\'est ce que tu penses. En es-tu tout à fait certaine ? Il est très radin avec son argent. Nous devons protéger les enfants. Ce puzzle compte cinq-cents pièces. Viens me voir de nouveau, s\\'il te plaît. Je crois ce qu\\'elle a écrit dans sa lettre. Il souffla sur le bout de ses doigts. Cette image rend mieux de loin. Tom a-t-il chanté\\xa0? Tu étudies quelque langue étrangère\\u202f? Donnez-moi un morceau de pain, s\\'il vous plait. Je suis vraiment surpris que Tom ne soit pas ici. Seul toi peut répondre à cette question. Ma main gauche est engourdie. Je suis certain que mes parents ne me laisseront pas aller seul. C\\'est très personnel. Tom était vraiment inquiet au sujet de Marie. Reste tranquille pendant que je parle. Je veux ce boulot. L\\'équipe s\\'entraîna dur, car le championnat national était en danger. Elle s\\'est fait faire une nouvelle robe. Je pensais qu\\'il était mon frère. Il boit comme un poisson. Je vis à Milan. Où veux-tu dormir cette nuit ? Un ami dans le besoin, est un ami quand même. Tu es presque morte. Je vous surveillerai. Voici votre chien. J\\'ai pensé que la manche était terminée. Je ne veux simplement pas le refaire. Quel est ta matière préférée ? C\\'est un employé de bureau. Je me réjouis d\\'être celui qui te le dit. Tout le monde a ses forces et ses faiblesses. Que pouvez-vous me donner ? Il vint à Londres par la Sibérie. C\\'est si déprimant. Rien ne me rendrait plus heureux que de vous voir heureux. Tu ne veux pas un autre enfant? Je crains d\\'être éventuellement en retard. Savez-vous bien cuisiner le riz\\u202f? Connais-tu les règles du football\\u202f? J\\'ai des ampoules aux pieds. Il y a une pomme sur la table. J\\'aimerais savoir de quoi tout ça retourne. Quel est le nom du cheval\\xa0? Je veux que vous alliez voir l\\'infirmière. Tom n\\'aimait pas beaucoup les cours de français. On est en sécurité, ici. Nous ne pouvons forcer les gens à faire des donations charitables. Je sais que Tom se montrera raisonnable. Tom termina son repas le premier. Nous avons eu une réunion secrète. Je suis habituée à vivre seule. Ça ne signifie pas que vous ne devriez pas être prudente. Le sol est couvert par un tapis épais. C\\'est simple. Je sais que Tom a sauvé la vie de Mary. Je me sens mieux aujourd\\'hui qu\\'hier. Combien de temps avez-vous été enseignante ? J\\'y suis habitué. Le niveau des mers autour du monde s\\'élève. Je n\\'étais pas sûr de pouvoir le faire. Lorsque la vie te procure des citrons, fais de la limonade. Comment te sens-tu ce soir ? Je n\\'ose pas lui dire une telle chose. Ma mère confectionne des gâteaux. Que voulais-tu me montrer ? Où est-ce que ça se trouve ? Pouvons-nous dire non aux États-Unis d\\'Amérique\\u202f? Mon père se trouve dans sa chambre. Nous avons fini de déjeuner. Me dis-tu la vérité ? Le dix du mois prochain, il y a vingt ans qu\\'ils seront mariés. Je ne parle pas assez bien français pour accomplir cette tâche. Le fermier ensemença le champ de blé. Tu n\\'es pas différente. Depuis qu\\'il est arrivé, tout a changé. Pourquoi ne cuisines-tu jamais ? Ils nous ont offert du café. Il reviendra. Il le fit devant le personnel. Ne fais pas encore sauter le champagne. C\\'est le meilleur appareil photo du magasin. Combien de temps passez-vous chaque jour à vous raser ? Voudrais-tu me prendre en photo, s\\'il te plait ? J\\'ai acheté une voiture électrique. Tom est devenu de plus en plus beau à mesure qu\\'il grandissait. La responsable a été renvoyée. Que fais-tu pour t\\'amuser ? Pas plus de 50 personnes sont venues. Faites demi-tour. Peut-être puis-je te le montrer. Devenir professeur d\\'université est son rêve. Nous sommes ses enfants. Tu me mens. Tom est très têtu. Elle lui a conseillé de revenir tout de suite. Pourquoi êtes-vous si occupé aujourd\\'hui ? J\\'ai accepté l\\'emploi. Je ne suis pas fatiguée. Je doute grandement que Tom veuille te voir. Sa santé s\\'est soudain aggravée la nuit dernière. Puis-je emprunter ta tondeuse à gazon\\u202f? Ne dites à personne que j\\'étais ici. C\\'est toujours dans les limbes. Excusez-moi, y a-t-il des toilettes près d\\'ici\\u202f? Combien as-tu demandé à Tom pour réparer sa voiture\\u202f? Tu ne veux pas être en retard à l\\'entraînement. Elles ont brièvement parlé. Elle rêva qu\\'un prince venait sur un cheval blanc pour l\\'emmener. Ça ne vaut pas le coup de lire au-delà. Sais-tu où se trouvent mes clés ? Tu me sembles familière. Est-ce que je te connais ? J\\'ai déduit de cette lettre qu\\'il était en colère. Tom est notre meilleur joueur. Il dit qu\\'il n\\'a rien vu. Cependant, je ne crois pas que ce qu\\'il dit est la vérité. Le pont est fermé. Je voulais en discuter. Elle était vêtue tout de noir. Salut ! Je suis nouveau, ici. Elles pensaient toutes que Tom était fou. Êtes-vous en train de me dire que je ne peux pas y aller ? Ça ne fait pas le compte. L\\'épidémie a été contenue. Vous auriez pu tuer quelqu\\'un. Il naquit pauvre, mais mourut millionnaire. Ça s\\'est bien passé. Heureusement, il y a un ascenseur dans notre hôtel. Dépêchez-vous ou vous allez manquer le car. Veux-tu manger quelque chose\\u202f? Tous les criminels n\\'ont pas besoin d\\'être incarcérés. Tom savait que Mary était maîtresse d\\'école. Dansons, veux-tu\\u202f? Vérifiez ! Je ne peux pas rester ici cette nuit. Je ne me sens pas très bien. Je devrais rentrer chez moi. Je suis parti depuis trop longtemps, déjà. Je ne pense pas jamais avoir mangé quoi que ce fut que tu considérerais dégoûtant. C\\'est ce que j\\'allais dire. C\\'est un vol. Qu\\'est-ce que tu fais pour rester en forme ? Mémorisez-la. Que faisait-il ici ? Sa beauté l\\'exposait à de nombreux dangers. Essayez de ne pas vous en faire ! Je ne l\\'ai jamais même dit à mon mari. Éloignez-vous de moi ! Je ne mange pas très souvent dehors. J\\'adore l\\'arabe. Un argument peut être logiquement sensé sans être vrai. Les enfants doivent jouer. Il préfère les gens ordinaires et simples, car il est lui-même ordinaire et simple. On vous a prévenus. Qui est ici la plus rapide ? Voulez-vous une autre tasse de thé\\u202f? Je suis très heureux maintenant. Pourrais-tu, je te prie, le faire pour moi ? Il est temps de partir. J\\'ignore ce que tu as entendu à mon propos. Je suis d\\'accord avec vous sur ce point. Elle prend toujours le bus lorsqu\\'il pleut. Fais juste de ton mieux. J\\'espère le revoir. J\\'ai oublié de fermer le tiroir à\\xa0clé. Exprimez-vous aussi clairement que possible. Remettez vos devoirs ! Vous n\\'êtes pas le seul à avoir été blessé. Les élèves ont rendu sa vie heureuse. Si tu n\\'avais plus qu\\'une semaine à vivre, à quoi passerais-tu ton temps ? Elle prend du poids. Tu n\\'es pas aussi bon que tu penses l\\'être. Le village était désert après le coucher du soleil. Je suis un homme heureux. Êtes-vous ici pour nous aider\\xa0? J\\'aiderai. Je ne peux pas vous aider maintenant. Ce thé est très bon. Quel est ton sport préféré ? Il devrait pleuvoir bientôt. Dis-moi pourquoi tu veux aller là-bas. Quelques fois, j\\'entends des choses. Tom est-il réellement en danger ? Donnez-moi un peu de temps pour réfléchir. Qui a fait ce gâteau\\u202f? Il était retenu en captivité. Combien de fois penses-tu avoir mangé ici ? Il vit ici tout seul. Maintenant je suis en service. Ne le faisons plus ! J\\'apprécie vraiment que tu me prennes. Il a de grosses mains. As-tu déjà pris ta médication\\u202f? Je veux que le travail soit fait rapidement. Vous feriez mieux de ne pas parler de l\\'accident à votre père. Je ne vais pas te le répéter. En êtes-vous certaine ? Tom est un peu bizarre. Nous espérions que vous auriez oublié. Me pardonnera-t-il jamais ? Le prix est bas mais la qualité est médiocre. À quoi cela sert-il ? Je ferai mon sac. Ma mère est allée faire des emplettes. Elle fut requise de le convaincre de peindre la maison. Je crois qu\\'il est improbable que la prochaine version de Windows sorte avant la fin de ce mois-ci. C\\'est de loin la meilleure nouvelle qui a été publiée cette année. Il a deux filles, l\\'une est pianiste, l\\'autre violoniste. Je viens de me faire mordre. On parle anglais dans bon nombre d\\'endroits de par le monde. Quand on a dix-huit ans, on est majeur aux États-Unis d\\'Amérique. Tom aime aller à la plage. Vous n\\'êtes pas citadine, si ? Je ne sais pas où se trouvent mes clés. Tom lave sa voiture une fois par semaine. Tous les pays n\\'appartiennent pas à l\\'ONU. Ce sont de très grosses pommes. Il oublia qu\\'il lui avait acheté un cadeau. Tom m\\'a décrit comme gros. Tom a patiemment attendu toute la matinée. Ça fait des semaines qu\\'il essaye de te joindre. Je suis supposé être celui qui vous aide. Je pensais que tu avais appris ça à l\\'heure qu\\'il est. Qui vous a forcé à le faire\\u202f? Je n\\'ai pas à répondre à vos questions. Il a des yeux derrière la tête. Cette réponse le mit en colère. Ta rédaction est la meilleure jusqu\\'à présent. Cette vidéo est ennuyeuse. Il trouve toujours à redire aux autres. Il est malade. Je serais prudente avec ça, si j\\'étais vous. Tu devrais être plus raisonnable. Mes chaussettes sont-elles déjà sèches\\u202f? Je voudrais visiter New York. «\\xa0Quel âge as-tu\\xa0?\\xa0» «\\xa0Seize ans.\\xa0» Puis-je t\\'offrir ma chaise ? J\\'adore mon travail. Il fait froid à l\\'extérieur. Mets ton manteau. Je peux vous emprunter votre stylo pendant quelques minutes\\u202f? J\\'ai une corde dans mon coffre. Elle lui donne tout ce qu\\'il demande. Je n\\'aime pas la façon qu\\'il a de traiter les autres. Je veux que tu viennes à mon mariage. Elle travaille nuit et jour. Tom n\\' a pas à manger ça. Elle veut une relation sérieuse. Fermez la porte ! Elle lui dit de réécrire son curriculum vitae. Ce vélo en fibre de carbone est incroyablement léger. Tom est allé à Boston avec Mary. Puis-je l\\'emprunter pour deux semaines environ\\xa0? Je veux vous voir immédiatement dans mon bureau. Sa fille est devenue une belle femme. Je n\\'ai aucune malveillance à son égard. J’ai alors commencé à comprendre. Veuillez m\\'excuser de ne pas vous avoir écrit avant. Les vents de mer sont humides. Quel type intelligent ! Je suis retraité. Je pense pouvoir arranger cela. Tom a un autre travail. Sont-elles réellement amies ? Fais-tu des rêves éveillés ? Hé, où êtes-vous\\xa0? J\\'aurais aimé savoir où il était\\u202f! Je ne peux pas croire tout ce que Tom dit. Peuvent-ils nous voir ? J\\'ai marché autour du pâté de maisons. Elle se mit à transpirer. Elle s\\'est agenouillée à côté de lui et lui a demandé quel était son nom. J\\'ai pénétré dans le musée par la mauvaise porte. J\\'aurais dû faire plus attention. Remet ce truc dans la boîte. Je ne me suis jamais fait prendre. N\\'allez pas dans ma chambre ! Le problème, c\\'est que mon fils ne veut pas aller à l\\'école. Je suis considéré comme traître à ce pays. La situation échappa à leur contrôle. Le village où j\\'habite est très petit. L\\'alarme anti-fumée n\\'a jamais eu de maintenance. Ferme la fenêtre, avant d\\'aller au lit ! Il avait l\\'air calme, mais en réalité, il était très nerveux. Quel genre de musique Tom écoute-t-il ? Tire la langue ! Nous sommes toutes en train d\\'être manipulées. Vous êtes beaux. Tom savait que Mary ne voudrait pas y aller. Je suis allé voir sa sœur la semaine dernière. Je le fais quotidiennement. Elle le menaça. Je n\\'aurais pas dû envoyer ce courriel. Je crois à ce qu\\'il dit. Tu t\\'es fait embrasser, n\\'est-ce pas ? Je sais où tu caches ton journal intime. Il est parti sans aucune raison. Mes parents ne m\\'auraient pas autorisé à le faire lorsque j\\'étais plus jeune. J\\'ai porté la boîte sur mon épaule. Je pense que tu connaîtras tout le monde à la fête. Veux-tu t\\'en aller\\u202f? Je ne peux pas m\\'empêcher de me sentir quelque peu soulagée. Je ne vais pas répondre à davantage de questions. Asseyons-nous près de l\\'âtre. Cela vous rendrait-il heureuse ? J\\'étais totalement sous le choc. Je veux me joindre à vous. Je suis certaine que beaucoup de gens seraient d\\'accord avec vous. Je me sens très mal à propos de la manière dont les choses se sont passées. Tu es cerné. C\\'est un vieux chant écossais. Il est borgne. Je le vois de temps en temps à la bibliothèque. Oui. Tu as parfaitement raison. On nous a appris que Newton a découvert la loi de la gravité. Tom ne dit pas à ses parents qu\\'il avait eu un F à son évaluation. Ça te plaît ? Mais pourquoi tout est-il si secret ? N\\'aie pas l\\'air si suspicieux ! C\\'est très embarrassant. Tom me comprenait. C\\'est très excitant. J\\'ai choisi le vert pour les rideaux. Il faut juste que tu regardes ce que je fais. Je n\\'ai encore rien décidé. Nous avons le problème inverse. Tom s\\'est cogné la tête à une branche d\\'arbre. On a très peu de temps. Ce n\\'était pas trop mauvais. J\\'ai été en retard à cause de la pluie. Tom skie. Elle a bien failli être renversée par une voiture. Je ne peux vraiment pas en parler. Combien d\\'idiomes avons-nous étudiés jusqu\\'ici\\u202f? Vous pouvez venir, si vous voulez. Je n\\'avais pas idée que les choses étaient aussi mauvaises. Visiblement, Tom ne voulait pas y aller. Oublie-la. Je me suis levée à quatre heures, ai mangé un peu de nourriture et puis suis retournée dormir. Nous te conseillons de venir tôt, ce soir. Tu as fait ça quand\\xa0? Je sais que c\\'est difficile pour toi. La capitale de l\\'Ukraine est Kiev. Il a pris le mauvais train par erreur. Ne m\\'effraie pas comme ça ! D\\'accord ? Tu n\\'es pas pressée, n\\'est-ce pas ? Je t\\'ai demandé plusieurs fois de le faire. Les hommes travaillaient avec des pics et des pelles. Le vase qu\\'il a brisé est celui de ma tante. Je voulais juste passer pour dire bonjour. Ça\\xa0fait\\xa0peur. Je ne veux tout simplement pas que tu sois blessée. Je ne serai pas parti longtemps. Tom a dit qu\\'il n\\'a jamais vu Mary le faire. Êtes-vous bientôt prêt ? Je suis du genre à devenir nerveux devant un public, donc je ne suis pas bon pour faire des discours. Il y a peu de livres sans coquilles. Tom est ingénieur en électricité. Tom dit que Mary était morte dans son sommeil. Je n\\'ai pas d\\'argent, mais j\\'ai des rêves. Tu devrais aller chez toi, maintenant. Ce ne fut pas facile. Il y a beaucoup de chiens ici, n\\'est-ce pas ? Je me fais vraiment du souci. Il vit dans une petite maison douillette. Ça serait vraiment bien si tu pouvais te joindre à nous pour dîner. Nous eûmes raison. Le client a-t-il toujours raison ? Continue d\\'essayer. Les enfants jouent dans le parc tous les jours. Ton passé m\\'indiffère. Elle lui prodigua des conseils pour rester en bonne santé. Je ne dispose pas d\\'une telle quantité d\\'argent. Tom habite proche de l\\'océan, mais il ne sait pas nager. C\\'est beaucoup trop petit. Tom s\\'attend à ce que j\\'y sois. S\\'il vous plait dites-le-moi. Je veux vraiment l\\'entendre. Je suis aimé de ma mère. Sais-tu t\\'y prendre ? Un poing fermé peut être une indication de stress. Je n\\'ai pas lu son roman, et mon frère non plus. Tu n’as pas l’étoffe d’une meneuse. Il est presque dix heures. Ne peux-tu nous aider ? Rendez-le plus petit. Je vous dois la vie. J\\'essaye de faire une bonne première impression. Je ne peux pas trouver les mots justes. Ce bracelet est très bon marché. Nous en avons terminé. Connais-tu l\\'homme qui te regarde ? As-tu apprécié Boston\\u202f? Je n\\'apprécie pas de me trouver seul. Votre voiture est-elle neuve\\xa0? Les deux motards portaient des casques. « Tom et Mary se sont séparés. » « C\\'est une histoire ancienne. » J\\'ai besoin de toi. Elle le regarda tracer un dessin. S\\'il vous plaît, attendez un peu ici. Comment peux-tu être aussi insensible ? Il était dans un état critique. Laissez-moi payer le dîner. Je reste ici. Tom aurait pu se blesser aujourd\\'hui. Je suppose que ça pourrait fonctionner. Ce plan est infaillible. Je n\\'aime pas celui-ci. Il a vraiment fait gober son baratin à ma fille. Il n\\'y a pas de quoi avoir peur. Quelqu\\'un a essayé de me tuer. Je voulais te dire ça. Ne vous contentez pas de pleurer, faites quelque chose ! Pourquoi Dieu ferais-je cela ? Je veux que chacun de vous prenne un morceau de papier et écrive ce qui s\\'est produit. Ne me blâmez pas pour ceci. Peux-tu encore te souvenir où nous nous sommes rencontrées la première fois ? Tu es insensible. J\\'ai oublié mon adresse électronique. J\\'ai toujours faim. Il dispose de sa propre chambre. Tom aurait pris la même décision que moi s\\'il avait été à ma place. Parvenez-vous à vous faire comprendre en japonais ? Je peux y regarder lorsque tu seras prêt. Je serais malheureuse si ça se reproduisait. Tu ne veux pas cela. Les bateaux peuvent couler. Si tu ne parles pas plus fort, il ne pourra pas t’entendre. Afin que je puisse mieux voir ce tableau, je voudrais m\\'en rapprocher un peu. Quelque chose s\\'est-il produit\\u202f? Elle n\\'est pas fan de sports d\\'hiver. Elle lui sourit avec gêne. Laisse-nous t\\'aider à faire ça. Je ne sais pas encore ce que nous sommes supposés faire. Je ne vois pas pourquoi il devrait démissionner. Je ne pense pas que j\\'arrive à vous aider. Elle tira la chaise vers elle. Je me souviens avoir dit ça. C\\'est le tien. Quand êtes-vous rentré de Boston ? Je sais que tu n\\'as pas appris à parler français. Nous pouvons parler dans le train. Pouvez-vous me prendre à votre bord ? Il connaît beaucoup de choses sur les animaux sauvages. Considère le scénario suivant. J\\'ouvris un œil. J\\'ai juste une objection à propos de ce produit. Je suis assez bon nageur. Ça va être facile. Si j\\'avais eu le temps, je serais passé chez toi. Le nombre d\\'accidents de la route est en augmentation. Le couteau n\\'est pas aiguisé. Vous êtes difficile, n\\'est-ce pas ? Vous êtes fort émotives. Ils l\\'ont bloquée. Pouvez-vous mettre assez d\\'argent de côté pour la mise de fond ? Lequel apportez-vous ? Je suis fatiguée de danser. Pourquoi êtes-vous assis là ? Je ne rougis pas ! Ce volant est impossible à tourner. J\\'ai le sentiment qu\\'il a raison. Je suis tombé amoureux dans un endroit improbable. Un passeport est d\\'ordinaire nécessaire lorsque vous voyagez à l\\'étranger. Tom referma la porte et la verrouilla. Je crois que c\\'est un homme sur lequel on peut compter. Je pensais qu\\'une poignée de gens serait venue faire du ski-nautique avec nous, mais absolument personne ne se manifesta. Nous arrivâmes finalement en Angleterre. Nous n\\'avions pas d\\'autres choix que de nous battre. N\\'en soufflez mot à\\xa0quiconque ! Nous n\\'avons aucune idée d\\'où il se trouve. Je baissai les yeux. Mes parents vivent à la campagne. Elle lui emprunta le livre. Je suis presque prête. Il est venu\\u202f! Cela te coutera 100$ pour un vol vers l\\'île. Ce pays déclara la guerre contre son voisin. Lorsqu\\'on navigue sur la toile, on peut être pisté par des sites. Je pensais ce que j\\'ai dit. Je ne souhaite pas te mettre en colère. Ce ruban adhésif ne colle pas. C\\'est peut-être vrai. Est-ce que tu crois au coup de foudre ? Que lui est-il advenu, depuis lors ? Le pétrole est onéreux. Alors, que voulez-vous que je dise ? Il commençait à faire sombre et, pour empirer les choses, il s\\'est mis à pleuvoir. Ce n\\'est pas la foire du Trône. Je ne peux pas me comparer à lui. Je croyais pouvoir vous faire confiance. Je craignais de prendre froid. Cette climatisation consomme beaucoup d\\'électricité. Le langage est l\\'outil par lequel les gens communiquent avec les autres. Rien n\\'est plus important que la santé. La grand-mère de Tom a l\\'air d\\'être en bonne santé. Tom a dit qu\\'il avait besoin de faire une sieste. Je garde mon marteau dans la caisse à outils. Connaissez-vous ma femme ? Votre jean est sale. Ça arrive. Une conscience sans tache est le meilleur des oreillers. J\\'ai largué Tom. Vous êtes en train de rêver. J\\'espère qu\\'il va arrêter de pleuvoir. Je lui dirai quoi dire à la réunion. J\\'avais oublié que Tom avait vécu à Boston. Ont-elles dit ce qui s\\'est produit ? Les enfants font souvent des trucs stupides. Je ne sais pas si je dispose de suffisamment de temps. Merci de m\\'aider à trouver un bon boulot. Excuse-moi. J\\'aurais bien aimé savoir ça quand j\\'étais gamin. Veux-tu que nous nous fassions tuer toutes les deux ? Elle lui conseilla de ne pas utiliser trop de sel. Ne vous ai-je pas dit de fermer la porte\\xa0? Il ne pouvait pas dormir à cause de la chaleur. Tom veut ouvrir son propre restaurant. Venez-vous ou non ? J\\'en suis absolument certaine. Tom a obtenu un emploi dans une pizzeria locale. Les circonstances était alors différentes. J\\'ai un avocat. Je suis chanceux de vous avoir comme ami. Tom regarda Mary dans les yeux. Mon chien a bouffé une serviette en papier. Je me demande si ça va le rendre malade. Comment pouvez-vous être si sûres de cela ? Je peux bien comprendre ce que tu ressens. Jetez un œil à celles-ci. Quiconque t\\'a-t-il vu venir ici ? Elle a une troublante ressemblance avec Marilyn Monroe. Il a été le premier homme avec qui j\\'ai eu un entretien d\\'embauche. Je pense que nous ferions mieux d\\'attendre un peu plus longtemps. Vous êtes endormie. Pourquoi Tom a-t-il annulé son voyage ? Presque tout le monde a participé. Je fus piqué par une abeille. Où est ta chemise ? Tous partagent la faute. Tout le monde commet des erreurs. Je peux tracer mes ancêtres deux cents ans en arrière. Je veux revenir à ce que c\\'était avant. Je me suis presque noyé. Je sais que vous ne voulez pas parler de ce qui s\\'est passé. Mangez et buvez. Tom ne voit pas sans ses lunettes. Le vert est ma couleur favorite. Tom ne sera pas arrêté. Je saigne gravement. Il serait bon de dormir, même un petit peu. Je vous surveillerai. Je pense qu\\'il y a ici de nombreux sites à voir. Je suis en colère après toi. Tu es le meilleur. Comprends-tu ce que je te dis ? J\\'ai fini d\\'arroser les fleurs. Moi, je veux simplement être clair. Vous ne m\\'avez jamais dit le nom de votre petite-amie. Je suis fatigué de Boston. Ils économisent leur argent pour l\\'acquisition d\\'une maison. Que dis-tu de payer une tournée à tout le monde ? Tom est plutôt occupé en ce moment. Attendez un instant. J\\'ai vu tout cela. Ma sœur est une très bonne dactylo. J\\'espère ne pas avoir offensé quiconque. Je te dis la vérité. Elle a nié l\\'avoir rencontré alors que nous les avons vus discuter l\\'un avec l\\'autre. Le mariage est un dîner qui commence par le dessert. Tom a beaucoup changé depuis. Les deux parties ont des pourparlers cette semaine. Les ânes sont des animaux résistants. Ma mère était d\\'ordinaire très occupée. Combien de temps m\\'avez-vous attendu\\u202f? J\\'ai appris des meilleurs. Je n\\'ai pas eu l\\'honneur de le rencontrer. Tom a l\\'air fier de son fils. Merci pour tous les cadeaux. Il a dessiné ce jardin. Mes parents m\\'ont incitée à y aller. Je me suis figurée que vous ne veniez pas. As-tu fait les devoirs d\\'hier ? Veuillez lui dire d\\'attendre. Je dois faire renouveler mon passeport. Je chante à l\\'église. Quel temps fera-t-il demain ? Il nous faut quelque chose d\\'un peu plus subtil. Je suis trop fatiguée pour réfléchir. Je sais que c\\'est difficile à comprendre, pour toi. Je pense que tu devrais penser à l\\'avenir. Nous critiquâmes le photographe de ne pas avoir d\\'abord sauvé l\\'enfant. Sommes-nous autorisées à utiliser l’ascenseur ? Mary a aidé Tom. Je pense qu\\'ils nous ont aperçus. Vous avez dit que vous aviez une théorie. Tout le monde à l\\'air de s\\'en foutre. Je ne suis pas sûre que tu sois prêt. Attache ton lacet de chaussure. J\\'étais en fait plus ou moins sérieux. Comment se fait-il que vous n\\'êtes pas venu à la fête ? Il est fort courageux. Les océans divisent moins le monde qu\\'ils ne l\\'unissent. Tu es la fille avec qui Tom traîne? Elle était la dernière femme que je m\\'attendais à voir. Je propose que votre fils vienne à notre fête. Pourquoi êtes-vous si silencieux ? En as-tu assez ? Les enfants ont besoin d\\'être punis. Elles ont vécu en Espagne pendant plusieurs années. Il m\\'a fallu passer par dessus la barrière. Il est devenu courageux face au danger. Tom n\\'est pas descendu de l\\'avion avec les autres passagers. Ce que vous faites m\\'est indifférent. Je ne me suis pas disputé. J\\'ai honte de votre conduite. Je ne suis pas sourde. Vous avez peut-être raison à ce sujet. Je n\\'arrive pas à me contrôler. Vous avez pris assez de risques. Nous allons être ici toute l\\'après-midi. Elle a beaucoup de succès auprès des garçons. Tentons quelque chose\\u202f! Je le ferai avec toi. Avant-hier, le temps était à l\\'orage. Personne ne nous a rien dit. Je viens de finir de nettoyer le grenier. Tom dégaina son pistolet. Laissez tourner le compteur. Elle lui montra la photo. Mes parents me manquent vraiment beaucoup. Je les ai tous. Je veux savoir ce qui est si drôle. J\\'allais travailler. Tom ne m\\'aime plus. Je crains pour l\\'avenir de l\\'humanité. Je ne connais pas son adresse. Es-tu perdue ? Vous êtes trop jeune pour voyager seul. Attrape une cuillère. Vous n\\'aurez aucune chance. Vous ne le voulez pas vraiment, si ? On dirait du thé. C\\'est une personne adorable. Je veux vous parler à propos de ce rapport. Quel couvre-chef veux-tu acheter ? Il concocta une bonne excuse pour ne pas venir à la fête. Tu es toujours en train de me tarabuster. Tom déplia sa serviette. J’ai étudié l\\'anglais pendant cinq ans. Cette chemise ne va pas avec le pantalon. Je veux que vous m\\'aidiez à mourir. Je suis impatient que l\\'école commence. Prenez un parapluie au cas où il pleuvrait. Vas-y et prends en un ! Quand tu aimes ce que tu fais, ça se voit. Il est critique plutôt que romancier. La voici. Je veux savoir ce que tu vas faire. Elle est au premier rang. C\\'est arrivé à mon ami. J\\'ai le sentiment que vous aviez autre chose en tête. Un accord est un accord. Venez\\u202f! Je veux me faire rembourser. J\\'ai un nouvel appareil photo que je veux que tu voies. Tom a fait quelque chose de mal. Je me sens impuissant. Vous connaissez un bon motel pas loin\\u202f? Elle lui a rendu visite une fois par an. Elle regarda quelques robes et choisit la plus chère. Elle ne savait quoi faire. N\\'avez-vous rien à faire\\xa0? Je t\\'appelle dans une heure. Plusieurs animaux s\\'échappèrent du zoo. Vous avez l\\'air si beaux. Ne laisse pas Tom faire ça. Je détesterais voir cela se reproduire. Nous venons de faire cela. Je suis familier de ces choses. Je te le promets. Je mourrais, sans toi. Tom a acheté à Mary un parapluie cher. Comment vas-tu stopper Tom ? Ils ne sont pas fatigués. Ce n\\'est pas ce que j\\'essaie de dire. Nous ne l\\'avons pas encore vue. Oublie que j\\'ai dit la moindre chose. Personne n\\'a le temps pour ce genre de chose. Donc quel est ton problème\\u202f? Elles sont très grosses. C\\'est comme ça. J\\'aimerais bien y croire. Est-ce que je vous embête ? Je partais de chez moi lorsque Tom m\\'a téléphoné. Salut ! Je m\\'inclinai poliment. Je t\\'appellerai à sept heures. Je ne connais pas assez bien Tom pour savoir si je l\\'aime bien ou non. Je veux qu\\'il soit informé de cela en avance. Le grec n\\'est pas une langue facile. Je travaille du lundi au samedi. Elles viennent nous chercher. C\\'est tout ce que je veux. Il m\\'a écrit une lettre. Il continua à chanter. Si je le savais, je te le dirais. Je suis sûre de ma décision à 100%. Je ne suis pas content de cette situation. Tom aimera ça. Tu dois répondre à ces questions. Si j\\'avais été à ce restaurant hier soir, j\\'aurais mangé un steak. Le voleur fut confié à la police. La télévision nous aide à élargir notre savoir. Je n\\'aime pas le thé, aussi en général c\\'est du café que je bois au petit déjeuner. Est-ce que Tom embrasse bien\\xa0? Tu devrais faire examiner tes yeux. Qu\\'est-ce que vous avez\\u202f? Je sais que j\\'ai dit des trucs assez idiots, aujourd\\'hui. Vous avez été très gentils avec moi. Est-ce la fille de Tom\\u202f? Je l\\'apprécie. Je n\\'entrerai pas en compétition. Avez-vous jamais goûté une si bonne soupe\\u202f? C\\'est à toi de décider de ce que tu veux faire. Ça ne serait pas du tout amusant. Il ne porte pas de chapeau. Pouvez-vous fermer la fenêtre, je vous prie ? La fête bat son plein. Tom m\\'a suivi au garage. Je me rends au supermarché pour effectuer quelques courses. À quelle heure est ton vol\\xa0? Hier, j\\'ai acheté une voiture rouge. Rappelle tes chiens ! Ne fais-tu pas toujours ce qui est attendu ? Tom est en train de laver sa voiture. Elles trouveraient moyen de faire ce qu\\'elles veulent, de toutes manières. Je t\\'ai vu dans le parc, hier. J\\'ai peur de mon chef. Je ne voulais pas passer davantage de temps que nécessaire à cuisiner pour ma famille. Personne n\\'écoute. Il est de garde. Peut-être que Tom a oublié. Vous êtes de nouveaux étudiants. N\\'essaie pas de trop en faire ! C\\'est mon livre, pas le tien. Il est devenu célèbre dans le monde entier. Tu es pardonné. Je n\\'ai pas de sœur plus jeune. Qu\\'as-tu dit\\u202f? J\\'ai obtenu ce pourquoi je suis venu. Étudies-tu l\\'anglais\\u202f? Elle lui conseilla de faire davantage d\\'exercice. Tout ce que tu as à faire c\\'est de faire de ton mieux. Vous êtes un drôle d\\'oiseau. Les enfants font trop de bruit. Nous t\\'aimons tant. Il s\\'en est fallu de peu. Je ne reconnais aucune des personnes sur la photo. Mon cœur était rempli de joie. Ça semble être quelque chose que vous feriez. Je suis à votre merci. Dis-moi où tu as trouvé ça. Tu as parfaitement raison. Je déteste voir un homme adulte pleurer. Vous êtes sûre de ceci, n\\'est-ce pas ? Comprenez-vous les risques\\xa0? Tu n\\'as pas besoin d\\'aller chez le dentiste. Allumez le ventilateur. Tout le monde te déteste. Combien coûte ce livre ? Pourquoi as-tu ouvert la boîte ? Dans certaines sociétés, les employés peuvent avoir un travail garanti à vie. J\\'adorerais voir Tom gagner. Nous avons travaillé toute la nuit. Je ne suis pas allé à l\\'école le mois dernier. À quelle heure êtes-vous rentrés\\u202f? Ne le comprends-tu pas ? Il faut que vous la voyiez. Je lirai n\\'importe quoi. Il n\\'y a aucune alternative. S\\'il y a quoi que ce soit que je puisse faire pour toi, s\\'il te plaît, fais-le moi savoir. Tom a été très respectueux. Il n\\'y avait rien qu\\'il eût pu faire. Je ne m’inquiétais jamais pour Tom. Tom n\\'avait pas tort mais Mary, si. Les oiseaux volaient en formation. Ce ne sera pas long avant que nous puissions commencer. Quel fruit aimes-tu le plus\\u202f? Je vais le regarder très attentivement. Je ne me suis jamais fait de souci à ton sujet. Prenez contact avec moi dès que vous arrivez ici. Le café du coin a été remplacé par un Starbucks. Elle aime le pop russe. Bois davantage d\\'eau ! J\\'ai croisé un vieil ami. Ton visage est rouge. Il n\\'a pas pu aller à l\\'école pendant une semaine. Il a décrit sa propre expérience. Ça ne se produira plus. Tom et Mary se marient dans trois mois. C\\'est l\\'une de nos règles. Je veux aller à l\\'étranger. Il n\\'y a plus de balles dans mon arme. Il y a encore de nombreuses choses à faire. Tom est quelqu\\'un que je n\\'oublierai jamais. Il n\\'y a pas d\\'étoiles ce soir. Il ne m\\'a pas donné beaucoup de conseils. Mon service est presque terminé. Je ne pense pas pouvoir faire cela. Je sais que tu es contrariée. Comment as-tu répondu à Tom ? On a écouté la cloche sonner. Je veille souvent toute la nuit. Je n\\'ai pas réussi à ce qu\\'il me laisse tranquille. Vous ne m\\'avez jamais dit cela auparavant. Elle sait parler dix langues. Tu dois venir. Je dois vous parler seule à seul. J\\'ai besoin d\\'une plus grande chambre. Nous sommes normales. Elles sont dans le baquet d\\'eau chaude. Elle est une mère très avisée. Je pense que nous pourrions nous aider l\\'un l\\'autre. Il a tourné le dos à la vieille tradition. Regardez ces prix. C\\'est tout ce que nous proposons. Le problème, c\\'est que vous n\\'êtes pas assez patients. Quel est le prochain arrêt ? Je n\\'aime pas porter de chaussures sans chaussettes. Pourquoi tout le monde me regarde-t-il ? Il y a quelque chose dont j\\'ai le sentiment que tu devrais le savoir. J\\'ai essayé de l\\'expliquer à Tom. Il est plus intelligent qu\\'eux. Cet endroit se trouve-t-il loin de la banque\\u202f? Tout le monde a aimé Tom. On compte sur toi pour nous réveiller à l\\'heure, alors ne t\\'endors pas. Tom m\\'a dit qu\\'il n\\'avait ni frères ni sœurs. Comment vous le faites ne m\\'intéresse pas plus que ça. Vous ne semblez pas très satisfait. Je ne veux pas terminer au tribunal. Veuillez ouvrir le colis. Elle a dit qu\\'elle reviendrait très bientôt. Rejouez cette chanson ! C\\'est un vieux château. C\\'est précisément le genre de voiture que je veux. Pratiquement personne ne l\\'a crue. Je veux de vous la vérité. Venez la chercher. Je me suis sentie affreusement mal. Est-ce crédible ? Pourquoi êtes-vous tous si contents\\u202f? Noël approche. Puis-je le toucher ? Je ne crains pas la mort. L\\'officier insuffla du courage à ses hommes. La nourriture est froide. Il sera chancelant pour quelques heures encore, jusqu\\'à ce que le médicament se dissipe. Il courut à l\\'école, arrivant à l\\'heure. Cessons d’argumenter. Il avait toutes les raisons de le faire. Quelque chose cloche. J\\'aime aller au travail à pied. Il débuta au sommet. Dépêche-toi de venir ! Mon vélo a un pneu à plat. Je vous montrerai comment le faire. Elle est malade depuis mercredi dernier. Je les déteste toutes. Le livre que tu cherches est sur mon bureau. J\\'ai attrapé un rhume et j\\'ai de la fièvre. Tom a l\\'air dangereux. Tu passes à côté. C\\'était embarrassant. On vous demande au téléphone. C\\'est une très belle dame. L\\'aéroport est fermé. Il n\\'y a pas de doute à avoir au sujet de ses capacités. Écoute, ça ne m\\'intéresse pas. J\\'ai supposé que Tom n\\'allait jamais le trouver. M\\'accompagneras-tu à mon hôtel ? Je supporte entièrement Tom. C\\'est ce que j\\'aime faire. Tom apprend à nager. Je m\\'entends avec tout le monde. Que dis-tu d\\'une promenade avec nous ? Vous avez fait tout ce que vous pouviez. Tom aurait pu le faire tout seul. Je ne retrouve pas mes idées. J\\'étais inconsciente. S\\'il vous plaît, réservez cette table pour nous. Personne n\\'était chez moi. J\\'ai 19 ans. J\\'étais vraiment tout à fait courbaturée. J\\'ai pensé que vous travailliez. J\\'espère que quelque chose de bien va se produire avant que la journée soit finie. Tom ne prête pas attention. Ce mot vient du latin. Que penses-tu du Japon ? Soyez ponctuelles ! Si j\\'étais vous, je serais plus prudente. J\\'adorerais me débarrasser de cette vieille bagnole. Tom est notre chef d\\'équipe. La Croix Rouge, où est-elle ? La plupart des ascenseurs fonctionnent automatiquement. C\\'est sans espoir. Je n\\'ai pas eu besoin de votre aide. Ils dansèrent toute la nuit. Désolé de t\\'avoir fait attendre. Attendez-vous qui que ce soit ? Dites à Tom que je n\\'y serai pas. Elle ne convient pas à la tâche. Qu\\'est-ce qu\\'en pense votre femme ? Je veux que tu dises un mot pour moi. Il conseilla la prudence. Comme je suis malchanceux ! Aimeriez-vous disposer d\\'une place assise ? Nous sommes vraiment à court de personnel en fin d\\'année. Le français de Tom est bien meilleur que celui de Mary. Rien, désormais, ne peut nous arrêter. Je ne peux pas porter cette valise. C\\'est trop lourd. Veux-tu savoir pourquoi Tom est parti\\xa0? C\\'est un homme très bien payé. Traduis la partie soulignée. C\\'est deux fois plus grand que ça. Il faut que tu fasses tout de suite un rapport à la police. Tu peux m\\'appeler quand tu veux. Tom t\\'a menti, n\\'est-ce pas ? Quel est le titre du livre\\u202f? N\\'est-ce pas charmant ? Pourquoi est-ce que tu ne viens pas avec nous\\u202f? Veuillez venir à l\\'heure. La Pologne est un grand pays. C\\'est l\\'un des instincts humains de base. Je ne pense pas que je méritais la punition qui m\\'a été infligée. Es-tu pour la nouvelle loi ? Les conditions sanitaires dans les camps de réfugiés étaient terribles. Nous sommes ici pour les aider. Tom ne me l\\'a même pas dit. Pourrais-tu me répéter de quelle école tu es diplômée ? Vous n\\'êtes aucunement dans l\\'obligation de divulguer cette information. Nous achetons des billets de cinéma. Il semble y avoir des myriades d\\'étoiles. Que tu es grand\\u202f! Comme c\\'est mignon\\u202f! Je n\\'ai pas voulu te casser les pieds. Je ne sais pas ce que je vais faire de vous. As-tu jamais triché à un examen ? J\\'ai les cheveux trop longs. Je suis un peu nerveux en ce moment. Je fus surpris par sa persévérance. Vous n\\'êtes pas en colère, n\\'est-ce pas\\xa0? Tu ne peux pas te tuer en retenant ta respiration. Je vais seulement courir jusque la banque. Je l\\'ai fait pour vous. Occupe-toi de tes propre affaires ! Celui qui vit par l\\'épée, périra par l\\'épée. Laisse-moi te raconter l\\'origine de cette école. Elle ne viendra peut-être pas ici demain. Je me fais du souci pour elles. Lequel est ton livre\\u202f? Nous allons gager la maison de manière à pouvoir emprunter quelque argent. Tu n\\'es pas autorisé à quitter cette pièce. Tout le monde devrait s\\'entraider. Tom est à l\\'église en ce moment. Tu es celle qui m\\'a formée. C\\'est ce que tu as toujours voulu. Il eut un mot gentil et un sourire agréable à l\\'intention de chacun. Ai-je demandé votre aide ? J\\'ai trouvé ceux-ci. As-tu été en mesure de faire tout ce que tu voulais faire ? Je pense que ce que vous dites est vrai. Je crois que Tom est déprimé. Il est trop tard pour faire demi-tour maintenant. As-tu vu le coucher de soleil tantôt ? C\\'était vraiment beau. Fais-le encore une fois\\u202f! Elle a une très forte personnalité. Je cherche un pull-over. C\\'est le seul moyen de le faire. Ils semblent tous deux méfiants. J\\'aimerais que tu rencontres mon époux. Buvez-vous du vin ? J\\'espère que vous serez d\\'accord. Je lui ai parlé de notre école. Je ne pensais pas que tu me l\\'aurais dit. Nous devons le faire avant demain. Tom a réalisé que ce que Marie a dit n\\'était pas vrai. Je pensais t\\'avoir dit de ne pas causer de problèmes. Pourquoi est-ce que tu apprends l\\'espagnol\\u202f? J\\'ai vu un chien crotté rentrer dans le jardin. Personne n\\'est trop vieux pour apprendre. Je ne suis pas celui qui a dit à Tom de partir. Ils le vénéraient comme un héros. Elle a parlé avec la présidente. Est-ce que c\\'est un loup ? Tom m\\'a dit qu\\'il aurait du retard. Le travail est pratiquement terminé. Il se peut qu\\'il ne soit pas un homme mauvais. C\\'est la saison sèche, ici. Pourquoi ne leur dit-il pas ? Je veux passer tout mon temps avec vous. Ce type m\\'importune. Plusieurs routes sont inondées. Il a écrit beaucoup d\\'histoires. Qu\\'est-ce que tu rumines ? La chance vient à ceux qui la cherchent. Je suis obstiné. Personne ne peut partir. Comment changeras-tu ceci ? Je veux vous allouer suffisamment de temps pour faire ça. Peux-tu battre ça\\xa0? Je n\\'aime pas étudier par cette chaleur. Je crois que l\\'amour existe. Quel est le nom de cette chaîne de montagnes? Je serai de retour en un rien de temps. Quand pouvez-vous commencer ? Ça a l\\'air intéressant. Je ne sais pas quoi chanter. S\\'il fait beau demain, allons nager à la rivière. Ne pensez-vous pas que ceci est ridicule ? Il fait beau temps, ce soir. Il se battit jusqu\\'à la fin. Je suis aveugle. Tom n\\'avait pas l\\'air aussi ennuyé que Mary. Il est maintenant presque aussi grand que son père. J\\'ai trouvé son numéro de téléphone par hasard dans un vieux carnet d\\'adresses. Comment sais-tu qu\\'ils nous recherchent ? Où est le couteau ? Ils le font comme il faut. Il a plu fortement hier. Disposez-vous d\\'une carte de crédit ? Ils ont besoin de l\\'argent. Le train a été si bondé que j\\'ai dû me tenir debout durant tout le chemin. Tom a attrapé la balle avec sa main gauche. Apporte quelque chose à lire ! Nous allons manger tout de suite. Pourquoi êtes-vous venues ici ? Je sais que tu peux nous aider. Je veux faire mon travail, un point c\\'est tout. Je me suis enfermé à l\\'extérieur de mon appartement. Avez-vous jamais mangé seul dans un restaurant ? Quiconque sait-il prononcer ce mot ? As-tu envie de prendre un verre ? Cela me revient maintenant. Asseyons-nous sur ce banc. Elle eut soudain une bonne idée. Sur ce point, tu as raison. Il accepta son cadeau. Je pense que j\\'ai besoin d\\'un peu de sommeil. Comment cela a-t-il atterri ici ? Regardez-la attentivement. Quand vous faites du skateboard, ça vous met les genoux à rude épreuve. Tom ne sait simplement pas quoi faire. La France est au sud de l\\'Angleterre. Ce sont nos livres. Nous vous souhaitons un agréable voyage. Juste en la regardant, on peut voir qu\\'elle t\\'aime. Je regardais la télé lorsque le téléphone a sonné. Nous avons des ponchos. Continue d\\'essayer. Démarrons ! Tom et Mary ont quitté la fête ensemble. Quand arriverons-nous à Boston\\xa0? Je veux réfléchir par moi-même. Un embouteillage durant les heures de pointe a retardé mon arrivée de deux heures. Est-ce moi que tu désignes ? Elle n\\'est pas assez bonne pour lui. Le supermarché est ouvert. Tom est bien ivre. Ce n\\'est pas mal. Elle pleurait amèrement. Ça me brise le cœur. Arrête ! Tu le fais pleurer ! Je ne saurais être plus claire. J\\'aime le penser. Il n\\'aimait pas voyager. La plainte a été rejetée. J\\'ai essayé de l\\'appeler mais la ligne était occupée. Je veux seulement t\\'aider. Avez-vous déjà fini\\u202f? Peux-tu les identifier ? Mon oncle a vécu à Washington pendant deux ans. Je préfère le printemps à l\\'automne. Je ne crois rien de ce que disent ces gens. Elle n\\'est pas du genre à se marier. Je ne t\\'ai pas entendu entrer. Où ont-elles été envoyées ? J\\'accepte votre offre. Mon père a arrêté de boire. Ces bananes sont-elles mûres\\u202f? Je dirais que vous êtes jalouse. Tom a l\\'air énervé. Elle l\\'a mis dans les ennuis. Puis-je avoir un moment avec vous\\xa0? Je veux savoir où elles sont. Je reviens de suite. Elle m\\'accusa d\\'être une menteuse. Cette partie est frustrante. Elle a essayé de dissimuler son chagrin à la fête. Connaissez-vous le chemin\\u202f? J\\'adore le café. Tout le monde se moqua de Tom. Tout le monde joue au jeu de l\\'amour. Je pense que vous avez mentionné cela la semaine dernière. Tom m\\'a dit qu\\'il était déterminé à le faire. L\\'enfant est sale. De quelle gravité est le problème ? Je ne savais pas que vous étiez si fatiguée. Ne sais-tu pas qui je suis ? Je ne peux pas vous demander de courir un tel risque. Nous avions besoin de ton aide. Comment as-tu appris à si bien danser ? Tout est si désespéré. Je ne faisais que me relaxer. Je ne peux faire de promesses. Vous n\\'êtes pas censée nager ici. Ce serait facile de faire ça. Kyoto reçoit beaucoup de visiteurs du monde entier. Corrigez-moi si je me trompe. Je ne suis pas triste. Nous avons rendu visite à nos voisins. J\\'ignore le chemin. Tous les membres du cabinet étaient présents. Peux-tu encore te souvenir de quand nous nous sommes rencontrés la première fois ? Ça a l\\'air grotesque. Tom est le portrait craché de son père. Veuillez à nouveau essayer. Elles y arrivèrent avant l\\'aube. Ce n\\'est ni le moment, ni l\\'endroit. Sont-elles en mesure de nous voir ? Veuillez venir récupérer vos colis à la réception. Il paraît être un homme d\\'affaires respectable mais il est en réalité membre de la mafia. Je veux faire votre connaissance. Le problème était trop pour moi. Tom s\\'effondra au sol. Marie s\\'est séparée de son mari il y a deux ans. Je suis prête à vous aider, si vous voulez que je le fasse. Vous\\xa0pouvez\\xa0retourner\\xa0au\\xa0lit. C\\'est suffisant. C\\'est un scientifique. À ma surprise, elle n\\'arriva pas à répondre à la question. Tom et Mary ne sont pas d\\'accord avec toi. Je me remémore l\\'avoir vue auparavant. C\\'est la réponse à tous mes problèmes. Tout ce que je voulais, c\\'était un petit peu plus d\\'attention. Êtes-vous Étasuniens ? Ne lui donne pas d\\'idées ! Prépare-toi à mourir ! J\\'étais préoccupé. Il était étendu sur le lit. Vous le regretterez. Dès que j\\'ai quitté la maison, il a commencé à pleuvoir. Je sais où nous sommes. Ce n\\'est pas ce que tu avais l\\'habitude de dire. Les USA cherchent à faire extrader un baron de la drogue du Mexique. Lincoln est mort en 1865. Je n\\'arrive pas à croire que vous envisagiez de faire ça. Tom a mieux chanté que Mary. Pouvez-vous deviner le prix? Alors que t\\'est-il arrivé, en définitive ? Notre tour des Alpes françaises à vélo dura deux semaines. Personne ne vota contre. Le reste n\\'a pas d\\'importance. Il y a un message pour toi. Il a été tué par balle. J\\'ai essayé mais je n\\'ai pas réussi. Vous n\\'avez pas l\\'air aussi bonnes que ça. Il est incroyablement facile de tromper le système. À quelle heure te réveilles-tu\\xa0? Nous avons déjà eu cette discussion. Je ne comprends pas pourquoi Tom vous a amenées ici. Ça me plaît beaucoup. Laisse-moi entrer. Je dois te parler. Il n\\'y avait pas de signature sur le contrat. Tom a dit qu\\'il l\\'achèterait. Je me souviens avoir posté ta lettre hier. Ce couvercle est trop serré pour que je puisse l\\'ouvrir. Cela semble fort intéressant. À quelle vitesse parviens-tu à le faire ? Je pense avoir préféré ne rien savoir. Tu n\\'es pas le premier. Tu n\\'as plus besoin de moi. Qu’est ce que tu dirais d’aller faire un tour au parc\\u202f? Mes notes se sont améliorées de manière significative. Tu as beaucoup de chance d\\'avoir de tels amis. Appelez-moi si vous découvrez quelque chose. Je veux écrire une lettre d\\'amour en français à ma petite amie. Finissons ça. Je ne peux pas me rappeler son nom. Êtes-vous encore contrariés à propos de ce qui a eu lieu ? Il faut que tu dises la vérité à Tom. Je suis habituée à vivre seule. Nous avons déménagé dans une nouvelle maison. J\\'ai dormi toute la journée hier, parce que c\\'était dimanche. Que veux-tu faire d\\'autre ? Êtes-vous aussi bêtes ? Désolée. Je ne peux rien y faire. Je borde mes enfants au lit tous les soirs. La pratique est la seule façon de maîtriser une langue étrangère. C\\'est illégal. Tom ressemble à un étranger. C\\'est gentil à vous de dire cela. Elle tenta de cacher ses sentiments. Tom veut aller avec nous. Je les ai laissés partir. Nous avons discuté la question d\\'un point de vue éducatif. Enfilez vos vêtements ! Il y a eu un autre accident. Mon bateau est petit. La police a capturé le criminel qui s\\'était échappé. Tom a pris un livre sur l\\'étagère. Je suppose que tu auras besoin de ça. C\\'est marrant, je ne me souviens pas de cela. C\\'est de cela qu\\'il s\\'agit. Vos amies ont l\\'air gentil. Quand la fête a-t-elle lieu\\u202f? J\\'étais absent du travail hier. Ne parlez pas à ma sœur comme cela. Je n\\'ai pas les moyens d\\'acheter un poney. J\\'ai dû faire une embardée pour éviter de heurter le chien. Je ne veux pas vraiment t\\'ennuyer avec mes problèmes. Avez-vous déjà embrassé une autre fille ? Les années s\\'écoulent rapidement. Il fait encore jour dehors. Qui a faim ? Les relations humaines sont complexes. Il doit y avoir un moyen d\\'arriver à une solution diplomatique. Un jeune homme a cambriolé la maison la nuit dernière. Vous étiez en train de dormir, n\\'est-ce pas ? Cela te rend-il vraiment heureux ? Tom est fier de toi. Quiconque vous a-t-il jamais brisé le cœur ? Ce n\\'est pas quelque chose dont on peut plaisanter. Montre-moi un autre exemple. Mon père arrêta de boire. Il est bien meilleur que moi au saut en hauteur. J\\'adore votre maison. Si ça ne marche pas, essayez autre chose. Avez-vous déjà entendu pareille histoire ? Vous avez l\\'air très bien. Nous ne sommes que des étudiants. Qu\\'est-ce qui t\\'a retenu\\xa0? La valeur d\\'un homme ne réside pas tant dans ce qu\\'il a que dans ce qu\\'il est. Quels sont les aliments qu\\'on mange habituellement avec du vin rouge ? Nous devons réfléchir ensemble à l\\'avenir de l\\'Europe. Je suis tout à fait d\\'accord avec toi. Tom a renvoyé Mary. Il y a peu d\\'espoir qu\\'il y parvienne. Tiens la rampe. Je suis sur le départ. Il a continué à lire le livre. Quelqu\\'un t\\'a vu. Il ne sait pas très bien cuisiner. À qui aimeriez-vous parler ? Je préférerais rester ici plutôt que d\\'y aller. Viendras-tu au cinéma avec moi ? Je ne veux pas participer à la cérémonie. Qui sont tes parents ? Si ça devient ennuyeux, j\\'irai chez moi. J\\'y suis également allée. Nous sommes perdues. J\\'ai envoyé un message à Tom. Dis-moi quoi faire. Ne détestez-vous pas simplement la technologie ? Pourquoi devez-vous partir ? Je sais que je ne suis pas en train de rêver. Je suis diabétique. Je dispose de pas mal de temps. Je n\\'avais rien à y voir. Je t\\'aiderai autant que je peux. Je sais que tu es occupée, mais est-ce que je peux te parler une minute ? N\\'agissez pas de la sorte. Il commence à se faire tard. Quelqu\\'un a répondu. Ne dites à personne que nous avons fait cela. Vous devez être plus prudente ! Voudriez-vous bien ne pas laisser la porte ouverte ? Mon oncle a une maison en Italie. Tu es probablement trop jeune pour le comprendre. Une ampoule donne de la lumière. C\\'est temporaire. Je n\\'entends rien. Je veux vous emmener déjeuner. Nous nous souviendrons toujours de Tom. Tout est-il payé ? Je suis étonné qu\\'on ne vous ait pas invitée. L\\'accusé déclara au juge qu\\'il était innocent. Les joueurs de cette équipe sont tous des géants. Je ne le connais pas. Je parle en français à mon père et en anglais à ma mère. Veuillez écrire votre nom ici. Ma mère prit ma température. Il viendra, c\\'est sûr. J\\'ai commencé à apprendre l\\'espéranto. On allait le faire. J\\'ai fait le travail en trois jours. Je n\\'ai pas marché. Il n\\'y a personne chez nous. La seule chose à laquelle il pense est de la rencontrer. Cette jeune dame est infirmière. Il a clamecé hier. Ma mère m\\'a dit que je devais manger moins de sucre. Mary est très impressionnée. Tes mains sont-elles propres\\u202f? Qu\\'a dit ta mère ? Je n\\'ai pas envie de parler allemand. Je ne connais qu\\'une façon de faire ceci. Suspends ton manteau au crochet. Ça ne durera pas plus de trois minutes. Je n\\'étais pas le seul qui ne connaissait pas Tom. C\\'est comme ça que je l\\'ai connue. Lâche-moi ! Tu veux que je demande à Tom ? Tom ne sait pas lacer ses chaussures. Je voulais seulement des conseils venant de quelqu\\'un qui a déjà été à Boston. N\\'ayez pas honte de ce que vous êtes. Sois satisfait ! Tom porte les lunettes de soleil qu\\'il a achetées hier. La façon de parler de Sakura me tape sur les nerfs. Elles ne m\\'écoutent pas. Vous êtes égoïstes. Elle lui a dit quelque chose. Pouvez-vous composter ce ticket de stationnement\\u202f? Je suis rentrée un peu tard, cette nuit. Quand la réunion a-t-elle commencé\\xa0? Ne lâche pas le chien. Nettoyons cette pagaille. Il travaille dans l\\'industrie automobile. Tom refusa d\\'aider Marie à faire ses devoirs. Avez-vous reconnu sa lettre\\u202f? Formez deux lignes. À qui est cette valise ? Que faites-vous pendant votre temps libre ? Suis-les juste ! Tu n’as pas la carrure d’une meneuse. Êtes-vous drogué ? Tom sait que Maria ne parle pas français. Pour plus d\\'information reportez-vous en page 16. J\\'ai rencontré ton fils hier et il m\\'a poliment salué. Tom parle-t-il français\\xa0? Je ne pense pas qu\\'on ne me percevra jamais comme un locuteur natif. Tu es vraiment très productif aujourd\\'hui. As-tu besoin de ce livre\\u202f? L\\'imagination affecte tous les aspects de notre vie. Je me sens très seul ces jours-ci. Il n\\'est pas aussi bête qu\\'il en a l\\'air. Il a levé son chapeau. Tom a résolu le problème. Tom a très peu changé. Nous devons appeler Tom. Ils ont assez souffert. Je jouais souvent au football quand j\\'étais jeune. Essayez-vous de me faire peur\\xa0? Tom ne s\\'est battu avec personne dernièrement. Commençons. Je dirai quelque chose à ce propos. Tom est le garçon dont je vous ai parlé. On m\\'a demandé\\u202f? Cet immeuble a cinq ascenseurs. Dis-moi que vous plaisantez ! Ce n\\'est pas mon ordinateur. Il m\\'a dit que sa maison était hantée. Ses camarades de classe ne l\\'apprécient pas. Cela a-t-il le moindre sens ? Je ne veux pas de Tom dans ma voiture. Est-ce que vos parents savent ça ? Ne raccrochez pas s\\'il vous plait. Tous les prisonniers se sont échappés. Tu n\\'es pas obligé de chanter. Prenez cette aspirine. Est-ce que vous êtes en train de gagner\\xa0? J\\'ai loupé une autre chance. Où vas-tu habituellement pêcher\\xa0? J\\'ai réévalué votre proposition. Tom ne voulait pas penser à la situation. J\\'aimerais visiter la Corée du Sud. Pourquoi es-tu si occupé aujourd\\'hui\\xa0? Des étoiles scintillaient dans le ciel. Tom a versé du lait dans un bol pour ses chats. Je ne voulais pas vraiment aller à l\\'université. Elle mangea son dîner. Je le comprends. Avec un grand pouvoir viennent de grandes responsabilités. N\\'y répondez pas ! N\\'as-tu pas sommeil ? Cherche le numéro dans l\\'annuaire. Tom peut parler trois langues. Je dois prendre une décision. C\\'est le village dans lequel est né mon père. Ne me le fais pas répéter ! Le chien aboyait. Je suis désolé que tu aies été entraînée là-dedans. Ça dépend de beaucoup de choses. Tu ne comprends jamais mes blagues. Je suis content que nous ayons eu cette chance de parler. C\\'est tellement dément ! Comment m\\'as-tu appelé ? Cela serait intéressant. Je pense que vous êtes barrés. Ce fut plutôt amusant. Je suis en accord avec l\\'essentiel de ce qu\\'il dit. Tom a un faible pour Marie. Je vous aiderai. J\\'y suis également allé. Vous êtes fort serviable. C\\'est un aîné. Un des principaux produits de ce pays est le café. Il était en Amérique à ce moment-là. Je ne te crois tout simplement pas. Il fait très sec. Je ne pense pas que vous soyez schizophrène. Cessez d\\'être aussi gentille avec moi ! Elles vont torturer Tom. Tu sais que je ne danse pas. Je ne suis souvent qu\\'à moitié réveillé. Nous avons battu trois équipes. J\\'approuve ce projet. Elle n\\'a pas semblé me reconnaître. Pourrais-tu allumer la lumière s\\'il te plaît\\u202f? Il a été suffisamment stupide pour la croire. Est-ce que vous fumez ? Tu n\\'étais pas sérieux, si ? Est-ce votre bicyclette\\u202f? Je ne mange pas le trognon de pomme. Tom ne pourrait pas faire une telle chose. Tu ne peux simplement pas ne pas faire ton travail. Toutes les places de parking étaient prises. Je pensais que si je rompais avec toi, je n\\'aurais plus jamais à te revoir. Elle est soudainement devenue célèbre. Étais-je supposé ne pas encore manger ? Vas-tu partir ? Il est vrai que j\\'étais fou amoureux d\\'elle. Je portai le lourd sac sur le dos. Pensez-vous que je sois trop grand ? Son passe-temps est de collectionner d\\'étranges papillons. Ça ne peut pas attendre demain. Comment diable m\\'as-tu trouvée ? Je sais que Tom est mal en point. Que faites-vous quand vous n\\'êtes pas au travail\\xa0? Puis-je avoir ton numéro de téléphone ? Ne fourre pas le nez dans un vase étranger. De quoi riez-vous ? Il a bonne mémoire. Je me réfère souvent au dictionnaire. Je l\\'ai dissimulée dans mon tiroir à chaussettes. Je ne suis pas sûre qu\\'il veuille s\\'entretenir avec moi. Vous êtes très raffinée. Il vous faut perdre du poids. Quelques jours de repos vous feront du bien. Il a acheté une paire de chaussures noires hier. Nous avons beaucoup de travail devant nous. Elle fut contente de voir les résultats. Nous avons quelques gars dans notre équipe qui ne peuvent pas parler français. Ce n\\'était pas votre faute. Il sait qu\\'il a commis quelque chose de mal. J\\'ai une dette envers lui. Nous faisons tout ensemble. Où sont-ils passés ? Hier, un voleur a visité la maison. Pourquoi ne retires-tu pas ton manteau ? C\\'est une idée intelligente. J\\'ai soudain pris conscience de ce qui avait lieu. Ne vous faites pas des idées ! Pourquoi voudrais-tu dire cela ? On m\\'a dit que c\\'est dangereux de nager par ici. J\\'aurais aimé la rencontrer. Quelle est l\\'autre option\\xa0? Tout le monde fut surpris. Tom finira sûrement par accepter de nous aider. J\\'étais impatiente de vous rencontrer à nouveau. Lorsque tu auras fini de lire ce livre, j\\'aimerais le lire. Tom a l\\'air un peu nerveux. Il m\\'a ignoré. Il ne peut plus marcher. Elle demanda de l\\'aide, mais personne ne vint. Selon la télévision, il pleuvra demain. Ne me juge pas trop durement ! Si vous ne voulez pas y aller, vous n\\'y êtes pas obligé. Est-ce sans risque de patiner sur ce lac ? Noël, c\\'est pour bientôt, n\\'est-ce pas\\u202f? Les hommes pleurent-ils ? Tu dois faire attention à ne pas le mettre en colère. Fiche-moi simplement la paix ! Tout le monde le fait. Où ont-elles déniché tout ça ? Y a-t-il encore du café dans la cuisine\\u202f? J\\'aime faire du sport. Faisons une pause café. J\\'ai peur de voler. Ce n\\'est pas de votre faute. Voulez-vous aller nager ? Tu ne peux pas continuer à me traiter comme une enfant. Il ne fait que se plaindre. Suggères-tu qu\\'il s\\'agit d\\'un défaut de conception ? Je n\\'ai même pas de petite amie. Les gens qui parlent tout le temps d\\'eux-mêmes m\\'ennuient. Sont-ils flics ? Je sais que Tom sera raisonnable. Ce jour-là, il faisait gris et Tom n\\'avait pas envie de sortir. Je n\\'ai rien changé. J\\'ai entendu dire que Marie était très jolie. Il doit y avoir une meilleure façon de faire cela. Les docteurs font le serment de ne blesser personne. J\\'ai adoré ce livre. Si tu veux, je peux venir te chercher au travail. Il vend des voitures. Il voudrait savoir si vous jouez aux échecs. Je n\\'ai pas les moyens de faire ça. Tout le monde pleure. Je pensais vraiment que je pouvais le faire. Je suis en retard de quelques minutes. Il est sûr de réussir l\\'examen. Je me suis garée sur la rue en face de ta maison. À cause du typhon, l\\'école fut fermée. Puis-je vous demander de m\\'aider avec quelque chose ? Ce fut un succès mitigé. On n\\'est pas encore certains de ça. Il ne souffla mot. Pourriez-vous baisser le son ? Aimeriez-vous venir à ma fête\\u202f? Tu dois cesser. S\\'il est compétent en anglais, je l\\'emploierai. C\\'est quelque chose qui se produit assez souvent. Jette un coup d\\'œil à cette carte. Combien de jours seront-ils nécessaires si j\\'envoie ceci comme courrier recommandé ? Il a piqué une crise. Nous devons former une équipe. Tom n\\'a pas toujours tort. Lors de ces deux ou trois années, il acquit une grande quantité de richesses. J\\'en apprécie les couleurs. Vous n\\'êtes pas le seul canadien ici. Qui aurait pensé que ce fut possible ? 1989 fut une année difficile. L\\'eau est vraiment agréable. Nous fûmes coincés dans la circulation. Tu es apparue au bon moment. N\\'ayez pas peur du changement. Jeune, je jouais souvent au base-ball. Regardez cet immeuble rouge. Il plaça le livre sur l\\'étagère. Pourquoi ne nous avez-vous pas dit qu\\'il y avait un témoin ? Quand êtes-vous arrivé ? Êtes-vous arrivé aujourd\\'hui ? Vous êtes flic ou quoi ? Vous êtes mon héros. C\\'tait super. J\\'espère que c\\'est assez bien. Tom t\\'a choisi. Savez-vous faire du ski ? Qu\\'en pensez-vous ? Ce serait génial ! J\\'ai appelé ton bureau aujourd\\'hui, mais tu n\\'y étais pas. Cherchez-vous vos parents? Je ne savais pas à quel autre endroit me rendre. Il a voulu enseigner l\\'anglais à\\xa0l\\'école. Tu as à moitié raison. Je veux manger un truc bon. On m\\'a dit que vous étiez une experte. Je viens de le rencontrer. Je suis crevé. Mon père a sous-entendu que notre voyage estival était arrangé. Vous êtes fort talentueuse. La télé était tout le temps allumée. Je t\\'ai sauvée. Vous vous êtes bagarrés, tous les deux, aujourd\\'hui, n\\'est-ce pas ? Il a dormi avec la fenêtre ouverte. Arrêtez de vous conduire comme un bébé ! Vais-je avoir besoin d\\'un avocat\\xa0? Nous allons faire tout ce que nous pouvons. Êtes-vous sûre de vouloir aller jusqu\\'au bout ? Je leur ai ordonné de quitter la pièce. Je pense que vous devriez m\\'écouter. As-tu aimé le film\\u202f? Il n\\'est pas plus stupide que toi. Je suis née sur un bateau. La machine est à vous, maintenant. Je préfère marcher plutôt que d\\'attendre le prochain bus. Ce fut frustrant et déroutant. Je ne suis pas différente. As-tu acheté un billet de retour\\u202f? J\\'étais tellement heureux. Je n\\'ai personne d\\'autre que toi vers qui me tourner. Tu veux rester anonyme. Je me demande ce qui s\\'est passé. Ce garçon est très ingénieux. Elle me connaît. Elle joue bien du violon. Je sais que vous devez retourner à Boston. Il le fait plus rapidement que moi. Je préfère la lecture à l\\'écriture. Vous vous y habituerez. Nous avons tendance à faire des erreurs. Ça a l\\'air excitant. Ce style est chouette, mais l\\'avez-vous dans une couleur différente\\u202f? Est-ce que la tempête a causé des dégâts\\xa0? Tu dois rester en forme. Son rire résonna à travers la maison. Ne manquez pas cette exceptionnelle occasion. Ça n\\'a rien à voir avec ça. Je pensais que vous étiez mon aînée. Espérons que Tom entrera à Harvard. J\\'ai la flemme de faire mes devoirs. J\\'ai laissé ma guitare dans votre bureau. Au lieu de te plaindre, tu devrais peut-être aider. Je suis devenu occupé. Je me demande ce qui lui est arrivé. L\\'énergie atomique peut être utilisée à des fins pacifiques. Ce type est un bandit. Elles sont éveillées. Je suis fatiguée de faire la queue. Tom habite dans un quartier pauvre. Ils se promenèrent le long de la plage. Ils sont trop proches. Vous n\\'êtes pas obligé de répondre. Ma mère est aisée. Personne n\\'éprouve l\\'envie de se battre. Les cloches de l\\'église sonnent. Quelle est la chose la plus étrange que tu aies jamais mangé\\u202f? Vous ne les connaissez pas. Ma petite amie était en train de pleurer. Elle est une vrai beauté. Tom avait raison après tout. Il n\\'est pas venu à la fête. Tom nous posa plusieurs questions. Ce train s\\'arrête à toutes les stations. Tom hésita. J\\'étais ailleurs. Nous avons eu une brève discussion sur les droits de l\\'homme. Tu ferais mieux d\\'aller chez toi le plus tôt possible. Grimpez dans la camionnette ! Tom a beaucoup bu la nuit dernière et il a un peu la gueule de bois ce matin. Comme c\\'est intéressant\\xa0! N\\'oublie pas le billet. Tu devrais faire de l\\'exercice. Qu\\'est-ce que Tom voulait vraiment ? Tom mange la pizza avec une fourchette, mais Mary la mange avec ses mains. Mange tout ce que tu veux. Le Portugal a dépénalisé la possession de drogues à usage personnel. Vous pouvez toujours compter sur lui en cas d\\'urgence. Je prends mon après-midi, demain. Est-ce que ça veut dire que tu ne m\\'aimes plus\\xa0? J\\'ai oublié mon adresse de courrier électronique. Je les déteste tous. Je travaille à Milan. Soyez prudentes, je vous prie. Je n\\'ai fait ceci qu\\'une fois auparavant. J\\'ai un message urgent de Tom. J\\'ai cru que j\\'allais mourir. Comment suis-je supposé me vêtir ? Passe-moi le sel, s\\'il te plaît. Où est-ce que tu as eu cette écharpe orange ? Vous ne pouvez pas me faire ça. Ses vêtements sont passés de mode. Vous n\\'êtes pas pressé, n\\'est-ce pas ? C\\'est une inquiétude justifiée. Je n\\'en étais pas vraiment sûre. J\\'ai été malchanceux. Tous les hommes sont égaux au regard de la loi. Il n\\'y a pas assez de place pour tout le monde. Vous n\\'avez pas payé. Que cherchez-vous ? Elles veulent seulement une excuse pour vous licencier. Je dois ouvrir ma boutique. Quiconque sait-il que tu es là ? J\\'enseigne la langue française. Pourquoi le veux-tu, de toutes façons ? Je resterai ici si vous le voulez vraiment. Je ne l\\'ai jamais fait de cette manière auparavant. Il ramasse l\\'argent à la pelle. Je trouve cela curieux. Nous recherchons quelqu\\'un qui sache se servir d\\'un ordinateur. En entendant les nouvelles, elle pâlit. Elles s\\'amusent. Je suis heureux d\\'avoir eu l\\'occasion de vous revoir. Je sais que j\\'aurais dû faire ça. Elle tenta de le persuader d\\'aller avec elle. Pourquoi avez-vous été renvoyé\\xa0? Pensez-vous que je suis grosse\\xa0? Il ne s\\'agit pas juste d\\'argent. Je ne vais pas abandonner ceci. Tu as foiré, Tom. La viande n\\'est pas encore prête. Ceci pourrait ne pas être possible. Je ne peux pas y aller avec toi. Je n\\'ai que faire de votre passé. C\\'est la dernière chose que je veuille faire. Regarde dans la boîte. Je serai tout ce que vous voulez que je sois. Tom ne savait pas trop quoi en penser. Tu aurais pu faire ça tout seul. J\\'ai du courrier à traiter. Vous vous êtes trompé de numéro. Tu as été d\\'une grande aide. Marie a appliqué de la crème sur son visage. Où est parti tout le monde ? Ma mère se lève tôt le matin. Le perroquet est mort. Je pense qu\\'il commet une grave erreur en refusant ce poste. Nous avons un horaire serré. As-tu déjà lu ce livre\\u202f? Une bonne idée m\\'a traversé l\\'esprit. Il tourna le dos aux vieilles traditions. Je sais que tu es né à Boston. Je l\\'avais rencontrée à de nombreuses reprises auparavant. Je n\\'ai dormi que deux heures. Tom aime-t-il Mary\\xa0? J\\'ai mangé un demi-pamplemousse pour le petit-déjeuner. Personne n\\'y vit. Nous aurons besoin de leur aide. Il ignore encore la vérité. Elle n\\'a jamais été amoureuse. Tous les étudiants protestèrent contre la guerre. Je vous arrêterai. Les noisettes sont récoltées à la mi-automne. Y a-t-il un lien entre fumer et le cancer du poumon\\u202f? Qu\\'espérais-tu qu\\'il advienne ? Nous avons toutes peur. Laissez-moi un mot. Il aime la gelée. Voulez-vous dire que vous ignorez ce qui s\\'est passé ? S\\'il vous plaît conduisez prudemment. Gardez le secret. Je veux simplement parler à Tom avant que quelqu\\'un d\\'autre le fasse. Aime-t-il la Chine ? Je suppose que tout le monde pense que je suis fou. La vendeuse viendra vous aider tout de suite. L\\'amour survivra. C\\'est la plus grande demeure du voisinage. Je mens souvent sur mon âge. M\\'écoutes-tu le moins du monde\\u202f? En ce qui me concerne, je suis satisfait. Je ne peux pas rester longtemps. Il a une forte volonté. Il m\\'a montré son album photo. Tom a été surpris par un coup sur la porte. Je vois que tu es prête. Elles parlent. Arrête-toi juste là ! Laisse-moi vérifier ton ticket. Tu aimes vraiment ça\\xa0? On roule à gauche en Angleterre. Où se trouvait ta fille ? Vous êtes bonne. Je crois que notre relation est terminée. Elle était vêtue de rouge. Il se pourrait que ça ne soit pas possible. Tom et Mary se sont mariés en octobre dernier. Je veux vivre dans une petite ville. Les choses auraient peut-être mieux tourné si tu n\\'y avais pas été. J\\'étais convaincu que vous viendriez à ma fête. Nous vous rejoindrons dans peu de temps. Tout est connecté. Je ne sais pas qui le sait. Elle a appris à son enfant à ne jamais jouer avec des allumettes. Je crains qu\\'il pleuve demain. Les pêcheurs prirent des photos de leur prise. Puis-je prendre votre photo\\u202f? Malheureusement, ce n\\'est pas possible. Nous étions destinés à nous rencontrer un jour. Les examens ont lieu juste après les congés d\\'été. Je suis armée. J\\'ai été plutôt occupée. Le simple fait d\\'y penser suffit à me rendre heureux. Peut-être que je vais aller nager après l\\'école. Ne te laisse pas impressionner. Je parle de mon ami. Tom semble vraiment heureux d\\'être ici. Tom n\\'arrivait pas à trouver les mots pour exprimer ce qu\\'il ressentait. Il semblait que personne ne pouvait arrêter le Président Reagan. J\\'ai des plans. Ils étaient satisfaits. J\\'ai eu une semaine chargée. Je ne crois pas la moitié de ce qu\\'on m\\'a dit sur toi. Tu trouves toujours des reproches à me faire. Tu as fini par obtenir un boulot. Pourquoi ne vous portez-vous pas candidat au conseil des étudiants ? Roger Miller est né le 2 janvier 1936 dans la ville occidentale de Forth Worth au Texas. Je lui fais confiance. Je n\\'ai pas dit que vous étiez folles. Je me suis enquise de son nom. J\\'ai peur des chauves-souris. C\\'est très aimable à vous de m\\'inviter. Ne me dicte pas ce que j\\'ai vu ! Elle s\\'est décidée à y aller. Quel est ton numéro ? Je ne pouvais simplement pas dire non. Pourrais-tu garder un œil sur mes clés de voiture ? Quelqu\\'un a volé ma valise. Je suppose que tu veux me demander comment j\\'ai été en mesure de me faire autant d\\'argent en si peu de temps. Je pensais que je pourrais être d\\'une quelconque utilité. Dites-leur ce que vous êtes en train de faire ici ! Il est dans le pétrin. Elle est toujours occupée en semaine. Je pensais que j\\'allais mourir. Le Président doit s\\'exprimer à la télévision ce soir. Pourquoi ne pas simplement arrêter ? N\\'aie pas peur de poser des questions. Tom sait parler allemand aussi bien qu\\'anglais. Quiconque a-t-il besoin de quoi que ce soit ? Je pense que je suis amoureux. Il ne rit jamais de mes plaisanteries. Le garçon est un loup déguisé en mouton. L\\'ai-je blessé\\u202f? Ses cheveux étaient bruns. Je sais que certains d\\'entre vous veulent revenir aux choses telles qu\\'elles étaient mais ça ne va pas se produire. Que tu es grande\\u202f! Amuse-toi bien ! Un soldat doit souvent confronter le danger. Tom a volé tout l\\'argent de Mary. Vous êtes snob. Ce n\\'est pas sympa. Vous plaisantez ! Tu vas mieux maintenant ? Cela fait presque trois ans que nous sommes ensemble. Je ne veux pas que quoi que ce soit t\\'arrive. Ce que t\\'a dit Tom n\\'était pas vrai. Pourquoi veux-tu un chien ? Elle lui conseilla de voir un avocat. J\\'apprécie tout ce que vous avez fait. Cela peut se révéler fatal. Même s\\'il était fatigué, il continua son travail. Avez-vous jamais été agressée\\u202f? Y a-t-il un magasin de vêtements, près d\\'ici ? Je ne suis pas né riche. Il n\\'y a rien de pire. Tout ce que je veux, c\\'est de la compagnie. Je pense que tu devrais laisser Tom seul. Bonne chance ! Tu en auras besoin. Il était occupé, hier après-midi. Vous n\\'êtes pas allées très loin. Le café est pour moi, et le thé est pour toi. J\\'ai trouvé un bon restaurant mexicain. Arrivez-vous à nous entendre ? Son histoire était trop ridicule pour que quiconque y croie. Le devoir est à faire pour la semaine prochaine. Ne dis mot à personne. Comment vais-je faire pour protéger mes enfants, maintenant ? Ils n\\'ont pas l\\'air heureux de me voir. Tu veux être un barman toute ta vie ? J\\'ai demandé de l\\'aide à mon père. Les Bakers ont une ferme en amont de la rivière. Mon ami m\\'a aidé. Qu\\'as-tu fait de ta voiture\\u202f? C\\'est scandaleusement bon marché. Pourquoi as-tu menti ? Au fait, d\\'où es-tu\\u202f? Il s\\'est mis à chanter. Elle voulait vivre une vie plus reposante. La copie est différente de l\\'originale. Elle est amoureuse de lui. Je te ramènerai chez toi. C\\'est une poupée. Cette sorte de chat ne possède pas de queue. Vous devriez faire examiner vos yeux. S\\'agit-il d\\'un cancer ? Je l\\'ai appelé au téléphone. Pourriez-vous être plus précis\\u202f? Il se dirigea vers la porte et essaya de s\\'enfuir. Osaka est la deuxième plus grande ville du Japon. Cela vous dérange-t-il ? Le Premier Ministre désigne les membres de son cabinet. Tom ne va pas rester longtemps. Alors, pourquoi êtes-vous ici ? Ma mère pénétra dans ma chambre. Saisis un balai et aide-nous à nettoyer ! Ma mère me tuera. Cela ne sert à rien d\\'essayer de résoudre ce problème. Que vous êtes grande\\u202f! Tu es une romantique. Tu me mens toujours. Tom a peint la clôture. Tom dit à Mary de garder cela secret. Tout le monde sait que Tom aime Mary. Elle n\\'a pas voulu vendre le livre. Où avez-vous acheté ces cerises ? Je ne connais pas encore mon adresse, je vais habiter un temps chez mon ami. La procédure est-elle claire\\xa0? Vous êtes vraiment tête-en-l\\'air. J\\'ai tant manqué. Il prit une profonde inspiration. Comment se sent-on d\\'être toujours suivi par un entourage\\u202f? C\\'est suffisamment bon. Je fus désolée. Je pensais t\\'y trouver. L\\'Allemagne borde la France. Si tu te dépêches tu attraperas le bus. Les gens à travers tout le nord étaient en colère. Je n\\'arrive pas à faire en sorte que la porte ferme correctement. Cela ne vous tracasse-t-il jamais ? Ils déclarèrent qu\\'ils accepteraient la décision du comité pour définitive. Ne fais rien que je ne ferais. C\\'était un peu macabre. Il risque de faire froid cet hiver. En vérité, j\\'ai envie de discuter. Je vais leur faire réparer ma voiture. Personne ne vient plus me rendre visite. Êtes-vous prêts pour le match d\\'aujourd\\'hui\\xa0? Plus de trois mille personnes assistèrent au concert. Empoigne-s-en autant que tu en as besoin. Je pensais que vous voudriez le récupérer. J\\'aimerais te parler. Nous mourons de faim. Quelqu\\'un ici a-t-il un tire-bouchon ? Le vélo qui est là est à mon frère. Que faisiez-vous là? Tom a dû ravaler sa fierté et admettre qu\\'il avait besoin d\\'aide. Ne l\\'oubliez pas ! Parvenez-vous à lire ça ? Les éléphants sont les animaux terrestres les plus gros du monde. Si vous pouviez le faire pour moi, j\\'apprécierais. Elle passa tout l\\'après-midi à cuisiner. Je ne suis pas habitué à marcher sur de longues distances. Je n\\'arrive pas à croire que tu vas donner tout ton argent. Nous y assisterons. Hier, il a plu toute l\\'après-midi. L\\'avez-vous dit à qui que ce soit ? Tom a changé son alimentation. Je suis tellement fatigué que je ne peux plus marcher. Comment pensiez-vous qu\\'il en irait ? Il reste souvent assis, tard, à écrire des lettres. Elle a accompli ses devoirs. Ce sont tous des voleurs. Cet accident est survenu près de chez lui. Qu\\'aimez-vous le plus manger ? Pourquoi es-tu si dur avec toi-même\\xa0? L\\'eau était chaude. Mon oncle a une bonne connaissance du français. Je ne reste jamais où que ce soit assez longtemps pour me faire des amies. J\\'imagine que d\\'autres choses t\\'occupent. Je ne me sens pas malade. Dépêche-toi et tu attraperas l\\'autobus. Cet accident est un très bon exemple de ce qui arrive si on n\\'est pas prudent. Il n\\'y a rien de mieux qu\\'un bon roman. L\\'eau est rafraîchissante. Tom nous a demandé de lui acheter quelque chose à manger. Je l\\'ai vu traverser la route. Deux familles résident dans la maison. C\\'est comme ça que je le confectionnai. Il se déteste. Ça ne signifie pas que tu ne devrais pas être prudent. Notre équipe est en train de l\\'emporter. C\\'était pure coïncidence. Toi, tu as vraiment des tripes. Tom met-il du sucre dans son thé ? Tom ne semblait pas suspect. Nous n\\'avons jamais été à Boston. Ta mère est morte d\\'inquiétude à ton sujet. Laisse-moi te l\\'obtenir. Peux-tu nager sous l\\'eau\\u202f? Elle s\\'est plainte que la photo était trop suggestive. On dit que la maison est hantée. Je préfère lire plutôt que regarder la télévision. Si tu ne l\\'avais pas fait, quelqu\\'un d\\'autre l\\'aurait fait. J\\'étais malchanceux. Quelqu\\'un ne dit pas la vérité. Vous êtes un monstre. Ne me regardez pas comme ça. Quel est ton logiciel libre préféré ? As-tu peur de moi ? Je pense que tu regretteras de ne pas être venue avec nous. La batterie de mon portable flanche. Êtes-vous couvertes par une assurance médicale ? J\\'attrape souvent des rhumes en hiver. Même si Tom est occupé, il n\\'oublie jamais d\\'écrire un courriel à sa mère au moins une fois par semaine. Peut-être que mon petit-enfant sera la première personne à poser le pied sur Mars. Elle a fait l\\'acquisition d\\'une nouvelle maison l\\'autre jour. J\\'ai déjà bouclé mes valises. La cause de l\\'accident nous est inconnue. Elle peut avoir manqué son train. As-tu déjà embrassé une fille ? N\\'entends-tu pas ce que je suis en train de dire ? Tom attacha sa ceinture. Je sais qu\\'il tient sa parole. J\\'ai failli être renversé par un camion aujourd\\'hui. Je me demandais juste si tu as été capable de te trouver un endroit pour vivre. Tom ne comprend manifestement pas très bien le français. Je suis très impatiente. Il me faut terminer ce que j\\'ai entrepris. Lorsque j\\'ai ouvert la porte, je l\\'ai trouvé endormi. On se voit demain matin. Seriez-vous mariée, par hasard ? Tom est psychologue. X marque l\\'endroit. Elle a toujours été une actrice populaire. Les Étasuniens passent beaucoup de leur temps libre chez eux. J\\'ai perdu ma dignité. Je dois tirer le meilleur parti de cette petite pièce. Je suis diplômé d\\'Harvard. J\\'ai été plutôt dure avec Tom. Il se pourrait que je doive me faire retirer les amygdales. Peu m\\'importe s\\'il neige. C\\'est ton problème, pas le mien. Ils construisent un pont au-dessus de la rivière. Je vais vous en parler un jour. Tom a décidé d\\'acheter une voiture rouge. Tom a souligné les erreurs de Mary. Penses-tu toujours à candidater à Harvard\\xa0? Il est presque toujours chez lui. Arrête de me fixer des yeux ! Hier, il a écrit une lettre. Arrête de filmer. Diriez-vous qu\\'elles se correspondent ? J\\'ai toujours sommeil. Je croyais que vous aviez dit que vous alliez être en vacances. Tom aimerait être réincarné en femme. Au fait, quelle est votre adresse\\u202f? Je n\\'ai mangé que du pain et du beurre. Nous sommes devenues les meilleures amies du monde. C\\'est une boule de nerfs. Comment suis-je censée faire cela ? Cliquez ici pour davantage d\\'information. Je n\\'ai rien fait d\\'illégal. Je ne l\\'ai jamais vu auparavant. J\\'ai beaucoup de pièces dans cette boîte. La crise financière coûte leur emploi à de nombreuses personnes. Il a acheté un billet d\\'avion. J\\'ai fait cette chaise. Ses voisins se méfient de lui. L\\'as-tu rencontrée\\u202f? Nous faisons toutes partie de la même équipe. N\\'attendez aucune pitié de ma part. Je n\\'y ai jamais songé. Nous avons eu une discussion passionnée à propos de cela. Nous sommes bons amis. Ils portèrent l\\'eau dans des seaux. Ne comprends-tu pas ? Il ne s\\'agit pas de toi. Mon grand-père est nonagénaire. Laissez-nous faire notre boulot ! Je peux le tenter. Je suis désolé de ne pas vous avoir davantage soutenu lorsque vous en aviez besoin. Quand avez-vous rendu visite à vos amis ? J\\'ai acheté une écharpe à mon grand-père pour ses 88 ans. Elle n’est pas plus belle que sa mère. Tu m\\'as beaucoup manqué pendant que tu étais à Boston. Il semble que ces deux-là sont faits l\\'un pour l\\'autre. J\\'ai pensé que vous devriez lire ces documents. Je ne suis pas sûre que tout cela soit vrai. Cette fleur est jaune, mais toutes les autres sont bleues. Je ne comprends pas. L\\'argent n\\'est pas tout, mais si tu n\\'as pas d\\'argent, tu ne peux rien faire. Elle gagne plus qu\\'elle ne dépense. Je l\\'ai vendu pour dix dollars. C\\'est quelque chose que ma mère faisait. Nous ne devrions pas recourir à la violence. On ne saura jamais qui il est. Pourquoi voudriez-vous être enseignant ? Tom est mon nouveau meilleur ami. Les éléphants sont les plus gros animaux terrestres vivant actuellement. Tom est professeur, et moi aussi. Nous avons tous pleuré. Tu sembles en connaître beaucoup sur moi. Je pense qu\\'il est attiré par vous. L\\'homme alluma une cigarette avec un briquet. Rien n\\'est parfait. Tom nous enseigne le français. Nous nous précipitâmes à l\\'aéroport pour finalement manquer l\\'avion. Elle commença à faire ses devoirs immédiatement après dîner. Je ne peux plus être à votre charge. Puis-je aider avec le petit déjeuner ? Je rêve de toi toutes les nuits. À quelle heure atterrit ton avion\\xa0? Ne veux-tu pas de glace ? Quelle fut la première chanson que vous avez écrite ? J\\'aime le bleu. C\\'est un gaspillage de temps et d\\'argent. Est-ce que tu fumes ? Je n\\'ai aucune force de volonté lorsqu\\'il s\\'agit de faire de l\\'exercice. Je n\\'ai pas vu grand chose. Quel livre Harry Potter est ton préféré\\xa0? Demandons à un voyagiste. Je me tire. Bats-toi comme un homme. Quel est le meilleur livre que tu aies jamais lu\\u202f? J\\'ai essayé de faire un petit peu d\\'exercice tous les jours. J\\'aime jouer au football. Vous êtes très perspicace. Je prends parfois une douche le matin. Voici une lettre pour toi. Ça n\\'est pas la bonne taille. Comment pouvez-vous être si sûrs de cela ? Comment as-tu dit que tu t\\'appelais ? Le problème reste à résoudre. Je suis vraiment désolé. Tom n\\'a pas repris connaissance. Elle m\\'a donné un superbe cadeau. Je n\\'avais jamais pensé que je voudrais faire l\\'acquisition d\\'un iPad. Ils te veulent mort. Tu vas rire. Je veux juste prendre du bon temps. Elle lui a montré la photo. Ils s\\'armèrent de fusils. Il réussira sans coup férir. Êtes-vous sûres que vous allez bien\\xa0? J\\'en ai assez de me disputer. Je travaille sur mon site web. En prenant tous les facteurs en considération, j\\'ai décidé d\\'abandonner cette idée. Regarde ce que j\\'ai fait pour Tom. Il a mis un pantalon propre. J\\'aime regarder Tom danser. Ce ne doit pas être un homme honnête. Je ne peux pas croire que je suis ici. Quelle marque de nourriture pour chien donnes-tu à manger à ton chien ? Il a fait preuve de courage face à un grand danger. Je te prie de la manipuler avec le plus grand soin. Ils sont satisfaits de la nouvelle maison. Je déteste ce genre de réponses. Elle est capable de patiner. Tu la trouves attirante\\u202f? Ce sont les miens. Ils viennent de partir. Vous êtes très direct. On parle l\\'anglais dans de nombreux pays. Votre voiture a un feu arrière de cassé. Tom a-t\\'il toujours été gras ? Qu\\'est-ce qui rend celle-ci spéciale ? Un jour, il y avait ici une église. La récolte de pêches de l\\'année dernière était abondante. La moitié d\\'entre elles sont étudiantes. Que t\\'a-t-elle fait ? C\\'était assez effrayant. La sécurité de l\\'emploi est devenue un souci majeur. Tu ne sais pas ce que c\\'est, n\\'est-ce pas\\xa0? Tom sait parler français mais pas Mary. Tout l\\'argent réuni ne suffira pas. Tom m\\'a dit qu\\'il se sentait seul. Nous ne devrions pas demander pourquoi. Je crois qu\\'il est assez intelligent pour le comprendre. Quitte notre maison ! Demain, c\\'est mon anniversaire. Tom a conduit sa voiture jusqu\\'à Boston. J\\'aimerais pouvoir vous expliquer comme c\\'est important pour moi. J\\'étais vraiment inquiet pour vous. Tu n\\'es pas autorisée à te garer ici. Mettons un terme à cette discussion. Tu peux toujours changer d\\'avis. Vous n\\'êtes pas forcés de présenter vos excuses. Pourquoi es-tu aussi secret ? J\\'ai compris ce que vous vouliez dire. Je n\\'ai jamais été capable de prendre en main des responsabilités. Tom n\\'a jamais vraiment fait confiance à Mary. Je prenais alors mon dîner. Elle parla impoliment. Est-ce une urgence\\xa0? Je pense que tu dois être fatiguée. Soyez réaliste, voulez-vous ? La famille de Tom est à Boston. Je suis un adulte mature. Ce livre-ci est bien plus utile que celui-là. Tom sera ici ce soir. Cela c\\'était avant et ceci, maintenant. Nous ne méritons pas tout ceci. Ne soyez plus jamais autant en retard. As-tu déjà vu ceci ? Combien pour une livre\\u202f? Je ne crois pas au karma. Tom t\\'a peut-être dupé, mais il ne me dupera pas. Je pense que tu connaissais mon père. Merci ! Je veux aller dehors. Elles nous ont vus alors qu\\'elles étaient en train de descendre du train. Il y a un problème avec ça. Ne me dis pas ce que je dois faire. J\\'ai une bien meilleure idée. Je ne suis personne de particulier. J\\'étais si pressé que j\\'ai oublié de fermer la porte à clé. Je ne fais rien de différent. Je pense que Tom et Mary ont raison. Lance-le à Tom. Je m\\'y suis rendu en bus et en train. J\\'en ai assez de jouer. Lâche l\\'arme ! J\\'espérais que tu pourrais aider. Ont-ils connaissance de notre existence ? Reste hors de ma vue ! Ce que tu as dit n\\'a pour moi ni queue ni tête. En as-tu bientôt fini ? Vous devez plaisanter ! Tom fut étranglé. Mon pays a besoin de moi. Qu\\'apprends-tu à l\\'école\\u202f? Je doute que Tom aie vraiment besoin de faire ça. Il ne travaille plus ici. Un peu d\\'eau, s\\'il te plaît. L\\'as-tu emporté ? Il me faut davantage de pouvoir. Il voudrait participer à la compétition. J\\'espère qu\\'il se porte bien. Tom a dit que Mary lui avait dit cela. Il semble qu’ils soient amoureux l’un de l’autre. Moi non plus, je n\\'aime pas ça. Ça n\\'a pas exactement été une partie de plaisir. C\\'est suffisamment précis. Les mots me font défaut. Je suis tellement fière de vous. Rien ne se produit par hasard. Je vais tenter ma chance avec toi. Ils s\\'arrangent pour s\\'en tirer avec peu d\\'argent. Je ne veux aucun de ceux-ci, un point c\\'est tout. Je ne me souviens de rien. Je sais quelque chose que vous ne savez pas. Pourquoi n\\'avez-vous pas appelé quelqu\\'un ? Je ne pense pas pouvoir le faire. J\\'ai flippé et me suis mis à crier. Le son de la radio est un peu fort. Est-ce que je peux réserver un vol pour Chicago\\u202f? Le nouveau modèle sera vendu au détail à 30.000 yens. J\\'ai pris parti pour eux dans la discussion. Êtes-vous dotés de pouvoirs psychiques ? Où sont les toilettes les plus proches\\u202f? Je savais que ce jour allait advenir. J\\'espérais élever mes enfants à Boston. Le pont fait approximativement un mile de long. Veux-tu que je le réexplique\\u202f? Il courut aussi vite que ses jambes purent le porter. Nous en avons terminé. Je vais avoir besoin de plus de temps. En quoi pensez-vous que ceci soit fait ? Si j\\'avais eu plus de temps, je t\\'aurais écrit. Nous avons déjà choisi. Je l\\'ai vu traverser la rue. Y aviez-vous songé ? Il a accompli sa tâche sans entrain. Cela devrait être possible. Êtes-vous encore contrariées à propos de ce qui a eu lieu ? Il ne visitera plus jamais la ville. Tom sait que c\\'est vrai. Ne vous ai-je pas dit de ne plus faire cela\\xa0? Nous nous dirigeons à l\\'ouest. Qu\\'a-t-elle acheté à ce magasin ? Je vais avoir besoin de quelqu\\'un pour m\\'aider. Aide-moi à sortir d\\'ici\\u2009! Tom était bien rasé. Lis ton livre ! Voyez-vous un inconvénient à ce que j\\'éteigne le téléviseur ? L\\'eau est plus lourde que l\\'huile. Je suis attentif. Vous êtes vraiment géniaux. Le travail est loin d\\'être terminé. Il a bonne réputation comme homme d\\'affaire. Où est tout le monde ? À quelle heure ton ami est-il rentré chez lui ? Je ne suis plus jeune, mais je peux encore mordre. Il a augmenté son épargne. Je ne mérite pas d\\'être aussi heureux. Il est très prudent. Je n\\'ai pas envie de jouer au golf. Quelques personnes rient de ses plaisanteries, mais d\\'autres ne le font pas. Vous êtes encore jeune. C\\'est un professeur de notre école. Je n\\'attends rien de vous. J\\'ai vu Tom et Marie en train de se parler, ce matin. Tu es une puritaine. Nous parvînmes finalement au lac. Que se passe-t-il à l\\'heure actuelle en Pologne ? Je ne peux pas sortir parce que j\\'ai des devoirs. L\\'alphabet anglais compte 26 lettres. Ça ne prendra pas si longtemps. Tu ne m\\'as toujours pas dit quand tu termines ton travail. Vous avez déjà été là-bas, n\\'est-ce pas ? Ce qui est facilement gagné est facilement perdu. C\\'est une bonne école. Faites-le à nouveau\\u202f! Que ferez-vous lorsque vous deviendrez grands ? Moi j\\'ai besoin de savoir. J\\'ai fait rire Tom aujourd\\'hui. Ne me mens pas. Elle arriva à l\\'hôtel tard dans la nuit. Juste au moment où j\\'étais sur le point de sortir, il se mit à pleuvoir. Elle a abandonné ses enfants. Sortiriez-vous jamais avec un gars qui ne saurait pas chanter ? Pourquoi désirez-vous ce travail\\xa0? Pourrions-nous avoir une bouteille de votre meilleur champagne ? Les portes de l\\'avion étaient déjà fermées quand Tom arriva à l\\'embarquement. Votre chien est très gros. Je ne l\\'apprécie plus. Je n\\'ai pas dit que je n\\'étais pas libre. Je n\\'ai pu m\\'empêcher de rigoler. Je suis venu ici pour vous sauver. Elle ne pourrait pas le convaincre de solliciter un prêt. Quel âge aviez-vous quand votre famille a déménagé à Boston ? Donnez en tout le meilleur de vous. Il m\\'a été facile de faire cela. Tu dois trouver une autre issue à cette situation. Je regrette d\\'avoir fait ça. Quel est le prix de ce chapeau ? Comment te fais-je partir ? J\\'acquiesce à votre proposition. J\\'aimerais un cocktail de crevettes. Ils font ça parfois. Êtes-vous sûres de n\\'avoir rien oublié ? Ne reconnais-tu pas cet homme\\xa0? Y-a-il quelque chose que nous pouvons faire pour aider ? Vous l\\'avez trouvée. Il expliqua à mon fils pourquoi il pleut. Mangez une grenouille vivante chaque matin, et rien de pire ne vous arrivera le reste de la journée. J\\'aurais dû le prendre plus au sérieux. Où puis-je en acheter un ? Il est jardinier. Ne faites pas attention à lui. Quel est ton parolier préféré ? Je sais que tu veux l\\'aider. Il y a une ligne blanche au milieu de la route. C\\'est la chose la plus importante au monde. Je veux savoir qui t\\'a donné ça. J\\'ai de meilleures choses à faire. Vous aviez raison, vous savez. Parle-moi un peu de toi. Ils se tenaient les mains. Ma mère nous fait du thé. Je pense que nous pouvons faire cela. Il y a beaucoup d\\'endroits à voir dans les alentours. Je ne suis pas un robot. « Qu\\'es-tu en train d\\'essayer de cacher ? » « Rien. » Il éprouve des difficultés à se souvenir des noms. Je ne suis pas sorti dimanche dernier. Changeons cela. Je ne mange d\\'habitude pas dans des endroits tels que celui-ci. Il sera bientôt père. Je ne pense pas que ton plan va marcher. Tom parla français. Le cours des actions a plongé vers un record à la baisse. J\\'ai presque obtenu un score parfait. Pouvons-nous fermer la porte\\xa0? Je suis en assez bonne forme. Plus je l\\'écoute, moins je l\\'aime. Chacun a tiré ses propres conclusions. Ne deviens pas gras. Tu n\\'es pas obligé d\\'être sarcastique. Je ne peux pas me permettre d\\'acheter une nouvelle voiture. Cette boîte est faite de carton. Je m\\'en suis fait des amis à la fête de l\\'école. Paie ce que tu veux. Le Canada est vraiment grand et il y a beaucoup de monde. Il nous reste trois jours. Vous souvenez-vous de ce que vous avez fait vendredi dernier ? Je ne pouvais vous dire pourquoi. Ai-je omis quoi que ce soit ? Il adoptait une attitude agressive à mon égard. L\\'hiver est au coin du bois. Faisons une pause de dix minutes. Resserre cette vis ! Je ne suis pas d\\'humeur à manger des sushi. Nous avons posé un piège pour capturer un renard. Je me suis habituée à parler en public. Je ne te fais pas confiance. Je veux simplement oublier ça. Les filles ne sont pas bienvenues. Que dis-tu que nous allions chez moi ? Cela devrait être suffisant pour toi. Allez, essaie encore. Veux-tu de la tarte aux cerises\\u202f? Je sais que tu ne voulais pas vraiment te joindre à ce voyage. Tu n\\'aurais pas dû dire ça. Je vais en Europe la semaine prochaine. Ils le traitèrent de lâche. Il y avait aussi une autre raison. Étudies-tu chaque jour\\u202f? Les règles sont très claires. Je n\\'ai jamais vu cet homme de ma vie. Répondez-moi. Ta chance est épuisée. Ils espéraient vendre les actions à des prix encore plus élevés. Ça va me coûter combien\\u202f? Rien ne pourra m\\'obliger à abandonner. Prenez un bus. Nul ne peut prévoir ce qui va arriver. Si je me rendais à l\\'étranger, j\\'irais en France. J\\'ai amené du renfort. Je sais comment régler ça. Ils pourraient peut-être être plus grands que vous. L\\'administration prend des décisions importantes. Je me suis mise à pleurer. Tu ne sais même pas qui ils sont. Je veux juste me reposer. Mes étudiants ont attendu avidement les résultats de l\\'épreuve. Lorsque mon père le découvrira, il ne sera pas content. Tom avait l\\'air un peu déçu. Ils ont des otages. Nous sommes à bord du mauvais train. Ils ne surent s\\'accorder sur quoi que ce fut. A quelle heure tu vas devoir te coucher ? Ça m\\'a coûté beaucoup d\\'argent de construire une nouvelle maison. Il fut paralysé. Il a failli se noyer. Tom ressemble à un comptable. Nous nageâmes dans la mer. Y-a-t\\'il quelqu\\'un d\\'autre? Personne ne savait à quel point Tom aimait Mary. Tom ne devrait pas se moquer de Mary.'"
            ]
          },
          "execution_count": 15,
          "metadata": {},
          "output_type": "execute_result"
        }
      ],
      "source": [
        "fr_corpus"
      ]
    },
    {
      "cell_type": "code",
      "execution_count": null,
      "metadata": {
        "id": "08iKk3lGs70F"
      },
      "outputs": [],
      "source": [
        "# Chargement des deux carpus dans spacy\n",
        "# %%%time\n",
        "import time\n",
        "nlp_fr.max_length = len(fr_corpus)\n",
        "nlp_en.max_length = len(en_corpus)\n",
        "\n",
        "fr_doc = nlp_fr(fr_corpus)\n",
        "en_doc = nlp_en(en_corpus)"
      ]
    },
    {
      "cell_type": "code",
      "execution_count": null,
      "metadata": {
        "colab": {
          "base_uri": "https://localhost:8080/",
          "height": 345
        },
        "id": "Y_OApcQ3s84f",
        "outputId": "18c504f6-e9e3-459c-a148-0cb8d9e34a26"
      },
      "outputs": [
        {
          "data": {
            "application/vnd.google.colaboratory.intrinsic+json": {
              "summary": "{\n  \"name\": \"doc\",\n  \"rows\": 5,\n  \"fields\": [\n    {\n      \"column\": 0,\n      \"properties\": {\n        \"dtype\": \"string\",\n        \"num_unique_values\": 5,\n        \"samples\": [\n          \"We swam in the sea.\",\n          \"Tom shouldn't make fun of Mary.\",\n          \"Is there someone else?\"\n        ],\n        \"semantic_type\": \"\",\n        \"description\": \"\"\n      }\n    },\n    {\n      \"column\": 1,\n      \"properties\": {\n        \"dtype\": \"string\",\n        \"num_unique_values\": 5,\n        \"samples\": [\n          \"Nous nage\\u00e2mes dans la mer.\",\n          \"Tom ne devrait pas se moquer de Mary.\",\n          \"Y-a-t'il quelqu'un d'autre?\"\n        ],\n        \"semantic_type\": \"\",\n        \"description\": \"\"\n      }\n    },\n    {\n      \"column\": \"fr_tokens\",\n      \"properties\": {\n        \"dtype\": \"string\",\n        \"num_unique_values\": 5,\n        \"samples\": [\n          \"Nous nage\\u00e2mes dans la mer.\",\n          \"Tom ne devrait pas se moquer de Mary.\",\n          \"Y-a-t'il quelqu'un d'autre?\"\n        ],\n        \"semantic_type\": \"\",\n        \"description\": \"\"\n      }\n    },\n    {\n      \"column\": \"en_tokens\",\n      \"properties\": {\n        \"dtype\": \"string\",\n        \"num_unique_values\": 5,\n        \"samples\": [\n          \"We swam in the sea.\",\n          \"Tom shouldn't make fun of Mary.\",\n          \"Is there someone else?\"\n        ],\n        \"semantic_type\": \"\",\n        \"description\": \"\"\n      }\n    }\n  ]\n}",
              "type": "dataframe"
            },
            "text/html": [
              "\n",
              "  <div id=\"df-34ac8926-aea4-476f-8e8c-110d6e103272\" class=\"colab-df-container\">\n",
              "    <div>\n",
              "<style scoped>\n",
              "    .dataframe tbody tr th:only-of-type {\n",
              "        vertical-align: middle;\n",
              "    }\n",
              "\n",
              "    .dataframe tbody tr th {\n",
              "        vertical-align: top;\n",
              "    }\n",
              "\n",
              "    .dataframe thead th {\n",
              "        text-align: right;\n",
              "    }\n",
              "</style>\n",
              "<table border=\"1\" class=\"dataframe\">\n",
              "  <thead>\n",
              "    <tr style=\"text-align: right;\">\n",
              "      <th></th>\n",
              "      <th>0</th>\n",
              "      <th>1</th>\n",
              "      <th>fr_tokens</th>\n",
              "      <th>en_tokens</th>\n",
              "    </tr>\n",
              "  </thead>\n",
              "  <tbody>\n",
              "    <tr>\n",
              "      <th>85025</th>\n",
              "      <td>Tom looks like an accountant.</td>\n",
              "      <td>Tom ressemble à un comptable.</td>\n",
              "      <td>(Tom, ressemble, à, un, comptable, .)</td>\n",
              "      <td>(Tom, looks, like, an, accountant, .)</td>\n",
              "    </tr>\n",
              "    <tr>\n",
              "      <th>25026</th>\n",
              "      <td>We swam in the sea.</td>\n",
              "      <td>Nous nageâmes dans la mer.</td>\n",
              "      <td>(Nous, nageâmes, dans, la, mer, .)</td>\n",
              "      <td>(We, swam, in, the, sea, .)</td>\n",
              "    </tr>\n",
              "    <tr>\n",
              "      <th>39849</th>\n",
              "      <td>Is there someone else?</td>\n",
              "      <td>Y-a-t'il quelqu'un d'autre?</td>\n",
              "      <td>(Y, -, a, -, t', il, quelqu', un, d', autre, ?)</td>\n",
              "      <td>(Is, there, someone, else, ?)</td>\n",
              "    </tr>\n",
              "    <tr>\n",
              "      <th>118918</th>\n",
              "      <td>No one knew how much Tom loved Mary.</td>\n",
              "      <td>Personne ne savait à quel point Tom aimait Mary.</td>\n",
              "      <td>(Personne, ne, savait, à, quel, point, Tom, ai...</td>\n",
              "      <td>(No, one, knew, how, much, Tom, loved, Mary, .)</td>\n",
              "    </tr>\n",
              "    <tr>\n",
              "      <th>96759</th>\n",
              "      <td>Tom shouldn't make fun of Mary.</td>\n",
              "      <td>Tom ne devrait pas se moquer de Mary.</td>\n",
              "      <td>(Tom, ne, devrait, pas, se, moquer, de, Mary, .)</td>\n",
              "      <td>(Tom, should, n't, make, fun, of, Mary, .)</td>\n",
              "    </tr>\n",
              "  </tbody>\n",
              "</table>\n",
              "</div>\n",
              "    <div class=\"colab-df-buttons\">\n",
              "\n",
              "  <div class=\"colab-df-container\">\n",
              "    <button class=\"colab-df-convert\" onclick=\"convertToInteractive('df-34ac8926-aea4-476f-8e8c-110d6e103272')\"\n",
              "            title=\"Convert this dataframe to an interactive table.\"\n",
              "            style=\"display:none;\">\n",
              "\n",
              "  <svg xmlns=\"http://www.w3.org/2000/svg\" height=\"24px\" viewBox=\"0 -960 960 960\">\n",
              "    <path d=\"M120-120v-720h720v720H120Zm60-500h600v-160H180v160Zm220 220h160v-160H400v160Zm0 220h160v-160H400v160ZM180-400h160v-160H180v160Zm440 0h160v-160H620v160ZM180-180h160v-160H180v160Zm440 0h160v-160H620v160Z\"/>\n",
              "  </svg>\n",
              "    </button>\n",
              "\n",
              "  <style>\n",
              "    .colab-df-container {\n",
              "      display:flex;\n",
              "      gap: 12px;\n",
              "    }\n",
              "\n",
              "    .colab-df-convert {\n",
              "      background-color: #E8F0FE;\n",
              "      border: none;\n",
              "      border-radius: 50%;\n",
              "      cursor: pointer;\n",
              "      display: none;\n",
              "      fill: #1967D2;\n",
              "      height: 32px;\n",
              "      padding: 0 0 0 0;\n",
              "      width: 32px;\n",
              "    }\n",
              "\n",
              "    .colab-df-convert:hover {\n",
              "      background-color: #E2EBFA;\n",
              "      box-shadow: 0px 1px 2px rgba(60, 64, 67, 0.3), 0px 1px 3px 1px rgba(60, 64, 67, 0.15);\n",
              "      fill: #174EA6;\n",
              "    }\n",
              "\n",
              "    .colab-df-buttons div {\n",
              "      margin-bottom: 4px;\n",
              "    }\n",
              "\n",
              "    [theme=dark] .colab-df-convert {\n",
              "      background-color: #3B4455;\n",
              "      fill: #D2E3FC;\n",
              "    }\n",
              "\n",
              "    [theme=dark] .colab-df-convert:hover {\n",
              "      background-color: #434B5C;\n",
              "      box-shadow: 0px 1px 3px 1px rgba(0, 0, 0, 0.15);\n",
              "      filter: drop-shadow(0px 1px 2px rgba(0, 0, 0, 0.3));\n",
              "      fill: #FFFFFF;\n",
              "    }\n",
              "  </style>\n",
              "\n",
              "    <script>\n",
              "      const buttonEl =\n",
              "        document.querySelector('#df-34ac8926-aea4-476f-8e8c-110d6e103272 button.colab-df-convert');\n",
              "      buttonEl.style.display =\n",
              "        google.colab.kernel.accessAllowed ? 'block' : 'none';\n",
              "\n",
              "      async function convertToInteractive(key) {\n",
              "        const element = document.querySelector('#df-34ac8926-aea4-476f-8e8c-110d6e103272');\n",
              "        const dataTable =\n",
              "          await google.colab.kernel.invokeFunction('convertToInteractive',\n",
              "                                                    [key], {});\n",
              "        if (!dataTable) return;\n",
              "\n",
              "        const docLinkHtml = 'Like what you see? Visit the ' +\n",
              "          '<a target=\"_blank\" href=https://colab.research.google.com/notebooks/data_table.ipynb>data table notebook</a>'\n",
              "          + ' to learn more about interactive tables.';\n",
              "        element.innerHTML = '';\n",
              "        dataTable['output_type'] = 'display_data';\n",
              "        await google.colab.output.renderOutput(dataTable, element);\n",
              "        const docLink = document.createElement('div');\n",
              "        docLink.innerHTML = docLinkHtml;\n",
              "        element.appendChild(docLink);\n",
              "      }\n",
              "    </script>\n",
              "  </div>\n",
              "\n",
              "\n",
              "<div id=\"df-8727957c-0c2c-49e0-9288-854c4f14efe3\">\n",
              "  <button class=\"colab-df-quickchart\" onclick=\"quickchart('df-8727957c-0c2c-49e0-9288-854c4f14efe3')\"\n",
              "            title=\"Suggest charts\"\n",
              "            style=\"display:none;\">\n",
              "\n",
              "<svg xmlns=\"http://www.w3.org/2000/svg\" height=\"24px\"viewBox=\"0 0 24 24\"\n",
              "     width=\"24px\">\n",
              "    <g>\n",
              "        <path d=\"M19 3H5c-1.1 0-2 .9-2 2v14c0 1.1.9 2 2 2h14c1.1 0 2-.9 2-2V5c0-1.1-.9-2-2-2zM9 17H7v-7h2v7zm4 0h-2V7h2v10zm4 0h-2v-4h2v4z\"/>\n",
              "    </g>\n",
              "</svg>\n",
              "  </button>\n",
              "\n",
              "<style>\n",
              "  .colab-df-quickchart {\n",
              "      --bg-color: #E8F0FE;\n",
              "      --fill-color: #1967D2;\n",
              "      --hover-bg-color: #E2EBFA;\n",
              "      --hover-fill-color: #174EA6;\n",
              "      --disabled-fill-color: #AAA;\n",
              "      --disabled-bg-color: #DDD;\n",
              "  }\n",
              "\n",
              "  [theme=dark] .colab-df-quickchart {\n",
              "      --bg-color: #3B4455;\n",
              "      --fill-color: #D2E3FC;\n",
              "      --hover-bg-color: #434B5C;\n",
              "      --hover-fill-color: #FFFFFF;\n",
              "      --disabled-bg-color: #3B4455;\n",
              "      --disabled-fill-color: #666;\n",
              "  }\n",
              "\n",
              "  .colab-df-quickchart {\n",
              "    background-color: var(--bg-color);\n",
              "    border: none;\n",
              "    border-radius: 50%;\n",
              "    cursor: pointer;\n",
              "    display: none;\n",
              "    fill: var(--fill-color);\n",
              "    height: 32px;\n",
              "    padding: 0;\n",
              "    width: 32px;\n",
              "  }\n",
              "\n",
              "  .colab-df-quickchart:hover {\n",
              "    background-color: var(--hover-bg-color);\n",
              "    box-shadow: 0 1px 2px rgba(60, 64, 67, 0.3), 0 1px 3px 1px rgba(60, 64, 67, 0.15);\n",
              "    fill: var(--button-hover-fill-color);\n",
              "  }\n",
              "\n",
              "  .colab-df-quickchart-complete:disabled,\n",
              "  .colab-df-quickchart-complete:disabled:hover {\n",
              "    background-color: var(--disabled-bg-color);\n",
              "    fill: var(--disabled-fill-color);\n",
              "    box-shadow: none;\n",
              "  }\n",
              "\n",
              "  .colab-df-spinner {\n",
              "    border: 2px solid var(--fill-color);\n",
              "    border-color: transparent;\n",
              "    border-bottom-color: var(--fill-color);\n",
              "    animation:\n",
              "      spin 1s steps(1) infinite;\n",
              "  }\n",
              "\n",
              "  @keyframes spin {\n",
              "    0% {\n",
              "      border-color: transparent;\n",
              "      border-bottom-color: var(--fill-color);\n",
              "      border-left-color: var(--fill-color);\n",
              "    }\n",
              "    20% {\n",
              "      border-color: transparent;\n",
              "      border-left-color: var(--fill-color);\n",
              "      border-top-color: var(--fill-color);\n",
              "    }\n",
              "    30% {\n",
              "      border-color: transparent;\n",
              "      border-left-color: var(--fill-color);\n",
              "      border-top-color: var(--fill-color);\n",
              "      border-right-color: var(--fill-color);\n",
              "    }\n",
              "    40% {\n",
              "      border-color: transparent;\n",
              "      border-right-color: var(--fill-color);\n",
              "      border-top-color: var(--fill-color);\n",
              "    }\n",
              "    60% {\n",
              "      border-color: transparent;\n",
              "      border-right-color: var(--fill-color);\n",
              "    }\n",
              "    80% {\n",
              "      border-color: transparent;\n",
              "      border-right-color: var(--fill-color);\n",
              "      border-bottom-color: var(--fill-color);\n",
              "    }\n",
              "    90% {\n",
              "      border-color: transparent;\n",
              "      border-bottom-color: var(--fill-color);\n",
              "    }\n",
              "  }\n",
              "</style>\n",
              "\n",
              "  <script>\n",
              "    async function quickchart(key) {\n",
              "      const quickchartButtonEl =\n",
              "        document.querySelector('#' + key + ' button');\n",
              "      quickchartButtonEl.disabled = true;  // To prevent multiple clicks.\n",
              "      quickchartButtonEl.classList.add('colab-df-spinner');\n",
              "      try {\n",
              "        const charts = await google.colab.kernel.invokeFunction(\n",
              "            'suggestCharts', [key], {});\n",
              "      } catch (error) {\n",
              "        console.error('Error during call to suggestCharts:', error);\n",
              "      }\n",
              "      quickchartButtonEl.classList.remove('colab-df-spinner');\n",
              "      quickchartButtonEl.classList.add('colab-df-quickchart-complete');\n",
              "    }\n",
              "    (() => {\n",
              "      let quickchartButtonEl =\n",
              "        document.querySelector('#df-8727957c-0c2c-49e0-9288-854c4f14efe3 button');\n",
              "      quickchartButtonEl.style.display =\n",
              "        google.colab.kernel.accessAllowed ? 'block' : 'none';\n",
              "    })();\n",
              "  </script>\n",
              "</div>\n",
              "    </div>\n",
              "  </div>\n"
            ],
            "text/plain": [
              "                                           0  \\\n",
              "85025          Tom looks like an accountant.   \n",
              "25026                    We swam in the sea.   \n",
              "39849                 Is there someone else?   \n",
              "118918  No one knew how much Tom loved Mary.   \n",
              "96759        Tom shouldn't make fun of Mary.   \n",
              "\n",
              "                                                       1  \\\n",
              "85025                      Tom ressemble à un comptable.   \n",
              "25026                         Nous nageâmes dans la mer.   \n",
              "39849                        Y-a-t'il quelqu'un d'autre?   \n",
              "118918  Personne ne savait à quel point Tom aimait Mary.   \n",
              "96759              Tom ne devrait pas se moquer de Mary.   \n",
              "\n",
              "                                                fr_tokens  \\\n",
              "85025               (Tom, ressemble, à, un, comptable, .)   \n",
              "25026                  (Nous, nageâmes, dans, la, mer, .)   \n",
              "39849     (Y, -, a, -, t', il, quelqu', un, d', autre, ?)   \n",
              "118918  (Personne, ne, savait, à, quel, point, Tom, ai...   \n",
              "96759    (Tom, ne, devrait, pas, se, moquer, de, Mary, .)   \n",
              "\n",
              "                                              en_tokens  \n",
              "85025             (Tom, looks, like, an, accountant, .)  \n",
              "25026                       (We, swam, in, the, sea, .)  \n",
              "39849                     (Is, there, someone, else, ?)  \n",
              "118918  (No, one, knew, how, much, Tom, loved, Mary, .)  \n",
              "96759        (Tom, should, n't, make, fun, of, Mary, .)  "
            ]
          },
          "execution_count": 17,
          "metadata": {},
          "output_type": "execute_result"
        }
      ],
      "source": [
        "# Tokenisation de chacune des phrases vai spacy\n",
        "# %%time\n",
        "doc[\"fr_tokens\"] = doc.iloc[:,1].apply(lambda x: nlp_fr.tokenizer(x))\n",
        "doc[\"en_tokens\"] = doc.iloc[:,0].apply(lambda x: nlp_en.tokenizer(x))\n",
        "\n",
        "doc.tail()"
      ]
    },
    {
      "cell_type": "code",
      "execution_count": null,
      "metadata": {
        "colab": {
          "base_uri": "https://localhost:8080/"
        },
        "id": "wBn4os9btB_f",
        "outputId": "7a70b6c7-264a-4b04-f26e-2646baa91783"
      },
      "outputs": [
        {
          "data": {
            "text/plain": [
              "3551"
            ]
          },
          "execution_count": 18,
          "metadata": {},
          "output_type": "execute_result"
        }
      ],
      "source": [
        "# Creation d'un set() qui va prendre tous les tokens de votre corpus\n",
        "en_tokens = [token.text for token in en_doc]\n",
        "en_vocabulary_set = set(en_tokens) #retirer tous les doublons\n",
        "en_vocab_size = len(en_vocabulary_set)\n",
        "en_vocab_size"
      ]
    },
    {
      "cell_type": "code",
      "execution_count": null,
      "metadata": {
        "colab": {
          "base_uri": "https://localhost:8080/"
        },
        "id": "YxBDFfQgtFiH",
        "outputId": "aee5e6ca-aab9-4e2c-9a90-a6a6a9fb2f04"
      },
      "outputs": [
        {
          "data": {
            "text/plain": [
              "4864"
            ]
          },
          "execution_count": 19,
          "metadata": {},
          "output_type": "execute_result"
        }
      ],
      "source": [
        "# Meme chose pour le francais\n",
        "fr_tokens = [token.text for token in fr_doc]\n",
        "fr_vocabulary_set = set(fr_tokens) # retirer les doublons\n",
        "fr_vocab_size = len(fr_vocabulary_set)\n",
        "fr_vocab_size"
      ]
    },
    {
      "cell_type": "code",
      "execution_count": null,
      "metadata": {
        "id": "watwt2LytI2o"
      },
      "outputs": [],
      "source": [
        "# Creation d'un id pour chacun des tokens\n",
        "all_en_tokens = {}\n",
        "for i , en_token in enumerate(en_vocabulary_set):\n",
        "  all_en_tokens[en_token]= i+1 # On prend a i+1 pour laisser la valeur\n",
        "\n",
        "all_fr_tokens ={}\n",
        "for i, fr_token in enumerate(fr_vocabulary_set):\n",
        "  all_fr_tokens[fr_token]=i+1"
      ]
    },
    {
      "cell_type": "code",
      "execution_count": null,
      "metadata": {
        "id": "g2MRstPTtMRs"
      },
      "outputs": [],
      "source": [
        "# Creation des fonctions qui vont creer un vecteur d'indices pour chacune\n",
        "def en_tokens_to_index(tokens):\n",
        "  indices = []\n",
        "  for token in tokens:\n",
        "    indices.append(all_en_tokens[token.text])\n",
        "\n",
        "  return indices\n",
        "\n",
        "def fr_tokens_to_index(tokens):\n",
        "  indices=[]\n",
        "  for token in tokens:\n",
        "    indices.append(all_fr_tokens[token.text])\n",
        "\n",
        "  return indices"
      ]
    },
    {
      "cell_type": "code",
      "execution_count": null,
      "metadata": {
        "id": "pY4nssHStPty"
      },
      "outputs": [],
      "source": [
        "# Transformation des tokens en indices\n",
        "doc[\"fr_indices\"] = doc[\"fr_tokens\"].apply(lambda x: fr_tokens_to_index(x))\n",
        "doc[\"en_indices\"] = doc[\"en_tokens\"].apply(lambda x: en_tokens_to_index(x))"
      ]
    },
    {
      "cell_type": "code",
      "execution_count": null,
      "metadata": {
        "colab": {
          "base_uri": "https://localhost:8080/",
          "height": 501
        },
        "id": "h8leBEBotTDJ",
        "outputId": "da65c9a2-cc76-4db2-89ff-0dd9c9418dcc"
      },
      "outputs": [
        {
          "data": {
            "application/vnd.google.colaboratory.intrinsic+json": {
              "summary": "{\n  \"name\": \"doc\",\n  \"rows\": 5,\n  \"fields\": [\n    {\n      \"column\": 0,\n      \"properties\": {\n        \"dtype\": \"string\",\n        \"num_unique_values\": 5,\n        \"samples\": [\n          \"We swam in the sea.\",\n          \"Tom shouldn't make fun of Mary.\",\n          \"Is there someone else?\"\n        ],\n        \"semantic_type\": \"\",\n        \"description\": \"\"\n      }\n    },\n    {\n      \"column\": 1,\n      \"properties\": {\n        \"dtype\": \"string\",\n        \"num_unique_values\": 5,\n        \"samples\": [\n          \"Nous nage\\u00e2mes dans la mer.\",\n          \"Tom ne devrait pas se moquer de Mary.\",\n          \"Y-a-t'il quelqu'un d'autre?\"\n        ],\n        \"semantic_type\": \"\",\n        \"description\": \"\"\n      }\n    },\n    {\n      \"column\": \"fr_tokens\",\n      \"properties\": {\n        \"dtype\": \"string\",\n        \"num_unique_values\": 5,\n        \"samples\": [\n          \"Nous nage\\u00e2mes dans la mer.\",\n          \"Tom ne devrait pas se moquer de Mary.\",\n          \"Y-a-t'il quelqu'un d'autre?\"\n        ],\n        \"semantic_type\": \"\",\n        \"description\": \"\"\n      }\n    },\n    {\n      \"column\": \"en_tokens\",\n      \"properties\": {\n        \"dtype\": \"string\",\n        \"num_unique_values\": 5,\n        \"samples\": [\n          \"We swam in the sea.\",\n          \"Tom shouldn't make fun of Mary.\",\n          \"Is there someone else?\"\n        ],\n        \"semantic_type\": \"\",\n        \"description\": \"\"\n      }\n    },\n    {\n      \"column\": \"fr_indices\",\n      \"properties\": {\n        \"dtype\": \"object\",\n        \"semantic_type\": \"\",\n        \"description\": \"\"\n      }\n    },\n    {\n      \"column\": \"en_indices\",\n      \"properties\": {\n        \"dtype\": \"object\",\n        \"semantic_type\": \"\",\n        \"description\": \"\"\n      }\n    }\n  ]\n}",
              "type": "dataframe"
            },
            "text/html": [
              "\n",
              "  <div id=\"df-0c70828b-96c0-4a41-a74b-c94ff72f6f04\" class=\"colab-df-container\">\n",
              "    <div>\n",
              "<style scoped>\n",
              "    .dataframe tbody tr th:only-of-type {\n",
              "        vertical-align: middle;\n",
              "    }\n",
              "\n",
              "    .dataframe tbody tr th {\n",
              "        vertical-align: top;\n",
              "    }\n",
              "\n",
              "    .dataframe thead th {\n",
              "        text-align: right;\n",
              "    }\n",
              "</style>\n",
              "<table border=\"1\" class=\"dataframe\">\n",
              "  <thead>\n",
              "    <tr style=\"text-align: right;\">\n",
              "      <th></th>\n",
              "      <th>0</th>\n",
              "      <th>1</th>\n",
              "      <th>fr_tokens</th>\n",
              "      <th>en_tokens</th>\n",
              "      <th>fr_indices</th>\n",
              "      <th>en_indices</th>\n",
              "    </tr>\n",
              "  </thead>\n",
              "  <tbody>\n",
              "    <tr>\n",
              "      <th>85025</th>\n",
              "      <td>Tom looks like an accountant.</td>\n",
              "      <td>Tom ressemble à un comptable.</td>\n",
              "      <td>(Tom, ressemble, à, un, comptable, .)</td>\n",
              "      <td>(Tom, looks, like, an, accountant, .)</td>\n",
              "      <td>[3572, 2028, 1042, 4653, 126, 1296]</td>\n",
              "      <td>[2564, 698, 1468, 2542, 3231, 939]</td>\n",
              "    </tr>\n",
              "    <tr>\n",
              "      <th>25026</th>\n",
              "      <td>We swam in the sea.</td>\n",
              "      <td>Nous nageâmes dans la mer.</td>\n",
              "      <td>(Nous, nageâmes, dans, la, mer, .)</td>\n",
              "      <td>(We, swam, in, the, sea, .)</td>\n",
              "      <td>[197, 4073, 4365, 333, 770, 1296]</td>\n",
              "      <td>[1916, 2851, 1936, 886, 2076, 939]</td>\n",
              "    </tr>\n",
              "    <tr>\n",
              "      <th>39849</th>\n",
              "      <td>Is there someone else?</td>\n",
              "      <td>Y-a-t'il quelqu'un d'autre?</td>\n",
              "      <td>(Y, -, a, -, t', il, quelqu', un, d', autre, ?)</td>\n",
              "      <td>(Is, there, someone, else, ?)</td>\n",
              "      <td>[3664, 711, 4476, 711, 3878, 4813, 2069, 4653,...</td>\n",
              "      <td>[178, 2748, 2615, 1585, 3422]</td>\n",
              "    </tr>\n",
              "    <tr>\n",
              "      <th>118918</th>\n",
              "      <td>No one knew how much Tom loved Mary.</td>\n",
              "      <td>Personne ne savait à quel point Tom aimait Mary.</td>\n",
              "      <td>(Personne, ne, savait, à, quel, point, Tom, ai...</td>\n",
              "      <td>(No, one, knew, how, much, Tom, loved, Mary, .)</td>\n",
              "      <td>[3073, 1249, 327, 1042, 2319, 4139, 3572, 2864...</td>\n",
              "      <td>[3413, 2619, 2556, 3132, 3098, 2564, 746, 2168...</td>\n",
              "    </tr>\n",
              "    <tr>\n",
              "      <th>96759</th>\n",
              "      <td>Tom shouldn't make fun of Mary.</td>\n",
              "      <td>Tom ne devrait pas se moquer de Mary.</td>\n",
              "      <td>(Tom, ne, devrait, pas, se, moquer, de, Mary, .)</td>\n",
              "      <td>(Tom, should, n't, make, fun, of, Mary, .)</td>\n",
              "      <td>[3572, 1249, 1385, 3728, 1024, 4667, 1554, 303...</td>\n",
              "      <td>[2564, 689, 3335, 609, 459, 2872, 2168, 939]</td>\n",
              "    </tr>\n",
              "  </tbody>\n",
              "</table>\n",
              "</div>\n",
              "    <div class=\"colab-df-buttons\">\n",
              "\n",
              "  <div class=\"colab-df-container\">\n",
              "    <button class=\"colab-df-convert\" onclick=\"convertToInteractive('df-0c70828b-96c0-4a41-a74b-c94ff72f6f04')\"\n",
              "            title=\"Convert this dataframe to an interactive table.\"\n",
              "            style=\"display:none;\">\n",
              "\n",
              "  <svg xmlns=\"http://www.w3.org/2000/svg\" height=\"24px\" viewBox=\"0 -960 960 960\">\n",
              "    <path d=\"M120-120v-720h720v720H120Zm60-500h600v-160H180v160Zm220 220h160v-160H400v160Zm0 220h160v-160H400v160ZM180-400h160v-160H180v160Zm440 0h160v-160H620v160ZM180-180h160v-160H180v160Zm440 0h160v-160H620v160Z\"/>\n",
              "  </svg>\n",
              "    </button>\n",
              "\n",
              "  <style>\n",
              "    .colab-df-container {\n",
              "      display:flex;\n",
              "      gap: 12px;\n",
              "    }\n",
              "\n",
              "    .colab-df-convert {\n",
              "      background-color: #E8F0FE;\n",
              "      border: none;\n",
              "      border-radius: 50%;\n",
              "      cursor: pointer;\n",
              "      display: none;\n",
              "      fill: #1967D2;\n",
              "      height: 32px;\n",
              "      padding: 0 0 0 0;\n",
              "      width: 32px;\n",
              "    }\n",
              "\n",
              "    .colab-df-convert:hover {\n",
              "      background-color: #E2EBFA;\n",
              "      box-shadow: 0px 1px 2px rgba(60, 64, 67, 0.3), 0px 1px 3px 1px rgba(60, 64, 67, 0.15);\n",
              "      fill: #174EA6;\n",
              "    }\n",
              "\n",
              "    .colab-df-buttons div {\n",
              "      margin-bottom: 4px;\n",
              "    }\n",
              "\n",
              "    [theme=dark] .colab-df-convert {\n",
              "      background-color: #3B4455;\n",
              "      fill: #D2E3FC;\n",
              "    }\n",
              "\n",
              "    [theme=dark] .colab-df-convert:hover {\n",
              "      background-color: #434B5C;\n",
              "      box-shadow: 0px 1px 3px 1px rgba(0, 0, 0, 0.15);\n",
              "      filter: drop-shadow(0px 1px 2px rgba(0, 0, 0, 0.3));\n",
              "      fill: #FFFFFF;\n",
              "    }\n",
              "  </style>\n",
              "\n",
              "    <script>\n",
              "      const buttonEl =\n",
              "        document.querySelector('#df-0c70828b-96c0-4a41-a74b-c94ff72f6f04 button.colab-df-convert');\n",
              "      buttonEl.style.display =\n",
              "        google.colab.kernel.accessAllowed ? 'block' : 'none';\n",
              "\n",
              "      async function convertToInteractive(key) {\n",
              "        const element = document.querySelector('#df-0c70828b-96c0-4a41-a74b-c94ff72f6f04');\n",
              "        const dataTable =\n",
              "          await google.colab.kernel.invokeFunction('convertToInteractive',\n",
              "                                                    [key], {});\n",
              "        if (!dataTable) return;\n",
              "\n",
              "        const docLinkHtml = 'Like what you see? Visit the ' +\n",
              "          '<a target=\"_blank\" href=https://colab.research.google.com/notebooks/data_table.ipynb>data table notebook</a>'\n",
              "          + ' to learn more about interactive tables.';\n",
              "        element.innerHTML = '';\n",
              "        dataTable['output_type'] = 'display_data';\n",
              "        await google.colab.output.renderOutput(dataTable, element);\n",
              "        const docLink = document.createElement('div');\n",
              "        docLink.innerHTML = docLinkHtml;\n",
              "        element.appendChild(docLink);\n",
              "      }\n",
              "    </script>\n",
              "  </div>\n",
              "\n",
              "\n",
              "<div id=\"df-fec9ebb3-f13b-4dd0-a9a8-a02928583981\">\n",
              "  <button class=\"colab-df-quickchart\" onclick=\"quickchart('df-fec9ebb3-f13b-4dd0-a9a8-a02928583981')\"\n",
              "            title=\"Suggest charts\"\n",
              "            style=\"display:none;\">\n",
              "\n",
              "<svg xmlns=\"http://www.w3.org/2000/svg\" height=\"24px\"viewBox=\"0 0 24 24\"\n",
              "     width=\"24px\">\n",
              "    <g>\n",
              "        <path d=\"M19 3H5c-1.1 0-2 .9-2 2v14c0 1.1.9 2 2 2h14c1.1 0 2-.9 2-2V5c0-1.1-.9-2-2-2zM9 17H7v-7h2v7zm4 0h-2V7h2v10zm4 0h-2v-4h2v4z\"/>\n",
              "    </g>\n",
              "</svg>\n",
              "  </button>\n",
              "\n",
              "<style>\n",
              "  .colab-df-quickchart {\n",
              "      --bg-color: #E8F0FE;\n",
              "      --fill-color: #1967D2;\n",
              "      --hover-bg-color: #E2EBFA;\n",
              "      --hover-fill-color: #174EA6;\n",
              "      --disabled-fill-color: #AAA;\n",
              "      --disabled-bg-color: #DDD;\n",
              "  }\n",
              "\n",
              "  [theme=dark] .colab-df-quickchart {\n",
              "      --bg-color: #3B4455;\n",
              "      --fill-color: #D2E3FC;\n",
              "      --hover-bg-color: #434B5C;\n",
              "      --hover-fill-color: #FFFFFF;\n",
              "      --disabled-bg-color: #3B4455;\n",
              "      --disabled-fill-color: #666;\n",
              "  }\n",
              "\n",
              "  .colab-df-quickchart {\n",
              "    background-color: var(--bg-color);\n",
              "    border: none;\n",
              "    border-radius: 50%;\n",
              "    cursor: pointer;\n",
              "    display: none;\n",
              "    fill: var(--fill-color);\n",
              "    height: 32px;\n",
              "    padding: 0;\n",
              "    width: 32px;\n",
              "  }\n",
              "\n",
              "  .colab-df-quickchart:hover {\n",
              "    background-color: var(--hover-bg-color);\n",
              "    box-shadow: 0 1px 2px rgba(60, 64, 67, 0.3), 0 1px 3px 1px rgba(60, 64, 67, 0.15);\n",
              "    fill: var(--button-hover-fill-color);\n",
              "  }\n",
              "\n",
              "  .colab-df-quickchart-complete:disabled,\n",
              "  .colab-df-quickchart-complete:disabled:hover {\n",
              "    background-color: var(--disabled-bg-color);\n",
              "    fill: var(--disabled-fill-color);\n",
              "    box-shadow: none;\n",
              "  }\n",
              "\n",
              "  .colab-df-spinner {\n",
              "    border: 2px solid var(--fill-color);\n",
              "    border-color: transparent;\n",
              "    border-bottom-color: var(--fill-color);\n",
              "    animation:\n",
              "      spin 1s steps(1) infinite;\n",
              "  }\n",
              "\n",
              "  @keyframes spin {\n",
              "    0% {\n",
              "      border-color: transparent;\n",
              "      border-bottom-color: var(--fill-color);\n",
              "      border-left-color: var(--fill-color);\n",
              "    }\n",
              "    20% {\n",
              "      border-color: transparent;\n",
              "      border-left-color: var(--fill-color);\n",
              "      border-top-color: var(--fill-color);\n",
              "    }\n",
              "    30% {\n",
              "      border-color: transparent;\n",
              "      border-left-color: var(--fill-color);\n",
              "      border-top-color: var(--fill-color);\n",
              "      border-right-color: var(--fill-color);\n",
              "    }\n",
              "    40% {\n",
              "      border-color: transparent;\n",
              "      border-right-color: var(--fill-color);\n",
              "      border-top-color: var(--fill-color);\n",
              "    }\n",
              "    60% {\n",
              "      border-color: transparent;\n",
              "      border-right-color: var(--fill-color);\n",
              "    }\n",
              "    80% {\n",
              "      border-color: transparent;\n",
              "      border-right-color: var(--fill-color);\n",
              "      border-bottom-color: var(--fill-color);\n",
              "    }\n",
              "    90% {\n",
              "      border-color: transparent;\n",
              "      border-bottom-color: var(--fill-color);\n",
              "    }\n",
              "  }\n",
              "</style>\n",
              "\n",
              "  <script>\n",
              "    async function quickchart(key) {\n",
              "      const quickchartButtonEl =\n",
              "        document.querySelector('#' + key + ' button');\n",
              "      quickchartButtonEl.disabled = true;  // To prevent multiple clicks.\n",
              "      quickchartButtonEl.classList.add('colab-df-spinner');\n",
              "      try {\n",
              "        const charts = await google.colab.kernel.invokeFunction(\n",
              "            'suggestCharts', [key], {});\n",
              "      } catch (error) {\n",
              "        console.error('Error during call to suggestCharts:', error);\n",
              "      }\n",
              "      quickchartButtonEl.classList.remove('colab-df-spinner');\n",
              "      quickchartButtonEl.classList.add('colab-df-quickchart-complete');\n",
              "    }\n",
              "    (() => {\n",
              "      let quickchartButtonEl =\n",
              "        document.querySelector('#df-fec9ebb3-f13b-4dd0-a9a8-a02928583981 button');\n",
              "      quickchartButtonEl.style.display =\n",
              "        google.colab.kernel.accessAllowed ? 'block' : 'none';\n",
              "    })();\n",
              "  </script>\n",
              "</div>\n",
              "    </div>\n",
              "  </div>\n"
            ],
            "text/plain": [
              "                                           0  \\\n",
              "85025          Tom looks like an accountant.   \n",
              "25026                    We swam in the sea.   \n",
              "39849                 Is there someone else?   \n",
              "118918  No one knew how much Tom loved Mary.   \n",
              "96759        Tom shouldn't make fun of Mary.   \n",
              "\n",
              "                                                       1  \\\n",
              "85025                      Tom ressemble à un comptable.   \n",
              "25026                         Nous nageâmes dans la mer.   \n",
              "39849                        Y-a-t'il quelqu'un d'autre?   \n",
              "118918  Personne ne savait à quel point Tom aimait Mary.   \n",
              "96759              Tom ne devrait pas se moquer de Mary.   \n",
              "\n",
              "                                                fr_tokens  \\\n",
              "85025               (Tom, ressemble, à, un, comptable, .)   \n",
              "25026                  (Nous, nageâmes, dans, la, mer, .)   \n",
              "39849     (Y, -, a, -, t', il, quelqu', un, d', autre, ?)   \n",
              "118918  (Personne, ne, savait, à, quel, point, Tom, ai...   \n",
              "96759    (Tom, ne, devrait, pas, se, moquer, de, Mary, .)   \n",
              "\n",
              "                                              en_tokens  \\\n",
              "85025             (Tom, looks, like, an, accountant, .)   \n",
              "25026                       (We, swam, in, the, sea, .)   \n",
              "39849                     (Is, there, someone, else, ?)   \n",
              "118918  (No, one, knew, how, much, Tom, loved, Mary, .)   \n",
              "96759        (Tom, should, n't, make, fun, of, Mary, .)   \n",
              "\n",
              "                                               fr_indices  \\\n",
              "85025                 [3572, 2028, 1042, 4653, 126, 1296]   \n",
              "25026                   [197, 4073, 4365, 333, 770, 1296]   \n",
              "39849   [3664, 711, 4476, 711, 3878, 4813, 2069, 4653,...   \n",
              "118918  [3073, 1249, 327, 1042, 2319, 4139, 3572, 2864...   \n",
              "96759   [3572, 1249, 1385, 3728, 1024, 4667, 1554, 303...   \n",
              "\n",
              "                                               en_indices  \n",
              "85025                  [2564, 698, 1468, 2542, 3231, 939]  \n",
              "25026                  [1916, 2851, 1936, 886, 2076, 939]  \n",
              "39849                       [178, 2748, 2615, 1585, 3422]  \n",
              "118918  [3413, 2619, 2556, 3132, 3098, 2564, 746, 2168...  \n",
              "96759        [2564, 689, 3335, 609, 459, 2872, 2168, 939]  "
            ]
          },
          "execution_count": 23,
          "metadata": {},
          "output_type": "execute_result"
        }
      ],
      "source": [
        "doc.tail()"
      ]
    },
    {
      "cell_type": "code",
      "execution_count": null,
      "metadata": {
        "id": "_E6k1kSptWBY"
      },
      "outputs": [],
      "source": [
        "# Creation d'une fonction qui va compter la longueur maximum d'une phrase\n",
        "def max_len(lines):\n",
        "    return max(len(line) for line in lines)"
      ]
    },
    {
      "cell_type": "code",
      "execution_count": null,
      "metadata": {
        "id": "lMy0_96GwBNw"
      },
      "outputs": [],
      "source": [
        "# Application de la focntion sur les tokens francais et anglais\n",
        "fr_max_len = max_len(doc['fr_indices'].to_list())\n",
        "en_max_len = max_len(doc['en_indices'].to_list())"
      ]
    },
    {
      "cell_type": "code",
      "execution_count": null,
      "metadata": {
        "id": "EPE2jMJQzLrW"
      },
      "outputs": [],
      "source": [
        "tf.keras.preprocessing.sequence.pad_sequences?"
      ]
    },
    {
      "cell_type": "code",
      "execution_count": null,
      "metadata": {
        "id": "eM_dAidIzLa6"
      },
      "outputs": [],
      "source": [
        "#Utilisation de keras pour creer des sequences de tokens de la meme\n",
        "#%d%time\n",
        "padded_fr_indices = tf.keras.preprocessing.sequence.pad_sequences(doc[\"fr_indices\"],\n",
        "                                                                  maxlen=fr_max_len,\n",
        "                                                                  padding=\"post\")\n",
        "pad_en_indices = tf.keras.preprocessing.sequence.pad_sequences(doc[\"en_indices\"],\n",
        "                                                               maxlen=en_max_len,\n",
        "                                                               padding=\"post\")"
      ]
    },
    {
      "cell_type": "code",
      "execution_count": null,
      "metadata": {
        "colab": {
          "base_uri": "https://localhost:8080/"
        },
        "id": "dH9zfS7HwfiZ",
        "outputId": "b0563191-e31c-4fc0-da89-e5af4a1ae2bd"
      },
      "outputs": [
        {
          "data": {
            "text/plain": [
              "(5000, 26)"
            ]
          },
          "execution_count": 33,
          "metadata": {},
          "output_type": "execute_result"
        }
      ],
      "source": [
        "# Visualisation de la shape d'un des tenseurs\n",
        "padded_fr_indices.shape"
      ]
    },
    {
      "cell_type": "code",
      "execution_count": null,
      "metadata": {
        "colab": {
          "base_uri": "https://localhost:8080/"
        },
        "id": "nqN7FGfM2nVo",
        "outputId": "54c77f1c-aeca-47dc-f9d4-b143c7410930"
      },
      "outputs": [
        {
          "data": {
            "text/plain": [
              "(5000, 24, 3552)"
            ]
          },
          "execution_count": 46,
          "metadata": {},
          "output_type": "execute_result"
        }
      ],
      "source": [
        "# Application de la catégorisation de la variable cible\n",
        "binarized_en_indices = tf.keras.utils.to_categorical(pad_en_indices, num_classes=en_vocab_size + 1 )\n",
        "\n",
        "binarized_en_indices.shape"
      ]
    },
    {
      "cell_type": "code",
      "execution_count": null,
      "metadata": {
        "colab": {
          "base_uri": "https://localhost:8080/"
        },
        "id": "UEOidHPLzbFE",
        "outputId": "56ba6d1b-9943-499c-9659-29762df60879"
      },
      "outputs": [
        {
          "data": {
            "text/plain": [
              "(5000, 24, 3552)"
            ]
          },
          "execution_count": 34,
          "metadata": {},
          "output_type": "execute_result"
        }
      ],
      "source": [
        "#Application de la categorisation de la variable cible\n",
        "en_indices = tf.keras.utils.to_categorical(pad_en_indices,\n",
        "                                                     num_classes=en_vocab_size+1)\n",
        "en_indices.shape"
      ]
    },
    {
      "cell_type": "code",
      "execution_count": null,
      "metadata": {
        "id": "SSITc2_R1rm-"
      },
      "outputs": [],
      "source": [
        "# binarized_en_indices"
      ]
    },
    {
      "cell_type": "markdown",
      "metadata": {
        "id": "c7fsni_nzsp8"
      },
      "source": [
        "binarized\n"
      ]
    },
    {
      "cell_type": "code",
      "execution_count": null,
      "metadata": {
        "id": "lEyEzxECzeAK"
      },
      "outputs": [],
      "source": [
        "tf.data.Dataset.from_tensor_slices?"
      ]
    },
    {
      "cell_type": "code",
      "execution_count": null,
      "metadata": {
        "id": "AD8sqrVBz1LP"
      },
      "outputs": [],
      "source": [
        "# Creation de tf.data.Dataset pour chacun des tenseurs francais et anglais\n",
        "fr_ds = tf.data.Dataset.from_tensor_slices(padded_fr_indices)\n",
        "en_ds = tf.data.Dataset.from_tensor_slices(binarized_en_indices)"
      ]
    },
    {
      "cell_type": "code",
      "execution_count": null,
      "metadata": {
        "id": "-BnQHtj00Mjm"
      },
      "outputs": [],
      "source": [
        "#Create a tensorflow datase complet\n",
        "tf_ds = tf.data.Dataset.zip(fr_ds,en_ds)"
      ]
    },
    {
      "cell_type": "code",
      "execution_count": null,
      "metadata": {
        "colab": {
          "base_uri": "https://localhost:8080/"
        },
        "id": "6FWMb25D0Qab",
        "outputId": "4459bc72-92f7-4617-f723-c4ea1f789e85"
      },
      "outputs": [
        {
          "data": {
            "text/plain": [
              "(<tf.Tensor: shape=(26,), dtype=int32, numpy=\n",
              " array([3696, 1552, 1445, 1042, 2813, 4004, 4003, 1296,    0,    0,    0,\n",
              "           0,    0,    0,    0,    0,    0,    0,    0,    0,    0,    0,\n",
              "           0,    0,    0,    0], dtype=int32)>,\n",
              " <tf.Tensor: shape=(24, 3552), dtype=float32, numpy=\n",
              " array([[0., 0., 0., ..., 0., 0., 0.],\n",
              "        [0., 0., 0., ..., 0., 0., 0.],\n",
              "        [0., 0., 0., ..., 0., 0., 0.],\n",
              "        ...,\n",
              "        [1., 0., 0., ..., 0., 0., 0.],\n",
              "        [1., 0., 0., ..., 0., 0., 0.],\n",
              "        [1., 0., 0., ..., 0., 0., 0.]], dtype=float32)>)"
            ]
          },
          "execution_count": 49,
          "metadata": {},
          "output_type": "execute_result"
        }
      ],
      "source": [
        "next(iter(tf_ds))"
      ]
    },
    {
      "cell_type": "code",
      "execution_count": null,
      "metadata": {
        "id": "VugoIuwa_GyC"
      },
      "outputs": [],
      "source": []
    },
    {
      "cell_type": "code",
      "execution_count": null,
      "metadata": {
        "id": "bSXUBGFc-cEr"
      },
      "outputs": [],
      "source": [
        "# Shuffle & Batch\n",
        "BATCH_SIZE = 32\n",
        "\n",
        "tf_ds = tf_ds.shuffle(len(doc)).batch(BATCH_SIZE)"
      ]
    },
    {
      "cell_type": "code",
      "execution_count": null,
      "metadata": {
        "colab": {
          "base_uri": "https://localhost:8080/"
        },
        "id": "oWdYGdLl_nJI",
        "outputId": "e91dbe21-710a-4588-f321-e3e93321875a"
      },
      "outputs": [
        {
          "data": {
            "text/plain": [
              "109.375"
            ]
          },
          "execution_count": 51,
          "metadata": {},
          "output_type": "execute_result"
        }
      ],
      "source": [
        "len(doc)/32*0.7"
      ]
    },
    {
      "cell_type": "code",
      "execution_count": null,
      "metadata": {
        "id": "9xu3Vwhi_Gam"
      },
      "outputs": [],
      "source": [
        "# train test split\n",
        "TAKE_SIZE = int(0.7*len(doc)/BATCH_SIZE)\n",
        "\n",
        "train_data = tf_ds.take(TAKE_SIZE)\n",
        "test_data = tf_ds.skip(TAKE_SIZE)"
      ]
    },
    {
      "cell_type": "code",
      "execution_count": null,
      "metadata": {
        "id": "3i03qcQv_F5z"
      },
      "outputs": [],
      "source": [
        "  tf.keras.layers.Embedding?"
      ]
    },
    {
      "cell_type": "code",
      "execution_count": null,
      "metadata": {
        "id": "ot1RXOPTBQef"
      },
      "outputs": [],
      "source": [
        "# Creation du modele\n",
        "model = tf.keras.Sequential([\n",
        "    # Couche d'Input Word Embedding\n",
        "    tf.keras.layers.Embedding(fr_vocab_size + 1, 64, mask_zero = True),\n",
        "\n",
        "    # Couche LSTM Bidirectionnelle\n",
        "    tf.keras.layers.Bidirectional(tf.keras.layers.LSTM(64, return_sequences = True)),\n",
        "\n",
        "    # Nouvelle Couche LSTM Bidirectionnelle\n",
        "    tf.keras.layers.Bidirectional(tf.keras.layers.LSTM(64, return_sequences = False)),\n",
        "\n",
        "    # Repeat Vector\n",
        "    tf.keras.layers.RepeatVector(binarized_en_indices.shape[1]),\n",
        "\n",
        "    # Nouvelle Couche LSTM\n",
        "    tf.keras.layers.LSTM(32, return_sequences = True),\n",
        "    #couche de sortie avec le nombre de neurones en sortie egale au nombre de classe avec focntion softmax\n",
        "     tf.keras.layers.TimeDistributed( tf.keras.layers.Dense(en_vocab_size+1, activation = \"softmax\"))\n",
        "    ])"
      ]
    },
    {
      "cell_type": "code",
      "execution_count": null,
      "metadata": {
        "colab": {
          "base_uri": "https://localhost:8080/"
        },
        "id": "joP8FH2-DE6k",
        "outputId": "689d0369-b960-469b-c86b-e69e4acdb54b"
      },
      "outputs": [
        {
          "name": "stdout",
          "output_type": "stream",
          "text": [
            "Model: \"sequential\"\n",
            "_________________________________________________________________\n",
            " Layer (type)                Output Shape              Param #   \n",
            "=================================================================\n",
            " embedding (Embedding)       (None, None, 64)          311360    \n",
            "                                                                 \n",
            " bidirectional (Bidirection  (None, None, 128)         66048     \n",
            " al)                                                             \n",
            "                                                                 \n",
            " bidirectional_1 (Bidirecti  (None, 128)               98816     \n",
            " onal)                                                           \n",
            "                                                                 \n",
            " repeat_vector (RepeatVecto  (None, 24, 128)           0         \n",
            " r)                                                              \n",
            "                                                                 \n",
            " lstm_2 (LSTM)               (None, 24, 32)            20608     \n",
            "                                                                 \n",
            " time_distributed (TimeDist  (None, 24, 3552)          117216    \n",
            " ributed)                                                        \n",
            "                                                                 \n",
            "=================================================================\n",
            "Total params: 614048 (2.34 MB)\n",
            "Trainable params: 614048 (2.34 MB)\n",
            "Non-trainable params: 0 (0.00 Byte)\n",
            "_________________________________________________________________\n"
          ]
        }
      ],
      "source": [
        "model.summary()"
      ]
    },
    {
      "cell_type": "code",
      "execution_count": null,
      "metadata": {
        "colab": {
          "base_uri": "https://localhost:8080/"
        },
        "id": "FU2R6GXHBVP8",
        "outputId": "f9a4ff84-bce4-46cd-c581-e401a3a210ca"
      },
      "outputs": [
        {
          "name": "stdout",
          "output_type": "stream",
          "text": [
            "(32, 26)\n",
            "1/1 [==============================] - 0s 171ms/step\n",
            "(32, 24, 3552)\n",
            "(32, 24, 3552)\n"
          ]
        }
      ],
      "source": [
        "# prediction\n",
        "\n",
        "# Prediction 'aleatoire' pour tester notre modele\n",
        "input_text, output_text = next(iter(train_data))\n",
        "print(input_text.numpy().shape)\n",
        "print(model.predict(input_text).shape)\n",
        "print(output_text.numpy().shape)"
      ]
    },
    {
      "cell_type": "code",
      "execution_count": null,
      "metadata": {
        "id": "MLrBZELKDSm8"
      },
      "outputs": [],
      "source": [
        "initial_learning_rate = 0.001\n"
      ]
    },
    {
      "cell_type": "code",
      "execution_count": null,
      "metadata": {
        "id": "5kdylOI2Domr"
      },
      "outputs": [],
      "source": [
        "lr_schedule = tf.keras.optimizers.schedules.ExponentialDecay(\n",
        "    initial_learning_rate ,\n",
        "    decay_steps=1090 ,\n",
        "    decay_rate=0.96 ,\n",
        "    staircase=True )"
      ]
    },
    {
      "cell_type": "code",
      "execution_count": null,
      "metadata": {
        "id": "sQPhR4YFE59K"
      },
      "outputs": [],
      "source": [
        "# Utilisation d un compileur simple avec un optimiseure Adam pour le calcul\n",
        "\n",
        "optimizer= tf.keras.optimizers.Adam(\n",
        "    learning_rate = lr_schedule\n",
        ")"
      ]
    },
    {
      "cell_type": "code",
      "execution_count": null,
      "metadata": {
        "colab": {
          "background_save": true,
          "base_uri": "https://localhost:8080/"
        },
        "id": "hMc_7TlSFfHe",
        "outputId": "bd9ace14-5427-46c1-ae4d-5a3d2d6c4743"
      },
      "outputs": [
        {
          "name": "stdout",
          "output_type": "stream",
          "text": [
            "Epoch 1/200\n",
            "109/109 [==============================] - 60s 377ms/step - loss: 5.3246 - categorical_accuracy: 0.6772 - val_loss: 2.9717 - val_categorical_accuracy: 0.6837\n",
            "Epoch 2/200\n",
            "109/109 [==============================] - 28s 259ms/step - loss: 2.5542 - categorical_accuracy: 0.6837 - val_loss: 2.4858 - val_categorical_accuracy: 0.6766\n",
            "Epoch 3/200\n",
            "109/109 [==============================] - 21s 195ms/step - loss: 2.3335 - categorical_accuracy: 0.6843 - val_loss: 2.2308 - val_categorical_accuracy: 0.6824\n",
            "Epoch 4/200\n",
            "109/109 [==============================] - 23s 207ms/step - loss: 2.1376 - categorical_accuracy: 0.6849 - val_loss: 2.0759 - val_categorical_accuracy: 0.6841\n",
            "Epoch 5/200\n",
            "109/109 [==============================] - 27s 247ms/step - loss: 2.0358 - categorical_accuracy: 0.6836 - val_loss: 2.0048 - val_categorical_accuracy: 0.6829\n",
            "Epoch 6/200\n",
            "109/109 [==============================] - 23s 207ms/step - loss: 1.9574 - categorical_accuracy: 0.6853 - val_loss: 1.9329 - val_categorical_accuracy: 0.6892\n",
            "Epoch 7/200\n",
            "109/109 [==============================] - 21s 193ms/step - loss: 1.9042 - categorical_accuracy: 0.6965 - val_loss: 1.9235 - val_categorical_accuracy: 0.6940\n",
            "Epoch 8/200\n",
            "109/109 [==============================] - 24s 216ms/step - loss: 1.8696 - categorical_accuracy: 0.6981 - val_loss: 1.8588 - val_categorical_accuracy: 0.6952\n",
            "Epoch 9/200\n",
            "109/109 [==============================] - 22s 201ms/step - loss: 1.8357 - categorical_accuracy: 0.6982 - val_loss: 1.8417 - val_categorical_accuracy: 0.6938\n",
            "Epoch 10/200\n",
            "109/109 [==============================] - 23s 208ms/step - loss: 1.8146 - categorical_accuracy: 0.6991 - val_loss: 1.7993 - val_categorical_accuracy: 0.6982\n",
            "Epoch 11/200\n",
            "109/109 [==============================] - 24s 223ms/step - loss: 1.7797 - categorical_accuracy: 0.7048 - val_loss: 1.8022 - val_categorical_accuracy: 0.7047\n",
            "Epoch 12/200\n",
            "109/109 [==============================] - 26s 241ms/step - loss: 1.7779 - categorical_accuracy: 0.7106 - val_loss: 1.7754 - val_categorical_accuracy: 0.7210\n",
            "Epoch 13/200\n",
            "109/109 [==============================] - 23s 213ms/step - loss: 1.7397 - categorical_accuracy: 0.7199 - val_loss: 1.7238 - val_categorical_accuracy: 0.7245\n",
            "Epoch 14/200\n",
            "109/109 [==============================] - 25s 228ms/step - loss: 1.7354 - categorical_accuracy: 0.7208 - val_loss: 1.7130 - val_categorical_accuracy: 0.7284\n",
            "Epoch 15/200\n",
            "109/109 [==============================] - 26s 236ms/step - loss: 1.7134 - categorical_accuracy: 0.7235 - val_loss: 1.6957 - val_categorical_accuracy: 0.7248\n",
            "Epoch 16/200\n",
            "109/109 [==============================] - 23s 214ms/step - loss: 1.7031 - categorical_accuracy: 0.7251 - val_loss: 1.6801 - val_categorical_accuracy: 0.7300\n",
            "Epoch 17/200\n",
            "109/109 [==============================] - 30s 275ms/step - loss: 1.6838 - categorical_accuracy: 0.7282 - val_loss: 1.6814 - val_categorical_accuracy: 0.7308\n",
            "Epoch 18/200\n",
            "109/109 [==============================] - 34s 311ms/step - loss: 1.6810 - categorical_accuracy: 0.7273 - val_loss: 1.6487 - val_categorical_accuracy: 0.7321\n",
            "Epoch 19/200\n",
            "109/109 [==============================] - 28s 260ms/step - loss: 1.6644 - categorical_accuracy: 0.7289 - val_loss: 1.6649 - val_categorical_accuracy: 0.7259\n",
            "Epoch 20/200\n",
            "109/109 [==============================] - 29s 266ms/step - loss: 1.6520 - categorical_accuracy: 0.7304 - val_loss: 1.6697 - val_categorical_accuracy: 0.7288\n",
            "Epoch 21/200\n",
            "109/109 [==============================] - 24s 224ms/step - loss: 1.6559 - categorical_accuracy: 0.7296 - val_loss: 1.6387 - val_categorical_accuracy: 0.7300\n",
            "Epoch 22/200\n",
            "109/109 [==============================] - 22s 203ms/step - loss: 1.6370 - categorical_accuracy: 0.7313 - val_loss: 1.6447 - val_categorical_accuracy: 0.7272\n",
            "Epoch 23/200\n",
            "109/109 [==============================] - 23s 216ms/step - loss: 1.6303 - categorical_accuracy: 0.7331 - val_loss: 1.6314 - val_categorical_accuracy: 0.7312\n",
            "Epoch 24/200\n",
            "109/109 [==============================] - 23s 207ms/step - loss: 1.6286 - categorical_accuracy: 0.7323 - val_loss: 1.6227 - val_categorical_accuracy: 0.7331\n",
            "Epoch 25/200\n",
            "109/109 [==============================] - 25s 233ms/step - loss: 1.6040 - categorical_accuracy: 0.7364 - val_loss: 1.5938 - val_categorical_accuracy: 0.7352\n",
            "Epoch 26/200\n",
            "109/109 [==============================] - 23s 215ms/step - loss: 1.5998 - categorical_accuracy: 0.7366 - val_loss: 1.5544 - val_categorical_accuracy: 0.7451\n",
            "Epoch 27/200\n",
            "109/109 [==============================] - 29s 264ms/step - loss: 1.5951 - categorical_accuracy: 0.7393 - val_loss: 1.5872 - val_categorical_accuracy: 0.7426\n",
            "Epoch 28/200\n",
            "109/109 [==============================] - 35s 316ms/step - loss: 1.5897 - categorical_accuracy: 0.7417 - val_loss: 1.5855 - val_categorical_accuracy: 0.7408\n",
            "Epoch 29/200\n",
            "109/109 [==============================] - 30s 278ms/step - loss: 1.5794 - categorical_accuracy: 0.7421 - val_loss: 1.5662 - val_categorical_accuracy: 0.7420\n",
            "Epoch 30/200\n",
            "109/109 [==============================] - 24s 220ms/step - loss: 1.5700 - categorical_accuracy: 0.7427 - val_loss: 1.5577 - val_categorical_accuracy: 0.7442\n",
            "Epoch 31/200\n",
            "109/109 [==============================] - 28s 260ms/step - loss: 1.5776 - categorical_accuracy: 0.7415 - val_loss: 1.5656 - val_categorical_accuracy: 0.7423\n",
            "Epoch 32/200\n",
            "109/109 [==============================] - 34s 311ms/step - loss: 1.5716 - categorical_accuracy: 0.7427 - val_loss: 1.5643 - val_categorical_accuracy: 0.7447\n",
            "Epoch 33/200\n",
            "109/109 [==============================] - 24s 222ms/step - loss: 1.5555 - categorical_accuracy: 0.7449 - val_loss: 1.5514 - val_categorical_accuracy: 0.7462\n",
            "Epoch 34/200\n",
            "109/109 [==============================] - 21s 197ms/step - loss: 1.5552 - categorical_accuracy: 0.7453 - val_loss: 1.5310 - val_categorical_accuracy: 0.7475\n",
            "Epoch 35/200\n",
            "109/109 [==============================] - 24s 221ms/step - loss: 1.5525 - categorical_accuracy: 0.7444 - val_loss: 1.5234 - val_categorical_accuracy: 0.7464\n",
            "Epoch 36/200\n",
            "109/109 [==============================] - 23s 210ms/step - loss: 1.5383 - categorical_accuracy: 0.7457 - val_loss: 1.5322 - val_categorical_accuracy: 0.7472\n",
            "Epoch 37/200\n",
            "109/109 [==============================] - 22s 200ms/step - loss: 1.5247 - categorical_accuracy: 0.7478 - val_loss: 1.5222 - val_categorical_accuracy: 0.7479\n",
            "Epoch 38/200\n",
            "109/109 [==============================] - 24s 221ms/step - loss: 1.5164 - categorical_accuracy: 0.7474 - val_loss: 1.5095 - val_categorical_accuracy: 0.7468\n",
            "Epoch 39/200\n",
            "109/109 [==============================] - 23s 215ms/step - loss: 1.5139 - categorical_accuracy: 0.7474 - val_loss: 1.4923 - val_categorical_accuracy: 0.7491\n",
            "Epoch 40/200\n",
            "109/109 [==============================] - 22s 201ms/step - loss: 1.5082 - categorical_accuracy: 0.7483 - val_loss: 1.5036 - val_categorical_accuracy: 0.7452\n",
            "Epoch 41/200\n",
            "109/109 [==============================] - 22s 206ms/step - loss: 1.4902 - categorical_accuracy: 0.7494 - val_loss: 1.4851 - val_categorical_accuracy: 0.7511\n",
            "Epoch 42/200\n",
            "109/109 [==============================] - 24s 224ms/step - loss: 1.4792 - categorical_accuracy: 0.7517 - val_loss: 1.4691 - val_categorical_accuracy: 0.7528\n",
            "Epoch 43/200\n",
            "109/109 [==============================] - 23s 209ms/step - loss: 1.4620 - categorical_accuracy: 0.7543 - val_loss: 1.4614 - val_categorical_accuracy: 0.7522\n",
            "Epoch 44/200\n",
            "109/109 [==============================] - 23s 209ms/step - loss: 1.4675 - categorical_accuracy: 0.7526 - val_loss: 1.4391 - val_categorical_accuracy: 0.7571\n",
            "Epoch 45/200\n",
            "109/109 [==============================] - 23s 210ms/step - loss: 1.4607 - categorical_accuracy: 0.7537 - val_loss: 1.4295 - val_categorical_accuracy: 0.7577\n",
            "Epoch 46/200\n",
            "109/109 [==============================] - 24s 224ms/step - loss: 1.4553 - categorical_accuracy: 0.7539 - val_loss: 1.4482 - val_categorical_accuracy: 0.7529\n",
            "Epoch 47/200\n",
            "109/109 [==============================] - 24s 224ms/step - loss: 1.4396 - categorical_accuracy: 0.7568 - val_loss: 1.4570 - val_categorical_accuracy: 0.7514\n",
            "Epoch 48/200\n",
            "109/109 [==============================] - 24s 224ms/step - loss: 1.4374 - categorical_accuracy: 0.7560 - val_loss: 1.4369 - val_categorical_accuracy: 0.7549\n",
            "Epoch 49/200\n",
            "109/109 [==============================] - 23s 209ms/step - loss: 1.4298 - categorical_accuracy: 0.7565 - val_loss: 1.4161 - val_categorical_accuracy: 0.7590\n",
            "Epoch 50/200\n",
            "109/109 [==============================] - 23s 213ms/step - loss: 1.4288 - categorical_accuracy: 0.7565 - val_loss: 1.4243 - val_categorical_accuracy: 0.7571\n",
            "Epoch 51/200\n",
            "109/109 [==============================] - 21s 196ms/step - loss: 1.4214 - categorical_accuracy: 0.7575 - val_loss: 1.4216 - val_categorical_accuracy: 0.7548\n",
            "Epoch 52/200\n",
            "109/109 [==============================] - 22s 205ms/step - loss: 1.4217 - categorical_accuracy: 0.7566 - val_loss: 1.4523 - val_categorical_accuracy: 0.7514\n",
            "Epoch 53/200\n",
            "109/109 [==============================] - 22s 204ms/step - loss: 1.4184 - categorical_accuracy: 0.7572 - val_loss: 1.4044 - val_categorical_accuracy: 0.7596\n",
            "Epoch 54/200\n",
            "109/109 [==============================] - 24s 217ms/step - loss: 1.4159 - categorical_accuracy: 0.7573 - val_loss: 1.3981 - val_categorical_accuracy: 0.7600\n",
            "Epoch 55/200\n",
            "109/109 [==============================] - 25s 225ms/step - loss: 1.4085 - categorical_accuracy: 0.7575 - val_loss: 1.3562 - val_categorical_accuracy: 0.7661\n",
            "Epoch 56/200\n",
            "109/109 [==============================] - 23s 208ms/step - loss: 1.4032 - categorical_accuracy: 0.7585 - val_loss: 1.3939 - val_categorical_accuracy: 0.7593\n",
            "Epoch 57/200\n",
            "109/109 [==============================] - 22s 202ms/step - loss: 1.3732 - categorical_accuracy: 0.7631 - val_loss: 1.3963 - val_categorical_accuracy: 0.7605\n",
            "Epoch 58/200\n",
            "109/109 [==============================] - 23s 215ms/step - loss: 1.3850 - categorical_accuracy: 0.7623 - val_loss: 1.3804 - val_categorical_accuracy: 0.7628\n",
            "Epoch 59/200\n",
            "109/109 [==============================] - 24s 217ms/step - loss: 1.3641 - categorical_accuracy: 0.7644 - val_loss: 1.3760 - val_categorical_accuracy: 0.7612\n",
            "Epoch 60/200\n",
            "109/109 [==============================] - 22s 204ms/step - loss: 1.3657 - categorical_accuracy: 0.7637 - val_loss: 1.3565 - val_categorical_accuracy: 0.7659\n",
            "Epoch 61/200\n",
            "109/109 [==============================] - 23s 209ms/step - loss: 1.3704 - categorical_accuracy: 0.7642 - val_loss: 1.3606 - val_categorical_accuracy: 0.7657\n",
            "Epoch 62/200\n",
            "109/109 [==============================] - 25s 227ms/step - loss: 1.3660 - categorical_accuracy: 0.7642 - val_loss: 1.3302 - val_categorical_accuracy: 0.7698\n",
            "Epoch 63/200\n",
            "109/109 [==============================] - 21s 190ms/step - loss: 1.3619 - categorical_accuracy: 0.7653 - val_loss: 1.3483 - val_categorical_accuracy: 0.7666\n",
            "Epoch 64/200\n",
            "109/109 [==============================] - 25s 225ms/step - loss: 1.3504 - categorical_accuracy: 0.7659 - val_loss: 1.3477 - val_categorical_accuracy: 0.7658\n",
            "Epoch 65/200\n",
            "109/109 [==============================] - 21s 194ms/step - loss: 1.3305 - categorical_accuracy: 0.7692 - val_loss: 1.3152 - val_categorical_accuracy: 0.7715\n",
            "Epoch 66/200\n",
            "109/109 [==============================] - 22s 200ms/step - loss: 1.3415 - categorical_accuracy: 0.7676 - val_loss: 1.3433 - val_categorical_accuracy: 0.7646\n",
            "Epoch 67/200\n",
            "109/109 [==============================] - 22s 206ms/step - loss: 1.3472 - categorical_accuracy: 0.7659 - val_loss: 1.3317 - val_categorical_accuracy: 0.7676\n",
            "Epoch 68/200\n",
            "109/109 [==============================] - 21s 193ms/step - loss: 1.3310 - categorical_accuracy: 0.7683 - val_loss: 1.3094 - val_categorical_accuracy: 0.7715\n",
            "Epoch 69/200\n",
            "109/109 [==============================] - 23s 208ms/step - loss: 1.3167 - categorical_accuracy: 0.7692 - val_loss: 1.3347 - val_categorical_accuracy: 0.7674\n",
            "Epoch 70/200\n",
            "109/109 [==============================] - 22s 205ms/step - loss: 1.3199 - categorical_accuracy: 0.7694 - val_loss: 1.3351 - val_categorical_accuracy: 0.7652\n",
            "Epoch 71/200\n",
            "109/109 [==============================] - 25s 230ms/step - loss: 1.3150 - categorical_accuracy: 0.7688 - val_loss: 1.2987 - val_categorical_accuracy: 0.7724\n",
            "Epoch 72/200\n",
            "109/109 [==============================] - 24s 216ms/step - loss: 1.3223 - categorical_accuracy: 0.7679 - val_loss: 1.3216 - val_categorical_accuracy: 0.7659\n",
            "Epoch 73/200\n",
            "109/109 [==============================] - 22s 200ms/step - loss: 1.3116 - categorical_accuracy: 0.7687 - val_loss: 1.3036 - val_categorical_accuracy: 0.7687\n",
            "Epoch 74/200\n",
            "109/109 [==============================] - 21s 195ms/step - loss: 1.3105 - categorical_accuracy: 0.7687 - val_loss: 1.3161 - val_categorical_accuracy: 0.7669\n",
            "Epoch 75/200\n",
            "109/109 [==============================] - 23s 206ms/step - loss: 1.2991 - categorical_accuracy: 0.7702 - val_loss: 1.2879 - val_categorical_accuracy: 0.7715\n",
            "Epoch 76/200\n",
            "109/109 [==============================] - 20s 187ms/step - loss: 1.2953 - categorical_accuracy: 0.7697 - val_loss: 1.3058 - val_categorical_accuracy: 0.7698\n",
            "Epoch 77/200\n",
            "109/109 [==============================] - 23s 207ms/step - loss: 1.2948 - categorical_accuracy: 0.7708 - val_loss: 1.2822 - val_categorical_accuracy: 0.7728\n",
            "Epoch 78/200\n",
            "109/109 [==============================] - 23s 207ms/step - loss: 1.2957 - categorical_accuracy: 0.7700 - val_loss: 1.2753 - val_categorical_accuracy: 0.7751\n",
            "Epoch 79/200\n",
            "109/109 [==============================] - 22s 200ms/step - loss: 1.2743 - categorical_accuracy: 0.7732 - val_loss: 1.3064 - val_categorical_accuracy: 0.7677\n",
            "Epoch 80/200\n",
            "109/109 [==============================] - 24s 223ms/step - loss: 1.2818 - categorical_accuracy: 0.7719 - val_loss: 1.2756 - val_categorical_accuracy: 0.7736\n",
            "Epoch 81/200\n",
            "109/109 [==============================] - 21s 197ms/step - loss: 1.2764 - categorical_accuracy: 0.7731 - val_loss: 1.2655 - val_categorical_accuracy: 0.7733\n",
            "Epoch 82/200\n",
            "109/109 [==============================] - 25s 232ms/step - loss: 1.2710 - categorical_accuracy: 0.7728 - val_loss: 1.2753 - val_categorical_accuracy: 0.7720\n",
            "Epoch 83/200\n",
            "109/109 [==============================] - 24s 223ms/step - loss: 1.2648 - categorical_accuracy: 0.7743 - val_loss: 1.2580 - val_categorical_accuracy: 0.7745\n",
            "Epoch 84/200\n",
            "109/109 [==============================] - 23s 212ms/step - loss: 1.2649 - categorical_accuracy: 0.7735 - val_loss: 1.2451 - val_categorical_accuracy: 0.7767\n",
            "Epoch 85/200\n",
            "109/109 [==============================] - 22s 203ms/step - loss: 1.2493 - categorical_accuracy: 0.7756 - val_loss: 1.2357 - val_categorical_accuracy: 0.7787\n",
            "Epoch 86/200\n",
            "109/109 [==============================] - 22s 206ms/step - loss: 1.2447 - categorical_accuracy: 0.7760 - val_loss: 1.2389 - val_categorical_accuracy: 0.7786\n",
            "Epoch 87/200\n",
            "109/109 [==============================] - 22s 199ms/step - loss: 1.2477 - categorical_accuracy: 0.7752 - val_loss: 1.2539 - val_categorical_accuracy: 0.7730\n",
            "Epoch 88/200\n",
            "109/109 [==============================] - 22s 200ms/step - loss: 1.2532 - categorical_accuracy: 0.7742 - val_loss: 1.2456 - val_categorical_accuracy: 0.7756\n",
            "Epoch 89/200\n",
            "109/109 [==============================] - 23s 209ms/step - loss: 1.2383 - categorical_accuracy: 0.7761 - val_loss: 1.2292 - val_categorical_accuracy: 0.7784\n",
            "Epoch 90/200\n",
            "109/109 [==============================] - 22s 201ms/step - loss: 1.2334 - categorical_accuracy: 0.7778 - val_loss: 1.2178 - val_categorical_accuracy: 0.7795\n",
            "Epoch 91/200\n",
            "109/109 [==============================] - 24s 223ms/step - loss: 1.2364 - categorical_accuracy: 0.7768 - val_loss: 1.2120 - val_categorical_accuracy: 0.7800\n",
            "Epoch 92/200\n",
            "109/109 [==============================] - 20s 187ms/step - loss: 1.2240 - categorical_accuracy: 0.7780 - val_loss: 1.2240 - val_categorical_accuracy: 0.7788\n",
            "Epoch 93/200\n",
            "109/109 [==============================] - 22s 203ms/step - loss: 1.2311 - categorical_accuracy: 0.7772 - val_loss: 1.2183 - val_categorical_accuracy: 0.7773\n",
            "Epoch 94/200\n",
            "109/109 [==============================] - 24s 220ms/step - loss: 1.2308 - categorical_accuracy: 0.7766 - val_loss: 1.2195 - val_categorical_accuracy: 0.7784\n",
            "Epoch 95/200\n",
            "109/109 [==============================] - 21s 192ms/step - loss: 1.2247 - categorical_accuracy: 0.7773 - val_loss: 1.2111 - val_categorical_accuracy: 0.7773\n",
            "Epoch 96/200\n",
            "109/109 [==============================] - 22s 203ms/step - loss: 1.2241 - categorical_accuracy: 0.7774 - val_loss: 1.2128 - val_categorical_accuracy: 0.7790\n",
            "Epoch 97/200\n",
            "109/109 [==============================] - 21s 196ms/step - loss: 1.2168 - categorical_accuracy: 0.7785 - val_loss: 1.1968 - val_categorical_accuracy: 0.7814\n",
            "Epoch 98/200\n",
            "109/109 [==============================] - 22s 203ms/step - loss: 1.2059 - categorical_accuracy: 0.7806 - val_loss: 1.2144 - val_categorical_accuracy: 0.7787\n",
            "Epoch 99/200\n",
            "109/109 [==============================] - 23s 208ms/step - loss: 1.2027 - categorical_accuracy: 0.7802 - val_loss: 1.1806 - val_categorical_accuracy: 0.7831\n",
            "Epoch 100/200\n",
            "109/109 [==============================] - 21s 192ms/step - loss: 1.1933 - categorical_accuracy: 0.7821 - val_loss: 1.1999 - val_categorical_accuracy: 0.7792\n",
            "Epoch 101/200\n",
            "109/109 [==============================] - 22s 199ms/step - loss: 1.1943 - categorical_accuracy: 0.7813 - val_loss: 1.2200 - val_categorical_accuracy: 0.7760\n",
            "Epoch 102/200\n",
            "109/109 [==============================] - 21s 193ms/step - loss: 1.1932 - categorical_accuracy: 0.7814 - val_loss: 1.1588 - val_categorical_accuracy: 0.7861\n",
            "Epoch 103/200\n",
            "109/109 [==============================] - 22s 205ms/step - loss: 1.1897 - categorical_accuracy: 0.7819 - val_loss: 1.1708 - val_categorical_accuracy: 0.7853\n",
            "Epoch 104/200\n",
            "109/109 [==============================] - 20s 188ms/step - loss: 1.1779 - categorical_accuracy: 0.7841 - val_loss: 1.1672 - val_categorical_accuracy: 0.7845\n",
            "Epoch 105/200\n",
            "109/109 [==============================] - 21s 192ms/step - loss: 1.1785 - categorical_accuracy: 0.7827 - val_loss: 1.1855 - val_categorical_accuracy: 0.7821\n"
          ]
        }
      ],
      "source": [
        "model.compile(optimizer=optimizer,\n",
        "              loss=tf.keras.losses.CategoricalCrossentropy(),\n",
        "              metrics=[tf.keras.metrics.CategoricalAccuracy()])\n",
        "\n",
        "# Application du modele sur 200 epochs\n",
        "history = model.fit(train_data,\n",
        "                    validation_data=test_data,\n",
        "                    epochs=200)"
      ]
    },
    {
      "cell_type": "code",
      "execution_count": null,
      "metadata": {
        "id": "acnj74p1GKvX"
      },
      "outputs": [],
      "source": [
        "\n",
        "\n",
        "\n",
        "\n",
        "\n",
        "\n",
        "\n",
        "\n",
        "\n",
        "# Test d'une traduction\n",
        "\n",
        "for input_text , translation in test_data.take(1) :\n",
        "  fr_text = input_text\n",
        "  pred = model.predict_classes(inpt_text)\n",
        "  translation = translation\n",
        "\n",
        "\n",
        "# phrases en francais\n",
        "\n",
        "\n",
        "\n",
        "\n",
        "for indice in fr_text[0]:\n",
        "  for key , value in all_fr_tokens.items() :\n",
        "    if indice == value :\n",
        "      print(key)"
      ]
    },
    {
      "cell_type": "code",
      "execution_count": null,
      "metadata": {
        "id": "asq7NCjxIa6B"
      },
      "outputs": [],
      "source": []
    }
  ],
  "metadata": {
    "colab": {
      "provenance": []
    },
    "kernelspec": {
      "display_name": "Python 3",
      "name": "python3"
    },
    "language_info": {
      "name": "python"
    }
  },
  "nbformat": 4,
  "nbformat_minor": 0
}